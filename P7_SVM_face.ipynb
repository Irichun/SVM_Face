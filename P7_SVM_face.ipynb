{
 "cells": [
  {
   "cell_type": "code",
   "execution_count": 2,
   "id": "1aa4f910-6127-4d5d-94c4-c8ccce6e1eae",
   "metadata": {},
   "outputs": [],
   "source": [
    "import pandas as pd\n",
    "import numpy as np\n",
    "from matplotlib import pyplot as plt\n",
    "import cv2\n",
    "import os\n",
    "import re\n",
    "from sklearn.model_selection import cross_val_score  #交叉验证\n",
    "from sklearn.svm import SVC  #支持向量机\n",
    "from sklearn.metrics import accuracy_score  #混淆矩阵准确度\n",
    "from sklearn.metrics import classification_report  #混淆矩阵分类性能评估报告\n",
    "from sklearn.metrics import confusion_matrix    #混淆矩阵数组"
   ]
  },
  {
   "cell_type": "markdown",
   "id": "60e4fc9e-aa27-488c-85a3-b248676a03bc",
   "metadata": {},
   "source": [
    "## 说明：\n",
    "本程序为使用dlib库128维特征距离数据集进行SVM情感分类的简单实验"
   ]
  },
  {
   "cell_type": "code",
   "execution_count": 3,
   "id": "c0f95dd0-3a50-49e7-824b-67ea091214bb",
   "metadata": {},
   "outputs": [
    {
     "name": "stdout",
     "output_type": "stream",
     "text": [
      "DR_face_map:  [0 1 0 ... 1 0 1]\n",
      "DS_face_map:  [0 0 0 ... 1 0 0]\n",
      "DR_face:  ['smiling' 'serious' 'smiling' ... 'serious' 'smiling' 'serious']\n",
      "DS_face:  ['smiling' 'smiling' 'smiling' ... 'serious' 'smiling' 'smiling']\n"
     ]
    }
   ],
   "source": [
    "trainDistance = np.load(\"data/trainDistance.npy\")\n",
    "testDistance = np.load(\"data/testDistance.npy\")\n",
    "DS_face_map = np.load(\"data/DS_face_map.npy\")\n",
    "DR_face_map = np.load(\"data/DR_face_map.npy\")\n",
    "DS_face = np.load(\"data/DS_face.npy\",allow_pickle=True)\n",
    "DR_face = np.load(\"data/DR_face.npy\",allow_pickle=True)\n",
    "\n",
    "print(\"DR_face_map: \", DR_face_map)\n",
    "print(\"DS_face_map: \", DS_face_map)\n",
    "print(\"DR_face: \", DR_face)\n",
    "print(\"DS_face: \", DS_face)"
   ]
  },
  {
   "cell_type": "markdown",
   "id": "4930bc60-a22a-4dfd-8f6d-c38313cfc63a",
   "metadata": {},
   "source": [
    "不处理"
   ]
  },
  {
   "cell_type": "code",
   "execution_count": 11,
   "id": "7ecaff23-6d56-47fb-99df-927ef7b6d1c2",
   "metadata": {},
   "outputs": [
    {
     "data": {
      "text/plain": [
       "SVC()"
      ]
     },
     "execution_count": 11,
     "metadata": {},
     "output_type": "execute_result"
    }
   ],
   "source": [
    "#采用sklearn.svm.SVC，类似的有sklearn.svm.LinearSVC\n",
    "\n",
    "clf_ovoLinear = SVC(kernel='rbf')\n",
    "clf_ovoLinear.fit(trainDistance, DR_face)"
   ]
  },
  {
   "cell_type": "code",
   "execution_count": 12,
   "id": "e3a6a44e-fc21-456a-ad8e-22cd26c6e2d2",
   "metadata": {},
   "outputs": [
    {
     "name": "stdout",
     "output_type": "stream",
     "text": [
      "ovoLinear_accuracy =  0.6598196392785571\n",
      "分类结果报告： \n",
      "               precision    recall  f1-score   support\n",
      "\n",
      "       funny       0.00      0.00      0.00        63\n",
      "     serious       0.71      0.68      0.69      1097\n",
      "     smiling       0.60      0.69      0.64       836\n",
      "\n",
      "    accuracy                           0.66      1996\n",
      "   macro avg       0.44      0.45      0.45      1996\n",
      "weighted avg       0.64      0.66      0.65      1996\n",
      "\n"
     ]
    },
    {
     "name": "stderr",
     "output_type": "stream",
     "text": [
      "C:\\Users\\Rama\\anaconda3\\lib\\site-packages\\sklearn\\metrics\\_classification.py:1318: UndefinedMetricWarning: Precision and F-score are ill-defined and being set to 0.0 in labels with no predicted samples. Use `zero_division` parameter to control this behavior.\n",
      "  _warn_prf(average, modifier, msg_start, len(result))\n",
      "C:\\Users\\Rama\\anaconda3\\lib\\site-packages\\sklearn\\metrics\\_classification.py:1318: UndefinedMetricWarning: Precision and F-score are ill-defined and being set to 0.0 in labels with no predicted samples. Use `zero_division` parameter to control this behavior.\n",
      "  _warn_prf(average, modifier, msg_start, len(result))\n",
      "C:\\Users\\Rama\\anaconda3\\lib\\site-packages\\sklearn\\metrics\\_classification.py:1318: UndefinedMetricWarning: Precision and F-score are ill-defined and being set to 0.0 in labels with no predicted samples. Use `zero_division` parameter to control this behavior.\n",
      "  _warn_prf(average, modifier, msg_start, len(result))\n"
     ]
    }
   ],
   "source": [
    "ovoLinear_face_pre = clf_ovoLinear.predict(testDistance)\n",
    "ovoLinear_accuracy = accuracy_score(DS_face, ovoLinear_face_pre)\n",
    "print('ovoLinear_accuracy = ', ovoLinear_accuracy)\n",
    "print('分类结果报告：', '\\n', classification_report(DS_face, ovoLinear_face_pre))"
   ]
  },
  {
   "cell_type": "markdown",
   "id": "04748ac0-6de4-44fd-8d66-ff2c7282d685",
   "metadata": {},
   "source": [
    "SMOTE过采样"
   ]
  },
  {
   "cell_type": "code",
   "execution_count": 4,
   "id": "a3985db2-33c7-413b-b738-5a0e990bef48",
   "metadata": {},
   "outputs": [
    {
     "data": {
      "text/plain": [
       "(3129, 128)"
      ]
     },
     "execution_count": 4,
     "metadata": {},
     "output_type": "execute_result"
    }
   ],
   "source": [
    "from imblearn.over_sampling import SMOTE\n",
    "imb_SMOTE = SMOTE(random_state = 0)\n",
    "trainDistance_SMOTE, DR_face_SMOTE = imb_SMOTE.fit_resample(trainDistance, DR_face)\n",
    "trainDistance_SMOTE.shape"
   ]
  },
  {
   "cell_type": "code",
   "execution_count": 5,
   "id": "8cb3f5e0-ebdf-4c1a-b648-8ac0db3bfeea",
   "metadata": {},
   "outputs": [
    {
     "name": "stdout",
     "output_type": "stream",
     "text": [
      "         face\n",
      "0     smiling\n",
      "1     serious\n",
      "2     smiling\n",
      "3     smiling\n",
      "4     serious\n",
      "...       ...\n",
      "3124  serious\n",
      "3125  serious\n",
      "3126  serious\n",
      "3127  serious\n",
      "3128  serious\n",
      "\n",
      "[3129 rows x 1 columns]\n",
      "smiling    1043\n",
      "serious    1043\n",
      "funny      1043\n",
      "Name: face, dtype: int64\n"
     ]
    }
   ],
   "source": [
    "SMOTE_face_dataframe = pd.DataFrame(data =  {'face':DR_face_SMOTE})\n",
    "print(SMOTE_face_dataframe)\n",
    "SMOTE_face_count = SMOTE_face_dataframe['face'].value_counts()\n",
    "print(SMOTE_face_count)"
   ]
  },
  {
   "cell_type": "code",
   "execution_count": 6,
   "id": "7417a857-7506-4db0-8e95-e42df184fd74",
   "metadata": {},
   "outputs": [
    {
     "data": {
      "text/plain": [
       "SVC(kernel='linear')"
      ]
     },
     "execution_count": 6,
     "metadata": {},
     "output_type": "execute_result"
    }
   ],
   "source": [
    "#采用sklearn.svm.SVC，类似的有sklearn.svm.LinearSVC\n",
    "\n",
    "clf_ovoLinear_SMOTE = SVC(kernel='linear')\n",
    "clf_ovoLinear_SMOTE.fit(trainDistance_SMOTE, DR_face_SMOTE)"
   ]
  },
  {
   "cell_type": "code",
   "execution_count": 8,
   "id": "4d094a77-0af8-4d5f-8473-c7c8ee6923a5",
   "metadata": {},
   "outputs": [
    {
     "name": "stdout",
     "output_type": "stream",
     "text": [
      "ovoLinear_SMOTE_accuracy =  0.469438877755511\n",
      "分类结果报告： \n",
      "               precision    recall  f1-score   support\n",
      "\n",
      "       funny       0.05      0.54      0.09        63\n",
      "     serious       0.70      0.48      0.57      1097\n",
      "     smiling       0.65      0.45      0.53       836\n",
      "\n",
      "    accuracy                           0.47      1996\n",
      "   macro avg       0.47      0.49      0.40      1996\n",
      "weighted avg       0.66      0.47      0.54      1996\n",
      "\n"
     ]
    }
   ],
   "source": [
    "ovoLinear_SMOTE_face_pre = clf_ovoLinear_SMOTE.predict(testDistance)\n",
    "ovoLinear_SMOTE_accuracy = accuracy_score(DS_face, ovoLinear_SMOTE_face_pre)\n",
    "print('ovoLinear_SMOTE_accuracy = ', ovoLinear_SMOTE_accuracy)\n",
    "print('分类结果报告：', '\\n', classification_report(DS_face, ovoLinear_SMOTE_face_pre))"
   ]
  },
  {
   "cell_type": "code",
   "execution_count": null,
   "id": "1d3c20df-d6d2-4ff3-82dc-64c1fe7a93d9",
   "metadata": {},
   "outputs": [],
   "source": []
  }
 ],
 "metadata": {
  "kernelspec": {
   "display_name": "Python 3 (ipykernel)",
   "language": "python",
   "name": "python3"
  },
  "language_info": {
   "codemirror_mode": {
    "name": "ipython",
    "version": 3
   },
   "file_extension": ".py",
   "mimetype": "text/x-python",
   "name": "python",
   "nbconvert_exporter": "python",
   "pygments_lexer": "ipython3",
   "version": "3.9.13"
  }
 },
 "nbformat": 4,
 "nbformat_minor": 5
}
