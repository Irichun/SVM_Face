{
 "cells": [
  {
   "cell_type": "code",
   "execution_count": 6,
   "id": "242661b1",
   "metadata": {},
   "outputs": [],
   "source": [
    "import pandas as pd\n",
    "import numpy as np\n",
    "from matplotlib import pyplot as plt\n",
    "import cv2\n",
    "import os\n",
    "import re\n",
    "import dlib\n",
    "import random\n",
    "from sklearn.metrics import accuracy_score  #混淆矩阵准确度"
   ]
  },
  {
   "cell_type": "markdown",
   "id": "43bc629b-eee3-440c-a61d-b7814fed09ad",
   "metadata": {},
   "source": [
    "### 说明：\n",
    "此程序用于读取原始图片数据并构建数据集，得到数据集相对应的npy文件：<br\\>\n",
    "1. trainDistance.npy与testDistance.npy：使用dlib库得到的128维特征距离数据集<br\\>\n",
    "2. trainPCA.npy与testPCA.npy：使用PCA特征降维得到的PCA数据集<br\\>\n",
    "3. trainLBP.npy与testLBP.npy：使用LBP图像处理后得到的直方图特征数据集<br\\>\n",
    "4. trainLBP_PCA.npy与testLBP_PCA.npy：使用LBP图像处理后再经过PCA特征降维得到的LBP_PCA数据集"
   ]
  },
  {
   "cell_type": "markdown",
   "id": "a2ee6092",
   "metadata": {
    "jp-MarkdownHeadingCollapsed": true,
    "tags": []
   },
   "source": [
    "# 一.读取有效人脸数据的标号"
   ]
  },
  {
   "cell_type": "markdown",
   "id": "d51c91be-6f6b-48f3-b516-6d9463a8df30",
   "metadata": {
    "tags": []
   },
   "source": [
    "#### 1. 直接读取已有性别标签，均为二值化后的标签（male = 1, female = 0），DR为训练集，DS为测试集"
   ]
  },
  {
   "cell_type": "code",
   "execution_count": 28,
   "id": "3fc40bda-9794-48e2-a34a-591e578199de",
   "metadata": {},
   "outputs": [
    {
     "name": "stdout",
     "output_type": "stream",
     "text": [
      "DR:  [1 1 1 ... 0 0 0]\n",
      "DS:  [0 0 1 ... 0 0 0]\n"
     ]
    }
   ],
   "source": [
    "DS_sex_map = np.load(\"data/DS_sex_map.npy\")\n",
    "DR_sex_map = np.load(\"data/DR_sex_map.npy\")\n",
    "print(\"DR: \", DR_sex_map)\n",
    "print(\"DS: \", DS_sex_map)"
   ]
  },
  {
   "cell_type": "markdown",
   "id": "5641176d-c9ea-4f5e-ac88-03b5707eca3d",
   "metadata": {
    "tags": []
   },
   "source": [
    "#### 2. 得到有效训练集标签的序号集合face_DR_num"
   ]
  },
  {
   "cell_type": "code",
   "execution_count": 29,
   "id": "3239e98d-c47f-477d-934a-2aec7e5935d0",
   "metadata": {
    "tags": []
   },
   "outputs": [],
   "source": [
    "#face_DR: 训练集标签\n",
    "with open(\"data/faceDR\", 'r') as f:\n",
    "    face_DR = f.read()"
   ]
  },
  {
   "cell_type": "code",
   "execution_count": 30,
   "id": "d917228e-5239-481a-9013-d1cf23ed9ddf",
   "metadata": {},
   "outputs": [
    {
     "name": "stdout",
     "output_type": "stream",
     "text": [
      "原始数据标签个数 = 1997\n",
      "         sex     age   race     face\n",
      "1223    male   child  white  smiling\n",
      "1224    male   child  white  serious\n",
      "1225    male   child  white  smiling\n",
      "1226    male   child  white  smiling\n",
      "1227    male   child  white  serious\n",
      "...      ...     ...    ...      ...\n",
      "3218  female  senior  white  serious\n",
      "3219  female  senior  white  smiling\n",
      "3220  female   adult  asian  serious\n",
      "3221  female  senior  white  smiling\n",
      "3222  female  senior  black  serious\n",
      "\n",
      "[1997 rows x 4 columns]\n",
      "\n",
      "训练集数据统计：\n",
      "         sex    age   race     face\n",
      "count   1997   1997   1997     1997\n",
      "unique     2      4      5        3\n",
      "top     male  adult  white  smiling\n",
      "freq    1150   1438   1840     1043\n",
      "\n",
      "wrong = [1228, 1232, 1808, 2412, 2416] \n",
      "\n",
      "有效标签face_DR_num数量为： 1995\n",
      "噪声标签face_DR_wrong数量为： 5\n",
      "噪声样本序号： [1228, 1232, 1808, 2412, 2416]\n"
     ]
    }
   ],
   "source": [
    "face_DR_num = re.findall(\"\\d+(?=\\s\\(_sex)\", face_DR)    #可用图片标号\n",
    "face_DR_wrong = re.findall(\"\\d+(?=\\s\\(_miss)\", face_DR)    #缺失标签值的图片标号\n",
    "\n",
    "\n",
    "for index, num in enumerate(face_DR_num):\n",
    "    face_DR_num[index]=int(face_DR_num[index])\n",
    "\n",
    "for index, wrong in enumerate(face_DR_wrong):\n",
    "    face_DR_wrong[index]=int(wrong)\n",
    "\n",
    "\n",
    "face_DR_sex = re.findall(\"(?<=sex\\s\\s)\\w+\", face_DR)    #有效性别标签\n",
    "face_DR_age = re.findall(\"(?<=age\\s\\s)\\w+\", face_DR)    #有效年龄标签\n",
    "face_DR_race = re.findall(\"(?<=race\\s)\\w+\", face_DR)    #有效种族标签\n",
    "face_DR_face = re.findall(\"(?<=face\\s)\\w+\", face_DR)    #有效情感标签\n",
    "    \n",
    "print(\"原始数据标签个数 =\", len(face_DR_num))\n",
    "\n",
    "#将face_DR_num中含有的噪声标签去除（放入face_DR_wrong中），并对两个列表中的字符串数值化   \n",
    "face_DR_data = {'sex':face_DR_sex, 'age':face_DR_age, 'race':face_DR_race, 'face':face_DR_face}\n",
    "face_DR_dataframe = pd.DataFrame(data = face_DR_data, index = face_DR_num)\n",
    "print(face_DR_dataframe)\n",
    "print('\\n训练集数据统计：')\n",
    "print(face_DR_dataframe.describe())\n",
    "\n",
    "#经测试发现，2412号、2416图片格式有问题，无法读取\n",
    "face_DR_dataframe.drop([2412,2416], axis=0, inplace=True)\n",
    "face_DR_wrong.extend([2412,2416])\n",
    "face_DR_num.remove(2412)\n",
    "face_DR_num.remove(2416)\n",
    "print()\n",
    "print('wrong =',face_DR_wrong, '\\n')      \n",
    "print(\"有效标签face_DR_num数量为：\", len(face_DR_num))\n",
    "print(\"噪声标签face_DR_wrong数量为：\", len(face_DR_wrong))\n",
    "print(\"噪声样本序号：\", face_DR_wrong)\n",
    "\n",
    "# print(face_DR_num)"
   ]
  },
  {
   "cell_type": "markdown",
   "id": "4cc687dd-4354-4dab-9838-c4743d7924ef",
   "metadata": {
    "tags": []
   },
   "source": [
    "#### 3. 得到有效测试集标签的序号集合face_DS_num"
   ]
  },
  {
   "cell_type": "code",
   "execution_count": 31,
   "id": "b2a907c0-62cb-4194-9ed7-5e748973a0f2",
   "metadata": {},
   "outputs": [],
   "source": [
    "with open(\"data/faceDS\", 'r') as f:\n",
    "    face_DS = f.read()"
   ]
  },
  {
   "cell_type": "code",
   "execution_count": 32,
   "id": "d5637c3c-a006-4d69-ad67-1a2029a9687b",
   "metadata": {},
   "outputs": [
    {
     "name": "stdout",
     "output_type": "stream",
     "text": [
      "原始数据标签个数 = 1996\n",
      "         sex     age   race     face\n",
      "3223  female  senior  black  smiling\n",
      "3224  female   adult  black  smiling\n",
      "3225    male  senior  white  smiling\n",
      "3226    male  senior  white  serious\n",
      "3227    male  senior  white  serious\n",
      "...      ...     ...    ...      ...\n",
      "5218  female   adult  white  smiling\n",
      "5219  female   adult  white  smiling\n",
      "5220  female   adult  white  serious\n",
      "5221  female   adult  white  smiling\n",
      "5222  female   adult  white  smiling\n",
      "\n",
      "[1996 rows x 4 columns]\n",
      "\n",
      "训练集数据统计：\n",
      "         sex    age   race     face\n",
      "count   1996   1996   1996     1996\n",
      "unique     2      4      5        3\n",
      "top     male  adult  white  serious\n",
      "freq    1277   1730   1699     1097\n",
      "\n",
      "wrong = [4056, 4135, 4136, 5004]\n",
      "有效标签face_DR_num数量为： 1996\n",
      "噪声标签face_DR_wrong数量为： 4\n",
      "噪声样本序号： [4056, 4135, 4136, 5004]\n"
     ]
    }
   ],
   "source": [
    "face_DS_num = re.findall(\"\\d+(?=\\s\\(_sex)\", face_DS)    #可用图片标号\n",
    "face_DS_wrong = re.findall(\"\\d+(?=\\s\\(_miss)\", face_DS)    #缺失标签值的图片标号\n",
    "\n",
    "for index, num in enumerate(face_DS_num):\n",
    "    face_DS_num[index]=int(face_DS_num[index])\n",
    "\n",
    "for index, wrong in enumerate(face_DS_wrong):\n",
    "    face_DS_wrong[index]=int(wrong)\n",
    "\n",
    "\n",
    "face_DS_sex = re.findall(\"(?<=sex\\s\\s)\\w+\", face_DS)    #有效性别标签\n",
    "face_DS_age = re.findall(\"(?<=age\\s\\s)\\w+\", face_DS)    #有效年龄标签\n",
    "face_DS_race = re.findall(\"(?<=race\\s)\\w+\", face_DS)    #有效种族标签\n",
    "face_DS_face = re.findall(\"(?<=face\\s)\\w+\", face_DS)    #有效情感标签\n",
    "    \n",
    "print(\"原始数据标签个数 =\", len(face_DS_num))\n",
    "    \n",
    "face_DS_data = {'sex':face_DS_sex, 'age':face_DS_age, 'race':face_DS_race, 'face':face_DS_face}\n",
    "face_DS_dataframe = pd.DataFrame(data = face_DS_data, index = face_DS_num)\n",
    "print(face_DS_dataframe)\n",
    "print('\\n训练集数据统计：')\n",
    "print(face_DS_dataframe.describe())\n",
    "print()\n",
    "print('wrong =',face_DS_wrong)      \n",
    "print(\"有效标签face_DR_num数量为：\", len(face_DS_num))\n",
    "print(\"噪声标签face_DR_wrong数量为：\", len(face_DS_wrong))\n",
    "print(\"噪声样本序号：\", face_DS_wrong)\n",
    "\n",
    "# print(face_DS_num)"
   ]
  },
  {
   "cell_type": "markdown",
   "id": "e41e9d9c",
   "metadata": {
    "jp-MarkdownHeadingCollapsed": true,
    "tags": []
   },
   "source": [
    "# 二.读取人脸数据"
   ]
  },
  {
   "cell_type": "markdown",
   "id": "fd993fa8-602f-4d76-9eb9-9e5ddf0ba41d",
   "metadata": {
    "tags": []
   },
   "source": [
    "注意：人脸数据读取包含将数据转换为特征提取函数所需要的格式，对于dlib需要将灰度图转为RGB图，对于PCA特征降维需要每张图像只有1维，故两种特征降维所需的数据集构建代码有略微不同"
   ]
  },
  {
   "cell_type": "markdown",
   "id": "f0ddc87d",
   "metadata": {},
   "source": [
    "训练集face_DR"
   ]
  },
  {
   "cell_type": "code",
   "execution_count": 37,
   "id": "ad8af4d2",
   "metadata": {},
   "outputs": [
    {
     "name": "stdout",
     "output_type": "stream",
     "text": [
      "OK,Last filenum is : 3222\n"
     ]
    }
   ],
   "source": [
    "DRList = []\n",
    "for filenum in face_DR_num:\n",
    "        # with open(os.getcwd() + \"\\\\rawdata\\\\\" + str(filenum), 'rb') as img_ori:\n",
    "        with open('data/rawdata/'+str(filenum), 'rb') as img_ori:\n",
    "#             print(filenum)\n",
    "            # #dlib代码段\n",
    "            # img_data = np.frombuffer(img_ori.read(), dtype = np.uint8).reshape(128, 128)\n",
    "            # img_data = cv2.cvtColor(img_data, cv2.COLOR_GRAY2BGR)    #dlib所需代码：原图为灰度图，而dlib读取RGB图，故需要做格式转换\n",
    "            \n",
    "            # #PCA代码段\n",
    "            # img_data = np.frombuffer(img_ori.read(), dtype = np.uint8)\n",
    "            \n",
    "            #LBP代码段\n",
    "            img_data = np.frombuffer(img_ori.read(), dtype = np.uint8).reshape(128, 128)\n",
    "            \n",
    "        # cv2.namedWindow('img1', cv2.WINDOW_FREERATIO|cv2.WINDOW_NORMAL)\n",
    "        # cv2.imshow('img1', img_data)\n",
    "        # cv2.waitKey(0)\n",
    "        # cv2.destroyWindow('img1')\n",
    "            DRList.append(img_data)\n",
    "print(\"OK,Last filenum is :\", filenum)\n",
    "trainData = np.array(DRList)\n",
    "        "
   ]
  },
  {
   "cell_type": "code",
   "execution_count": 38,
   "id": "9a9b2046",
   "metadata": {},
   "outputs": [
    {
     "name": "stdout",
     "output_type": "stream",
     "text": [
      "1995\n",
      "(1995, 128, 128)\n"
     ]
    }
   ],
   "source": [
    "print(len(DRList))\n",
    "print(trainData.shape)"
   ]
  },
  {
   "cell_type": "markdown",
   "id": "79b2ecdc",
   "metadata": {},
   "source": [
    "测试集face_DS"
   ]
  },
  {
   "cell_type": "code",
   "execution_count": 39,
   "id": "90de9866",
   "metadata": {},
   "outputs": [
    {
     "name": "stdout",
     "output_type": "stream",
     "text": [
      "OK,Last filenum is : 5222\n"
     ]
    }
   ],
   "source": [
    "DSList = []\n",
    "for filenum in face_DS_num:\n",
    "        # with open(os.getcwd() + \"\\\\rawdata\\\\\" + str(filenum), 'rb') as img_ori:\n",
    "        with open('data/rawdata/'+str(filenum), 'rb') as img_ori:\n",
    "#             print(filenum)\n",
    "            # #dlib代码段\n",
    "            # img_data2 = np.frombuffer(img_ori.read(), dtype = np.uint8).reshape(128, 128)\n",
    "            # img_data2 = cv2.cvtColor(img_data2, cv2.COLOR_GRAY2BGR)    #dlib所需代码：原图为灰度图，而dlib读取RGB图，故需要做格式转换\n",
    "            \n",
    "            # #PCA代码段\n",
    "            # img_data2 = np.frombuffer(img_ori.read(), dtype = np.uint8)\n",
    "            \n",
    "            #LBP代码段\n",
    "            img_data2 = np.frombuffer(img_ori.read(), dtype = np.uint8).reshape(128, 128)\n",
    "            \n",
    "        # cv2.namedWindow('img1', cv2.WINDOW_FREERATIO|cv2.WINDOW_NORMAL)\n",
    "        # cv2.imshow('img1', img_data2)\n",
    "        # cv2.waitKey(0)\n",
    "        # cv2.destroyWindow('img1')\n",
    "            DSList.append(img_data2)\n",
    "testData = np.array(DSList)\n",
    "print(\"OK,Last filenum is :\", filenum)"
   ]
  },
  {
   "cell_type": "code",
   "execution_count": 40,
   "id": "cfd84f05",
   "metadata": {},
   "outputs": [
    {
     "name": "stdout",
     "output_type": "stream",
     "text": [
      "1996\n",
      "(1996, 128, 128)\n"
     ]
    }
   ],
   "source": [
    "print(len(DSList))\n",
    "print(testData.shape)"
   ]
  },
  {
   "cell_type": "markdown",
   "id": "d2c43352",
   "metadata": {
    "tags": []
   },
   "source": [
    "# 三.特征提取"
   ]
  },
  {
   "cell_type": "markdown",
   "id": "36d59d1f-9574-4a63-842e-8b2386f4d200",
   "metadata": {
    "jp-MarkdownHeadingCollapsed": true,
    "tags": []
   },
   "source": [
    "## 1. dlib"
   ]
  },
  {
   "cell_type": "markdown",
   "id": "6df7e317-a029-49d2-94a7-5c3001f0b096",
   "metadata": {
    "tags": []
   },
   "source": [
    "### 1.1. 使用dlib库，提取128维特征向量"
   ]
  },
  {
   "cell_type": "markdown",
   "id": "45960e28",
   "metadata": {},
   "source": [
    "训练集：框选人脸、提取68个特征点、转换为128个特征距离，保存在文件trainDistance.npy中"
   ]
  },
  {
   "cell_type": "code",
   "execution_count": 17,
   "id": "80b115a1",
   "metadata": {},
   "outputs": [
    {
     "name": "stdout",
     "output_type": "stream",
     "text": [
      "OK\n"
     ]
    }
   ],
   "source": [
    "detector = dlib.get_frontal_face_detector()    #获取人脸位置检测器\n",
    "predictor = dlib.shape_predictor('shape_predictor_68_face_landmarks.dat')    #获取人脸68个特征点的模型\n",
    "face_rec_model = dlib.face_recognition_model_v1('dlib_face_recognition_resnet_model_v1.dat')    #计算128个特征距离的模型\n",
    "trainDistance = []\n",
    "\n",
    "for dataDR in trainData:\n",
    "    detect_face = detector(dataDR, 1)    #1表示上采样，即将图片放大后再进行采样，能够捕获更精准的特征点\n",
    "    for face in detect_face:    #通过循环拿出dectector的输出\n",
    "        face_left = face.left()\n",
    "        face_top = face.top()\n",
    "        face_right = face.right()\n",
    "        face_bottom = face.bottom() \n",
    "    predict_shape = predictor(dataDR, face)    #获取68个特征点\n",
    "    descriptor_distance = face_rec_model.compute_face_descriptor(dataDR, predict_shape)   # 计算人脸的128维的向量\n",
    "    face_distance = np.array(descriptor_distance)\n",
    "    trainDistance.append(face_distance)\n",
    "trainDistance = np.array(trainDistance)\n",
    "print('OK')"
   ]
  },
  {
   "cell_type": "markdown",
   "id": "835272f9",
   "metadata": {},
   "source": [
    "保存128维特征提取后的测试集数据trainDistance"
   ]
  },
  {
   "cell_type": "code",
   "execution_count": 18,
   "id": "9fc6fe16",
   "metadata": {},
   "outputs": [
    {
     "name": "stdout",
     "output_type": "stream",
     "text": [
      "(1995, 128)\n"
     ]
    }
   ],
   "source": [
    "print(trainDistance.shape)\n",
    "np.save('data/trainDistance.npy',trainDistance)"
   ]
  },
  {
   "cell_type": "code",
   "execution_count": 15,
   "id": "c8ced03a",
   "metadata": {},
   "outputs": [
    {
     "name": "stdout",
     "output_type": "stream",
     "text": [
      "OK\n"
     ]
    }
   ],
   "source": [
    "testDistance = []\n",
    "\n",
    "for dataDS in testData:\n",
    "    detect_face = detector(dataDS, 1)    #1表示上采样，即将图片放大后再进行采样，能够捕获更精准的特征点\n",
    "    for face in detect_face:    #通过循环拿出dectector的输出\n",
    "        face_left = face.left()\n",
    "        face_top = face.top()\n",
    "        face_right = face.right()\n",
    "        face_bottom = face.bottom() \n",
    "    predict_shape = predictor(dataDS, face)    #获取68个特征点\n",
    "    descriptor_distance = face_rec_model.compute_face_descriptor(dataDS, predict_shape)   # 计算人脸的128维的向量\n",
    "    face_distance = np.array(descriptor_distance)\n",
    "    testDistance.append(face_distance)\n",
    "testDistance = np.array(testDistance)\n",
    "print('OK')"
   ]
  },
  {
   "cell_type": "markdown",
   "id": "7e9cd956",
   "metadata": {},
   "source": [
    "保存128维特征提取后的测试集数据testDistance"
   ]
  },
  {
   "cell_type": "code",
   "execution_count": 16,
   "id": "ab11761a",
   "metadata": {},
   "outputs": [
    {
     "name": "stdout",
     "output_type": "stream",
     "text": [
      "(1996, 128)\n"
     ]
    }
   ],
   "source": [
    "print(testDistance.shape)\n",
    "np.save('data/testDistance.npy',testDistance)"
   ]
  },
  {
   "cell_type": "markdown",
   "id": "9099d456",
   "metadata": {
    "tags": []
   },
   "source": [
    "### 1.2 使用已保存数据"
   ]
  },
  {
   "cell_type": "markdown",
   "id": "592fb55d",
   "metadata": {},
   "source": [
    "提取已经保存的数据，包括特征提取后的训练集、测试集"
   ]
  },
  {
   "cell_type": "code",
   "execution_count": 41,
   "id": "a338ed10",
   "metadata": {},
   "outputs": [],
   "source": [
    "trainDistance = np.load(\"data/trainDistance.npy\")\n",
    "testDistance = np.load(\"data/testDistance.npy\")"
   ]
  },
  {
   "cell_type": "markdown",
   "id": "d6e11a1e",
   "metadata": {
    "jp-MarkdownHeadingCollapsed": true,
    "tags": []
   },
   "source": [
    "### 1.3. 人为缺失处理数据集"
   ]
  },
  {
   "cell_type": "markdown",
   "id": "201fcb77",
   "metadata": {},
   "source": [
    "人为缺失处理"
   ]
  },
  {
   "cell_type": "code",
   "execution_count": 50,
   "id": "93e26f3f",
   "metadata": {},
   "outputs": [
    {
     "name": "stdout",
     "output_type": "stream",
     "text": [
      "[[-0.08311319  0.12789069  0.05884737 ... -0.0417239   0.00263459\n",
      "   0.00527312]\n",
      " [-0.05103534  0.06329278  0.01437696 ... -0.06646086 -0.01228606\n",
      "   0.00272296]\n",
      " [-0.02542816  0.08831352  0.01665347 ... -0.07931156 -0.03078483\n",
      "   0.01637198]\n",
      " ...\n",
      " [-0.0888584   0.06804135  0.05436802 ... -0.0502172   0.0533386\n",
      "  -0.03298165]\n",
      " [-0.20258141  0.07210553  0.09496535 ... -0.00206966  0.03433651\n",
      "   0.04333162]\n",
      " [-0.16620389  0.10363004  0.19767158 ... -0.04525024 -0.05682612\n",
      "   0.00479566]]\n"
     ]
    }
   ],
   "source": [
    "#训练集缺失处理，特征缺失数量Missnmu设为200\n",
    "trainDistance_tran = np.array(trainDistance)\n",
    "train_tranList = [[x, y] for x in range(len(DRList)) for y in range(128)]    #生成二维空间坐标列表，以供随机取点，维度1995x128，等同于trainDistance\n",
    "Missnum = 200    #有200个特征缺失\n",
    "train_MissList = random.sample(train_tranList, Missnum)    #缺失位置列表\n",
    "for x, y in train_MissList:\n",
    "    trainDistance_tran[x][y] = np.nan\n",
    "# print(trainDistance_tran)\n"
   ]
  },
  {
   "cell_type": "code",
   "execution_count": 20,
   "id": "dfc97f8c",
   "metadata": {},
   "outputs": [],
   "source": [
    "#训练集缺失处理，特征缺失数量Missnmu设为25536，len(DRList) = 1995\n",
    "trainDistance_tran = np.array(trainDistance)\n",
    "train_tranList = [[x, y] for x in range(len(DRList)) for y in range(128)]    #生成二维空间坐标列表，以供随机取点，维度1995x128，等同于trainDistance\n",
    "Missnum = 25536    #有25536个特征缺失\n",
    "train_MissList = random.sample(train_tranList, Missnum)    #缺失位置列表\n",
    "for x, y in train_MissList:\n",
    "    trainDistance_tran[x][y] = np.nan\n",
    "# print(trainDistance_tran)\n"
   ]
  },
  {
   "cell_type": "markdown",
   "id": "67948516",
   "metadata": {},
   "source": [
    "保存缺失处理后的训练数据trainDistance_tran以及缺失位置的坐标train_MissList。"
   ]
  },
  {
   "cell_type": "code",
   "execution_count": null,
   "id": "2c22f30c",
   "metadata": {},
   "outputs": [],
   "source": [
    "np.save('trainDistance_tran.npy',trainDistance_tran)\n",
    "np.save('train_MissList.npy',np.array(train_MissList))\n",
    "print(np.load('trainDistance_tran.npy').shape)\n",
    "print(np.load('train_MissList.npy').shape)"
   ]
  },
  {
   "cell_type": "code",
   "execution_count": 22,
   "id": "afb461c0",
   "metadata": {},
   "outputs": [
    {
     "name": "stdout",
     "output_type": "stream",
     "text": [
      "(1995, 128)\n",
      "(25536, 2)\n"
     ]
    }
   ],
   "source": [
    "np.save('trainDistance_tran_25536.npy',trainDistance_tran)\n",
    "np.save('train_MissList_25536.npy',np.array(train_MissList))\n",
    "print(np.load('trainDistance_tran_25536.npy').shape)\n",
    "print(np.load('train_MissList_25536.npy').shape)"
   ]
  },
  {
   "cell_type": "code",
   "execution_count": 24,
   "id": "ecec001c",
   "metadata": {},
   "outputs": [
    {
     "name": "stdout",
     "output_type": "stream",
     "text": [
      "1995\n"
     ]
    }
   ],
   "source": [
    "print(len(DRList))"
   ]
  },
  {
   "cell_type": "markdown",
   "id": "9c44b0ca",
   "metadata": {},
   "source": [
    "### 1.4. 分类器简单验证dlib处理后的数据集的效果"
   ]
  },
  {
   "cell_type": "markdown",
   "id": "5b78b982",
   "metadata": {},
   "source": [
    "KNN分类器"
   ]
  },
  {
   "cell_type": "code",
   "execution_count": 42,
   "id": "d5135dd0",
   "metadata": {
    "tags": []
   },
   "outputs": [
    {
     "name": "stdout",
     "output_type": "stream",
     "text": [
      "knn_dlib.fit is ok\n"
     ]
    }
   ],
   "source": [
    "from sklearn.neighbors import KNeighborsClassifier\n",
    "knn_dlib = KNeighborsClassifier(10)\n",
    "knn_dlib.fit(trainDistance, DR_sex_map)\n",
    "print(\"knn_dlib.fit is ok\")"
   ]
  },
  {
   "cell_type": "code",
   "execution_count": 43,
   "id": "7249e1af-af24-414a-ba00-7dc508f538e2",
   "metadata": {
    "tags": []
   },
   "outputs": [
    {
     "name": "stdout",
     "output_type": "stream",
     "text": [
      "knn_dlib_accuracy =  0.9098196392785571\n"
     ]
    },
    {
     "name": "stderr",
     "output_type": "stream",
     "text": [
      "C:\\Users\\Rama\\anaconda3\\lib\\site-packages\\sklearn\\neighbors\\_classification.py:228: FutureWarning: Unlike other reduction functions (e.g. `skew`, `kurtosis`), the default behavior of `mode` typically preserves the axis it acts along. In SciPy 1.11.0, this behavior will change: the default value of `keepdims` will become False, the `axis` over which the statistic is taken will be eliminated, and the value None will no longer be accepted. Set `keepdims` to True or False to avoid this warning.\n",
      "  mode, _ = stats.mode(_y[neigh_ind, k], axis=1)\n"
     ]
    }
   ],
   "source": [
    "knn_dlib_pre = knn_dlib.predict(testDistance)\n",
    "knn_dlib_accuracy = accuracy_score(DS_sex_map, knn_dlib_pre)\n",
    "print('knn_dlib_accuracy = ', knn_dlib_accuracy)"
   ]
  },
  {
   "cell_type": "markdown",
   "id": "7a84d976",
   "metadata": {},
   "source": [
    "SVM分类器"
   ]
  },
  {
   "cell_type": "code",
   "execution_count": 44,
   "id": "823ddaee",
   "metadata": {},
   "outputs": [
    {
     "data": {
      "text/plain": [
       "SVC(kernel='linear')"
      ]
     },
     "execution_count": 44,
     "metadata": {},
     "output_type": "execute_result"
    }
   ],
   "source": [
    "#采用sklearn.svm.SVC，类似的有sklearn.svm.LinearSVC\n",
    "from sklearn.model_selection import cross_val_score\n",
    "from sklearn.svm import SVC\n",
    "clf = SVC(kernel='linear')\n",
    "clf.fit(trainDistance, DR_sex_map)"
   ]
  },
  {
   "cell_type": "code",
   "execution_count": 45,
   "id": "513d2728",
   "metadata": {},
   "outputs": [
    {
     "data": {
      "text/plain": [
       "0.9218436873747495"
      ]
     },
     "execution_count": 45,
     "metadata": {},
     "output_type": "execute_result"
    }
   ],
   "source": [
    "from sklearn.metrics import accuracy_score\n",
    "DS_sex_pred = clf.predict(testDistance)\n",
    "accuracy_score(DS_sex_map, DS_sex_pred)"
   ]
  },
  {
   "cell_type": "markdown",
   "id": "e5dae2b9-2674-426c-b006-9df7552b4d2a",
   "metadata": {
    "jp-MarkdownHeadingCollapsed": true,
    "tags": []
   },
   "source": [
    "## 2. PCA特征降维"
   ]
  },
  {
   "cell_type": "markdown",
   "id": "941a93e7-6d4b-43da-a166-9824d51b44dc",
   "metadata": {
    "tags": []
   },
   "source": [
    "### 2.1 PCA训练及输出数据集"
   ]
  },
  {
   "cell_type": "code",
   "execution_count": 9,
   "id": "779a92fd-c6cb-426a-b6ea-65e2a43da661",
   "metadata": {},
   "outputs": [],
   "source": [
    "from sklearn.decomposition import PCA"
   ]
  },
  {
   "cell_type": "code",
   "execution_count": 17,
   "id": "8d014f3b-5306-4c9e-a440-cc6d3dc4e4b0",
   "metadata": {},
   "outputs": [
    {
     "name": "stdout",
     "output_type": "stream",
     "text": [
      "Extracting the top 128 eigenfaces from 1995 faces\n",
      "Projecting the input data on the eigenfaces orthonormal basis\n"
     ]
    }
   ],
   "source": [
    "# #############################################################################\n",
    "# Compute a PCA (eigenfaces) on the face dataset (treated as unlabeled\n",
    "# dataset): unsupervised feature extraction / dimensionality reduction\n",
    "n_components = 128\n",
    "\n",
    "print(\"Extracting the top %d eigenfaces from %d faces\"\n",
    "      % (n_components, trainData.shape[0]))\n",
    "\n",
    "pca = PCA(n_components=n_components, svd_solver='randomized',\n",
    "          whiten=True).fit(trainData)\n",
    "\n",
    "eigenfaces = pca.components_.reshape((n_components, 128, 128))\n",
    "\n",
    "print(\"Projecting the input data on the eigenfaces orthonormal basis\")\n",
    "trainPCA = pca.transform(trainData)\n",
    "testPCA = pca.transform(testData)"
   ]
  },
  {
   "cell_type": "markdown",
   "id": "f9ac8b87-e4c0-463d-86be-1ce1c17c6d78",
   "metadata": {
    "tags": []
   },
   "source": [
    "### 2.2 特征脸预览"
   ]
  },
  {
   "cell_type": "code",
   "execution_count": 18,
   "id": "8c8e544f-794a-4812-a6be-6610df617339",
   "metadata": {},
   "outputs": [
    {
     "data": {
      "image/png": "[encoded data removed]",
      "text/plain": [
       "<Figure size 720x720 with 12 Axes>"
      ]
     },
     "metadata": {},
     "output_type": "display_data"
    }
   ],
   "source": [
    "def plot_gallery(images, titles, h, w, n_row=3, n_col=4):\n",
    "    \"\"\"Helper function to plot a gallery of portraits\"\"\"\n",
    "    plt.figure(figsize=(1.8 * n_col, 2.4 * n_row))\n",
    "    plt.subplots_adjust(bottom=0, left=.01, right=.99, top=.90, hspace=.35)\n",
    "    for i in range(n_row * n_col):\n",
    "        plt.subplot(n_row, n_col, i + 1)\n",
    "        plt.imshow(images[i].reshape((h, w)), cmap=plt.cm.gray)\n",
    "        plt.title(titles[i], size=12)\n",
    "        plt.xticks(())\n",
    "        plt.yticks(())\n",
    "\n",
    "\n",
    "# plot the gallery of the most significative eigenfaces\n",
    "\n",
    "eigenface_titles = [\"eigenface %d\" % i for i in range(eigenfaces.shape[0])]\n",
    "plot_gallery(eigenfaces, eigenface_titles, 128, 128)\n",
    "\n",
    "plt.show()"
   ]
  },
  {
   "cell_type": "markdown",
   "id": "ab5605ea-f70d-4bac-9c83-8812d6122ba1",
   "metadata": {},
   "source": [
    "保存PCA特征降维后的数据集"
   ]
  },
  {
   "cell_type": "code",
   "execution_count": 60,
   "id": "c76bfe7c-8296-40e5-bf94-c2356a1d22e6",
   "metadata": {},
   "outputs": [
    {
     "name": "stdout",
     "output_type": "stream",
     "text": [
      "trainPCA.shape =  (1995, 128)\n",
      "testPCA.shape =  (1996, 128)\n"
     ]
    }
   ],
   "source": [
    "#保存数据集\n",
    "print('trainPCA.shape = ', trainPCA.shape)\n",
    "np.save('trainPCA.npy',trainPCA)\n",
    "print('testPCA.shape = ', testPCA.shape)\n",
    "np.save('testPCA.npy',testPCA)"
   ]
  },
  {
   "cell_type": "code",
   "execution_count": 61,
   "id": "f3eaba0b-407f-409b-b8e1-40057a3426bc",
   "metadata": {},
   "outputs": [
    {
     "name": "stdout",
     "output_type": "stream",
     "text": [
      "trainPCA.shape =  (1995, 128)\n",
      "testPCA.shape =  (1996, 128)\n"
     ]
    }
   ],
   "source": [
    "#加载数据集\n",
    "trainPCA = np.load('trainPCA.npy')\n",
    "testPCA = np.load('testPCA.npy')\n",
    "print('trainPCA.shape = ', trainPCA.shape)\n",
    "print('testPCA.shape = ', testPCA.shape)"
   ]
  },
  {
   "cell_type": "markdown",
   "id": "10dfc31d-c236-4600-879a-9ffed4ad3dfb",
   "metadata": {},
   "source": [
    "### 2.3 简单分类器验证PCA特征降维后的数据集的效果"
   ]
  },
  {
   "cell_type": "markdown",
   "id": "55a6f76f-5c96-4e57-9f92-23ac607c73d5",
   "metadata": {},
   "source": [
    "KNN分类器"
   ]
  },
  {
   "cell_type": "code",
   "execution_count": 57,
   "id": "3568eeab-583c-489a-b808-2070e99be622",
   "metadata": {},
   "outputs": [
    {
     "name": "stdout",
     "output_type": "stream",
     "text": [
      "knn_PCA.fit is ok\n"
     ]
    }
   ],
   "source": [
    "from sklearn.neighbors import KNeighborsClassifier\n",
    "knn_PCA = KNeighborsClassifier(5)\n",
    "knn_PCA.fit(trainPCA, DR_sex_map)\n",
    "print(\"knn_PCA.fit is ok\")"
   ]
  },
  {
   "cell_type": "code",
   "execution_count": 58,
   "id": "be54b674-13db-4f6a-8d91-52e3ccccc4a5",
   "metadata": {},
   "outputs": [
    {
     "name": "stdout",
     "output_type": "stream",
     "text": [
      "knn_PCA_accuracy =  0.6222444889779559\n"
     ]
    },
    {
     "name": "stderr",
     "output_type": "stream",
     "text": [
      "C:\\Users\\Rama\\anaconda3\\lib\\site-packages\\sklearn\\neighbors\\_classification.py:228: FutureWarning: Unlike other reduction functions (e.g. `skew`, `kurtosis`), the default behavior of `mode` typically preserves the axis it acts along. In SciPy 1.11.0, this behavior will change: the default value of `keepdims` will become False, the `axis` over which the statistic is taken will be eliminated, and the value None will no longer be accepted. Set `keepdims` to True or False to avoid this warning.\n",
      "  mode, _ = stats.mode(_y[neigh_ind, k], axis=1)\n"
     ]
    }
   ],
   "source": [
    "knn_PCA_pre = knn_PCA.predict(testPCA)\n",
    "knn_PCA_accuracy = accuracy_score(DS_sex_map, knn_PCA_pre)\n",
    "print('knn_PCA_accuracy = ', knn_PCA_accuracy)"
   ]
  },
  {
   "cell_type": "markdown",
   "id": "bb55eb14-ebec-4fde-b0a7-903bbca7acd2",
   "metadata": {},
   "source": [
    "SVM分类器"
   ]
  },
  {
   "cell_type": "code",
   "execution_count": 30,
   "id": "641ec12e-a905-401b-9e0b-93c1f947ca7e",
   "metadata": {},
   "outputs": [
    {
     "data": {
      "text/plain": [
       "SVC(kernel='linear')"
      ]
     },
     "execution_count": 30,
     "metadata": {},
     "output_type": "execute_result"
    }
   ],
   "source": [
    "#采用sklearn.svm.SVC，类似的有sklearn.svm.LinearSVC\n",
    "from sklearn.model_selection import cross_val_score\n",
    "from sklearn.svm import SVC\n",
    "\n",
    "SVM_PCA = SVC(kernel='linear')\n",
    "SVM_PCA.fit(trainPCA, DR_sex_map)"
   ]
  },
  {
   "cell_type": "code",
   "execution_count": 32,
   "id": "2ee53227-f973-4df3-86f9-c0224e3fdf5e",
   "metadata": {},
   "outputs": [
    {
     "data": {
      "text/plain": [
       "0.7164328657314629"
      ]
     },
     "execution_count": 32,
     "metadata": {},
     "output_type": "execute_result"
    }
   ],
   "source": [
    "from sklearn.metrics import accuracy_score\n",
    "SVM_PCA_pred = SVM_PCA.predict(testPCA)\n",
    "accuracy_score(DS_sex_map, SVM_PCA_pred)"
   ]
  },
  {
   "cell_type": "markdown",
   "id": "dd0a1993-ff8c-425f-9b10-61655dbf0f57",
   "metadata": {
    "jp-MarkdownHeadingCollapsed": true,
    "tags": []
   },
   "source": [
    "## 3. LBP局部二元模式处理"
   ]
  },
  {
   "cell_type": "code",
   "execution_count": 3,
   "id": "edc24ddf-c60c-46ad-8e06-0691e8d3c31a",
   "metadata": {},
   "outputs": [],
   "source": [
    "from skimage.feature import local_binary_pattern"
   ]
  },
  {
   "cell_type": "markdown",
   "id": "f42aba5a-fc8c-4721-bf67-35be4823ddac",
   "metadata": {},
   "source": [
    "dlib提取人脸图像，并将图像统一变换为64*64"
   ]
  },
  {
   "cell_type": "code",
   "execution_count": 4,
   "id": "f25b742e-2a0b-424a-982c-62ce167c83c7",
   "metadata": {},
   "outputs": [],
   "source": [
    "def dlib_LBP(img_data) :\n",
    "    detector = dlib.get_frontal_face_detector()    #获取人脸位置检测器\n",
    "    img_data = cv2.cvtColor(img_data, cv2.COLOR_GRAY2BGR)    #原图为灰度图，而dlib读取RGB图，故需要做格式转换\n",
    "    detect_face = detector(img_data, 1)    #1表示上采样，即将图片放大后再进行采样，能够捕获更精准的特征点\n",
    "    for index, face in enumerate(detect_face):    #通过循环拿出dectector的输出\n",
    "        dlib_left = face.left()\n",
    "        dlib_top = face.top()\n",
    "        dlib_right = face.right()\n",
    "        dlib_bottom = face.bottom()\n",
    "    if 'dlib_top' in dir():\n",
    "        img_out = img_data[dlib_top:dlib_bottom, dlib_left:dlib_right]\n",
    "    else:\n",
    "        img_out = img_data[32:96, 32:96]\n",
    "    img_out = cv2.resize(img_out, (64, 64), interpolation=cv2.INTER_CUBIC)\n",
    "    img_out = cv2.cvtColor(img_out, cv2.COLOR_BGR2GRAY)   #转换回灰度图\n",
    "    return img_out"
   ]
  },
  {
   "cell_type": "markdown",
   "id": "79e9a319-bc80-4f6c-817a-eed123dc21c4",
   "metadata": {
    "tags": []
   },
   "source": [
    "### 3.1 LBPH直方图特征"
   ]
  },
  {
   "cell_type": "markdown",
   "id": "9ec6acf2-2228-442d-aab3-af90f3d3a7a0",
   "metadata": {},
   "source": [
    "以LBP图像的统计直方图作为特征"
   ]
  },
  {
   "cell_type": "markdown",
   "id": "21243774-6555-4ea2-aec0-f2079455f1af",
   "metadata": {
    "tags": []
   },
   "source": [
    "#### 3.1.1 构建LBPH数据集"
   ]
  },
  {
   "cell_type": "code",
   "execution_count": 19,
   "id": "c512dc5b-cfcb-4218-82b3-b1e7788ea7ba",
   "metadata": {},
   "outputs": [
    {
     "name": "stdout",
     "output_type": "stream",
     "text": [
      "OK\n"
     ]
    }
   ],
   "source": [
    "trainLBP = []\n",
    "\n",
    "for dataDR in trainData:\n",
    "    dataDR = dlib_LBP(dataDR)\n",
    "    img_LBP = local_binary_pattern(image=dataDR, P=8, R=1, method='default')\n",
    "    img_LBP = img_LBP.astype(np.uint8)\n",
    "    hist_LBP = cv2.calcHist([img_LBP], channels=[0], mask=None, histSize=[128], ranges=[0,256])  #histSize=130是为了保证最终去掉2维黑色背景影响后，剩余特征维度为128\n",
    "    hist_LBP = np.squeeze(hist_LBP.reshape(1,128))\n",
    "    trainLBP.append(hist_LBP)\n",
    "    \n",
    "trainLBP = np.array(trainLBP)\n",
    "print('OK')"
   ]
  },
  {
   "cell_type": "code",
   "execution_count": 20,
   "id": "742a9133-064a-486d-9fe2-8840820b94e1",
   "metadata": {},
   "outputs": [
    {
     "name": "stdout",
     "output_type": "stream",
     "text": [
      "OK\n"
     ]
    }
   ],
   "source": [
    "testLBP = []\n",
    "\n",
    "for dataDS in testData:\n",
    "    dataDS = dlib_LBP(dataDS)\n",
    "    img_LBP = local_binary_pattern(image=dataDS, P=8, R=1, method='default')\n",
    "    img_LBP = img_LBP.astype(np.uint8)\n",
    "    hist_LBP = cv2.calcHist([img_LBP], channels=[0], mask=None, histSize=[128], ranges=[0,256])  #histSize=130是为了保证最终去掉2维黑色背景影响后，剩余特征维度为128\n",
    "    hist_LBP = np.squeeze(hist_LBP.reshape(1,128))\n",
    "    testLBP.append(hist_LBP)\n",
    "    \n",
    "testLBP = np.array(testLBP)\n",
    "print('OK')"
   ]
  },
  {
   "cell_type": "markdown",
   "id": "d47f4972-aefc-49e9-bfb1-ea6df792694c",
   "metadata": {},
   "source": [
    "由于数据集构建速度很慢，故将数据集保存加载"
   ]
  },
  {
   "cell_type": "code",
   "execution_count": 42,
   "id": "a2f47ec3-6e7c-4bfb-b464-741fa7fa0e72",
   "metadata": {},
   "outputs": [
    {
     "name": "stdout",
     "output_type": "stream",
     "text": [
      "trainLBP.shape =  (1995, 128)\n",
      "testLBP.shape =  (1996, 128)\n"
     ]
    }
   ],
   "source": [
    "#保存LBPH数据集\n",
    "print('trainLBP.shape = ', trainLBP.shape)\n",
    "np.save('data/trainLBP.npy',trainLBP)\n",
    "print('testLBP.shape = ', testLBP.shape)\n",
    "np.save('data/testLBP.npy',testLBP)"
   ]
  },
  {
   "cell_type": "code",
   "execution_count": 43,
   "id": "86b53526-6f1d-44c1-92cf-3ce02b7c2bc2",
   "metadata": {},
   "outputs": [
    {
     "name": "stdout",
     "output_type": "stream",
     "text": [
      "trainLBP.shape =  (1995, 128)\n",
      "testLBP.shape =  (1996, 128)\n"
     ]
    }
   ],
   "source": [
    "#加载LBPH数据集\n",
    "trainLBP = np.load('data/trainLBP.npy')\n",
    "testLBP = np.load('data/testLBP.npy')\n",
    "print('trainLBP.shape = ', trainLBP.shape)\n",
    "print('testLBP.shape = ', testLBP.shape)"
   ]
  },
  {
   "cell_type": "markdown",
   "id": "e5789a46-2a79-4530-bf4c-da8293cbe299",
   "metadata": {},
   "source": [
    "#### 3.1.2 分类器性能测试"
   ]
  },
  {
   "cell_type": "markdown",
   "id": "b021710b-8d1b-43c8-a148-ad77a4765efa",
   "metadata": {},
   "source": [
    "数据集标准化"
   ]
  },
  {
   "cell_type": "code",
   "execution_count": 49,
   "id": "08b50614-5e2c-4f1b-8eb9-97402ae1b5f7",
   "metadata": {},
   "outputs": [],
   "source": [
    "from sklearn.preprocessing import StandardScaler    #数据标准化\n",
    "LBP_SDclf = StandardScaler()\n",
    "LBP_SDclf.fit(trainLBP)\n",
    "trainLBP_std = LBP_SDclf.transform(trainLBP)\n",
    "testLBP_std = LBP_SDclf.transform(testLBP)"
   ]
  },
  {
   "cell_type": "markdown",
   "id": "ecdd6d4a-522c-42b9-b27e-12118254a5da",
   "metadata": {},
   "source": [
    "KNN分类器"
   ]
  },
  {
   "cell_type": "code",
   "execution_count": 50,
   "id": "d697c41c-67a5-41df-8f17-e5cfafd18aae",
   "metadata": {},
   "outputs": [
    {
     "name": "stdout",
     "output_type": "stream",
     "text": [
      "knn_LBP.fit is ok\n"
     ]
    }
   ],
   "source": [
    "from sklearn.neighbors import KNeighborsClassifier\n",
    "knn_LBP = KNeighborsClassifier(5)\n",
    "knn_LBP.fit(trainLBP_std, DR_sex_map)\n",
    "print(\"knn_LBP.fit is ok\")"
   ]
  },
  {
   "cell_type": "code",
   "execution_count": 51,
   "id": "18371fff-6fb5-4f7b-8f1a-45bc8b8ab9b8",
   "metadata": {},
   "outputs": [
    {
     "name": "stdout",
     "output_type": "stream",
     "text": [
      "knn_LBP_accuracy =  0.5861723446893787\n"
     ]
    },
    {
     "name": "stderr",
     "output_type": "stream",
     "text": [
      "C:\\Users\\Rama\\anaconda3\\lib\\site-packages\\sklearn\\neighbors\\_classification.py:228: FutureWarning: Unlike other reduction functions (e.g. `skew`, `kurtosis`), the default behavior of `mode` typically preserves the axis it acts along. In SciPy 1.11.0, this behavior will change: the default value of `keepdims` will become False, the `axis` over which the statistic is taken will be eliminated, and the value None will no longer be accepted. Set `keepdims` to True or False to avoid this warning.\n",
      "  mode, _ = stats.mode(_y[neigh_ind, k], axis=1)\n"
     ]
    }
   ],
   "source": [
    "knn_LBP_pre = knn_LBP.predict(testLBP_std)\n",
    "knn_LBP_accuracy = accuracy_score(DS_sex_map, knn_LBP_pre)\n",
    "print('knn_LBP_accuracy = ', knn_LBP_accuracy)"
   ]
  },
  {
   "cell_type": "markdown",
   "id": "bd938bb3-d843-42e4-bc27-c308f135f795",
   "metadata": {},
   "source": [
    "SVM分类器"
   ]
  },
  {
   "cell_type": "code",
   "execution_count": 53,
   "id": "ad42bb15-7539-4876-8977-57d4c38f1798",
   "metadata": {},
   "outputs": [
    {
     "data": {
      "text/plain": [
       "SVC(kernel='linear')"
      ]
     },
     "execution_count": 53,
     "metadata": {},
     "output_type": "execute_result"
    }
   ],
   "source": [
    "#采用sklearn.svm.SVC，类似的有sklearn.svm.LinearSVC\n",
    "from sklearn.model_selection import cross_val_score\n",
    "from sklearn.svm import SVC\n",
    "\n",
    "SVM_LBP = SVC(kernel='linear')\n",
    "SVM_LBP.fit(trainLBP_std, DR_sex_map)"
   ]
  },
  {
   "cell_type": "code",
   "execution_count": 54,
   "id": "cf9c0869-193b-4562-aba4-e2680a5b0279",
   "metadata": {},
   "outputs": [
    {
     "data": {
      "text/plain": [
       "0.6042084168336673"
      ]
     },
     "execution_count": 54,
     "metadata": {},
     "output_type": "execute_result"
    }
   ],
   "source": [
    "from sklearn.metrics import accuracy_score\n",
    "SVM_LBP_pred = SVM_LBP.predict(testLBP_std)\n",
    "accuracy_score(DS_sex_map, SVM_LBP_pred)"
   ]
  },
  {
   "cell_type": "markdown",
   "id": "46de303d-5905-4387-b908-02e5dae801fa",
   "metadata": {
    "tags": []
   },
   "source": [
    "### 3.2 dlib人脸探测+LBP提取+PCA特征降维"
   ]
  },
  {
   "cell_type": "markdown",
   "id": "2f372c52-2b57-468d-a5e6-8e1c5167e3de",
   "metadata": {},
   "source": [
    "#### 3.2.1 LBP图像提取及PCA特征降维"
   ]
  },
  {
   "cell_type": "markdown",
   "id": "859e632a-5838-4676-b357-6ea4ca57bcf9",
   "metadata": {},
   "source": [
    "LBP图像提取"
   ]
  },
  {
   "cell_type": "code",
   "execution_count": 18,
   "id": "570be0e6-e24b-40b1-b0c9-c31a5b62a08b",
   "metadata": {},
   "outputs": [
    {
     "name": "stdout",
     "output_type": "stream",
     "text": [
      "OK\n"
     ]
    }
   ],
   "source": [
    "trainLBP_PCA = []\n",
    "\n",
    "for dataDR in trainData:\n",
    "    dataDR = dlib_LBP(dataDR)\n",
    "    img_LBP = local_binary_pattern(image=dataDR, P=8, R=1, method='default')\n",
    "    img_LBP = img_LBP.astype(np.uint8)\n",
    "    trainLBP_PCA.append(img_LBP)\n",
    "    \n",
    "trainLBP_PCA = np.array(trainLBP_PCA)\n",
    "print('OK')"
   ]
  },
  {
   "cell_type": "code",
   "execution_count": 19,
   "id": "19e3f064-aa0a-49a9-9ba9-13cd77387cca",
   "metadata": {},
   "outputs": [
    {
     "data": {
      "text/plain": [
       "(1995, 64, 64)"
      ]
     },
     "execution_count": 19,
     "metadata": {},
     "output_type": "execute_result"
    }
   ],
   "source": [
    "trainLBP_PCA.shape"
   ]
  },
  {
   "cell_type": "code",
   "execution_count": 20,
   "id": "ccded946-29e1-42fc-a9f9-0777735be109",
   "metadata": {},
   "outputs": [
    {
     "name": "stdout",
     "output_type": "stream",
     "text": [
      "OK\n"
     ]
    }
   ],
   "source": [
    "testLBP_PCA = []\n",
    "\n",
    "for dataDS in testData:\n",
    "    dataDS = dlib_LBP(dataDS)\n",
    "    img_LBP = local_binary_pattern(image=dataDR, P=8, R=1, method='default')\n",
    "    img_LBP = img_LBP.astype(np.uint8)\n",
    "    testLBP_PCA.append(img_LBP)\n",
    "    \n",
    "testLBP_PCA = np.array(testLBP_PCA)\n",
    "print('OK')"
   ]
  },
  {
   "cell_type": "code",
   "execution_count": 22,
   "id": "b5e79577-7a55-4793-8892-cd2a9613b015",
   "metadata": {},
   "outputs": [
    {
     "data": {
      "text/plain": [
       "(1996, 64, 64)"
      ]
     },
     "execution_count": 22,
     "metadata": {},
     "output_type": "execute_result"
    }
   ],
   "source": [
    "testLBP_PCA.shape"
   ]
  },
  {
   "cell_type": "markdown",
   "id": "06c0143e-95d1-4e27-b2c1-881c2b2e8a3e",
   "metadata": {},
   "source": [
    "对LBP图像数据集做PCA特征降维"
   ]
  },
  {
   "cell_type": "code",
   "execution_count": 23,
   "id": "86b2996f-2b12-422d-bd2f-a645d02fff47",
   "metadata": {},
   "outputs": [
    {
     "name": "stderr",
     "output_type": "stream",
     "text": [
      "C:\\Users\\Rama\\anaconda3\\lib\\site-packages\\sklearn\\decomposition\\_pca.py:595: RuntimeWarning: invalid value encountered in true_divide\n",
      "  self.explained_variance_ratio_ = self.explained_variance_ / total_var.sum()\n",
      "C:\\Users\\Rama\\anaconda3\\lib\\site-packages\\sklearn\\decomposition\\_pca.py:595: RuntimeWarning: invalid value encountered in true_divide\n",
      "  self.explained_variance_ratio_ = self.explained_variance_ / total_var.sum()\n"
     ]
    }
   ],
   "source": [
    "from sklearn.decomposition import PCA\n",
    "trainLBP_PCA = trainLBP_PCA.reshape(1995, 4096)\n",
    "testLBP_PCA = testLBP_PCA.reshape(1996, 4096)\n",
    "LBP_PCA = PCA(n_components=128, svd_solver='randomized',\n",
    "          whiten=True).fit(testLBP_PCA)\n",
    "trainLBP_PCA = LBP_PCA.fit_transform(trainLBP_PCA)\n",
    "testLBP_PCA = LBP_PCA.fit_transform(testLBP_PCA)"
   ]
  },
  {
   "cell_type": "code",
   "execution_count": 46,
   "id": "7fcbf2a6-95de-47b3-b2ee-29b6b4264d67",
   "metadata": {},
   "outputs": [
    {
     "name": "stdout",
     "output_type": "stream",
     "text": [
      "trainLBP_PCA.shape =  (1995, 128)\n",
      "testLBP_PCA.shape =  (1996, 128)\n"
     ]
    }
   ],
   "source": [
    "#保存数据集\n",
    "print('trainLBP_PCA.shape = ', trainLBP_PCA.shape)\n",
    "np.save('data/trainLBP_PCA.npy',trainLBP_PCA)\n",
    "print('testLBP_PCA.shape = ', testLBP_PCA.shape)\n",
    "np.save('data/testLBP_PCA.npy',testLBP_PCA)"
   ]
  },
  {
   "cell_type": "code",
   "execution_count": 44,
   "id": "3965ca0f-b11a-43fd-98b8-6d9467cd6b39",
   "metadata": {},
   "outputs": [
    {
     "name": "stdout",
     "output_type": "stream",
     "text": [
      "trainLBP_PCA.shape =  (1995, 128)\n",
      "testLBP_PCA.shape =  (1996, 128)\n"
     ]
    }
   ],
   "source": [
    "#加载数据集\n",
    "trainLBP_PCA = np.load('data/trainLBP_PCA.npy')\n",
    "testLBP_PCA = np.load('data/testLBP_PCA.npy')\n",
    "print('trainLBP_PCA.shape = ', trainLBP_PCA.shape)\n",
    "print('testLBP_PCA.shape = ', testLBP_PCA.shape)"
   ]
  },
  {
   "cell_type": "markdown",
   "id": "f9afc52d-dc16-4341-bd0f-62701697c85f",
   "metadata": {},
   "source": [
    "#### 3.2.2 分类器性能测试"
   ]
  },
  {
   "cell_type": "markdown",
   "id": "f4f42036-ac9d-4679-8142-69c54a829635",
   "metadata": {},
   "source": [
    "数据集标准化"
   ]
  },
  {
   "cell_type": "code",
   "execution_count": 28,
   "id": "ee2c6d93-9da0-479f-b6d8-67b6a69bf40a",
   "metadata": {},
   "outputs": [],
   "source": [
    "from sklearn.preprocessing import StandardScaler    #数据标准化\n",
    "LBP_PCA_SD = StandardScaler()\n",
    "LBP_PCA_SD.fit(trainLBP_PCA)\n",
    "trainLBP_PCA_std = LBP_PCA_SD.transform(trainLBP_PCA)\n",
    "testLBP_PCA_std = LBP_PCA_SD.transform(testLBP_PCA)"
   ]
  },
  {
   "cell_type": "markdown",
   "id": "276a0d4f-8fa2-4108-b138-488d29e0dabf",
   "metadata": {},
   "source": [
    "KNN分类器"
   ]
  },
  {
   "cell_type": "code",
   "execution_count": 41,
   "id": "07860bd6-8279-4483-8405-796851346fb0",
   "metadata": {},
   "outputs": [
    {
     "name": "stdout",
     "output_type": "stream",
     "text": [
      "knn_LBP_PCA.fit is ok\n"
     ]
    }
   ],
   "source": [
    "from sklearn.neighbors import KNeighborsClassifier\n",
    "knn_LBP_PCA = KNeighborsClassifier(5)\n",
    "knn_LBP_PCA.fit(trainLBP_PCA_std, DR_sex_map)\n",
    "print(\"knn_LBP_PCA.fit is ok\")"
   ]
  },
  {
   "cell_type": "code",
   "execution_count": 42,
   "id": "b8777db7-f1b3-44b4-8640-ae818ebf0fda",
   "metadata": {},
   "outputs": [
    {
     "name": "stdout",
     "output_type": "stream",
     "text": [
      "knn_LBP_PCA_accuracy =  0.6437875751503006\n"
     ]
    },
    {
     "name": "stderr",
     "output_type": "stream",
     "text": [
      "C:\\Users\\Rama\\anaconda3\\lib\\site-packages\\sklearn\\neighbors\\_classification.py:228: FutureWarning: Unlike other reduction functions (e.g. `skew`, `kurtosis`), the default behavior of `mode` typically preserves the axis it acts along. In SciPy 1.11.0, this behavior will change: the default value of `keepdims` will become False, the `axis` over which the statistic is taken will be eliminated, and the value None will no longer be accepted. Set `keepdims` to True or False to avoid this warning.\n",
      "  mode, _ = stats.mode(_y[neigh_ind, k], axis=1)\n"
     ]
    }
   ],
   "source": [
    "knn_LBP_PCA_pre = knn_LBP_PCA.predict(testLBP_PCA)\n",
    "knn_LBP_PCA_accuracy = accuracy_score(DS_sex_map, knn_LBP_PCA_pre)\n",
    "print('knn_LBP_PCA_accuracy = ', knn_LBP_PCA_accuracy)"
   ]
  },
  {
   "cell_type": "markdown",
   "id": "52c35e5b-7ad5-402b-aee7-ecc1112d1a04",
   "metadata": {},
   "source": [
    "SVM分类器"
   ]
  },
  {
   "cell_type": "code",
   "execution_count": 45,
   "id": "cc8207c3-5f10-43a3-ba47-9df741e16cf1",
   "metadata": {},
   "outputs": [
    {
     "data": {
      "text/plain": [
       "SVC(kernel='linear')"
      ]
     },
     "execution_count": 45,
     "metadata": {},
     "output_type": "execute_result"
    }
   ],
   "source": [
    "#采用sklearn.svm.SVC，类似的有sklearn.svm.LinearSVC\n",
    "from sklearn.model_selection import cross_val_score\n",
    "from sklearn.svm import SVC\n",
    "\n",
    "SVM_LBP_PCA = SVC(kernel='linear')\n",
    "SVM_LBP_PCA.fit(trainLBP_PCA_std, DR_sex_map)"
   ]
  },
  {
   "cell_type": "code",
   "execution_count": 46,
   "id": "5fd41a37-f803-4e04-98f4-ee8cfe5806eb",
   "metadata": {},
   "outputs": [
    {
     "data": {
      "text/plain": [
       "0.6432865731462926"
      ]
     },
     "execution_count": 46,
     "metadata": {},
     "output_type": "execute_result"
    }
   ],
   "source": [
    "from sklearn.metrics import accuracy_score\n",
    "SVM_LBP_PCA_pred = SVM_LBP_PCA.predict(testLBP_PCA_std)\n",
    "accuracy_score(DS_sex_map, SVM_LBP_PCA_pred)"
   ]
  },
  {
   "cell_type": "code",
   "execution_count": 12,
   "id": "8cc6571a-de7d-4899-8b6a-2f0a1f9eb4c2",
   "metadata": {},
   "outputs": [],
   "source": [
    "from cv2 import face\n",
    "recognizer=face.\n",
    "recognizer.train(trainData,DR_sex_map)"
   ]
  },
  {
   "cell_type": "code",
   "execution_count": null,
   "id": "4df8ef1f-98a9-4f76-a590-9403593dc7a0",
   "metadata": {},
   "outputs": [],
   "source": []
  }
 ],
 "metadata": {
  "kernelspec": {
   "display_name": "Python 3 (ipykernel)",
   "language": "python",
   "name": "python3"
  },
  "language_info": {
   "codemirror_mode": {
    "name": "ipython",
    "version": 3
   },
   "file_extension": ".py",
   "mimetype": "text/x-python",
   "name": "python",
   "nbconvert_exporter": "python",
   "pygments_lexer": "ipython3",
   "version": "3.9.13"
  }
 },
 "nbformat": 4,
 "nbformat_minor": 5
}
