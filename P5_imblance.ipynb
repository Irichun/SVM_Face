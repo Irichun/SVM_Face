{
 "cells": [
  {
   "cell_type": "code",
   "execution_count": 1,
   "id": "3bfd0935-ed6f-4ed8-b96f-25a5d0a7c146",
   "metadata": {},
   "outputs": [],
   "source": [
    "import pandas as pd\n",
    "import numpy as np\n",
    "from matplotlib import pyplot as plt\n",
    "import cv2\n",
    "import os\n",
    "import re\n",
    "from sklearn.model_selection import cross_val_score  #交叉验证\n",
    "from sklearn.svm import SVC  #支持向量机\n",
    "from sklearn.metrics import accuracy_score  #混淆矩阵准确度\n",
    "from sklearn.metrics import classification_report  #混淆矩阵分类性能评估报告\n",
    "from sklearn.metrics import confusion_matrix    #混淆矩阵数组"
   ]
  },
  {
   "cell_type": "markdown",
   "id": "09580f45-02bc-4271-8019-b09f785d1fc5",
   "metadata": {},
   "source": [
    "## 说明：年龄不均衡类别的特殊采样处理\n",
    "本程序基于P6程序中对年龄分类的特殊采样处理必要性探究的基础上，对dlib库128维特征距离数据集使用了以下六种特殊采样处理方法并对比其分类器性能；\n",
    "\n",
    "经对比发现SMOTE过采样处理的效果最好，但实际效果也不是很理想，故又对剩余三种数据集，即PCA特征降维数据集、LBP图像直方图特征数据集、LBP图像PCA降维数据集进行SMOTE过采样处理后，对比四种数据集的分类器性能。"
   ]
  },
  {
   "cell_type": "markdown",
   "id": "2225d351-2c5b-4001-a3ab-043ccc431d59",
   "metadata": {
    "jp-MarkdownHeadingCollapsed": true,
    "tags": []
   },
   "source": [
    "## 导入数据"
   ]
  },
  {
   "cell_type": "code",
   "execution_count": 42,
   "id": "db2d34a7-caec-4f98-86d9-4e3bf6c74f83",
   "metadata": {},
   "outputs": [
    {
     "name": "stdout",
     "output_type": "stream",
     "text": [
      "trainDistance.shape =  (1995, 128)\n",
      "testDistance.shape =  (1995, 128)\n",
      "trainPCA.shape =  (1995, 128)\n",
      "testPCA.shape =  (1995, 128)\n",
      "trainLBP_PCA.shape =  (1995, 128)\n",
      "testLBP_PCA.shape =  (1995, 128)\n",
      "trainLBP.shape =  (1995, 128)\n",
      "testLBP.shape =  (1995, 128)\n",
      "\n",
      "DR_sex_map:  [1 1 1 ... 0 0 0]\n",
      "DS_sex_map:  [0 0 1 ... 0 0 0]\n",
      "DR_age_map:  [0 0 0 ... 2 3 3]\n",
      "DS_age_map:  [3 2 3 ... 2 2 2]\n",
      "DR_sex:  ['male' 'male' 'male' ... 'female' 'female' 'female']\n",
      "DS_sex:  ['female' 'female' 'male' ... 'female' 'female' 'female']\n",
      "DR_age:  ['child' 'child' 'child' ... 'adult' 'senior' 'senior']\n",
      "DS_age:  ['senior' 'adult' 'senior' ... 'adult' 'adult' 'adult']\n"
     ]
    }
   ],
   "source": [
    "#读取数据集：dlib处理的128维特征距离数据集Distance，以及PCA特征降维后的128为特征脸数据集PCA\n",
    "trainDistance = np.load(\"data/trainDistance.npy\")\n",
    "testDistance = np.load(\"data/testDistance.npy\")\n",
    "trainPCA = np.load(\"data/trainPCA.npy\")\n",
    "testPCA = np.load(\"data/testPCA.npy\")\n",
    "trainLBP_PCA = np.load(\"data/trainLBP_PCA.npy\")\n",
    "testLBP_PCA = np.load(\"data/testLBP_PCA.npy\")\n",
    "trainLBP = np.load(\"data/trainLBP.npy\")\n",
    "testLBP = np.load(\"data/testLBP.npy\")\n",
    "\n",
    "print(\"trainDistance.shape = \",trainDistance.shape)\n",
    "print(\"testDistance.shape = \",trainDistance.shape)\n",
    "print(\"trainPCA.shape = \",trainDistance.shape)\n",
    "print(\"testPCA.shape = \",trainDistance.shape)\n",
    "print(\"trainLBP_PCA.shape = \",trainLBP_PCA.shape)\n",
    "print(\"testLBP_PCA.shape = \",trainLBP_PCA.shape)\n",
    "print(\"trainLBP.shape = \",trainLBP.shape)\n",
    "print(\"testLBP.shape = \",trainLBP.shape)\n",
    "print()\n",
    "\n",
    "#读取标签，map为数值化标签\n",
    "DS_sex_map = np.load(\"data/DS_sex_map.npy\")\n",
    "DR_sex_map = np.load(\"data/DR_sex_map.npy\")\n",
    "DS_age_map = np.load(\"data/DS_age_map.npy\")\n",
    "DR_age_map = np.load(\"data/DR_age_map.npy\")\n",
    "DS_sex = np.load(\"data/DS_sex.npy\",allow_pickle=True)\n",
    "DR_sex = np.load(\"data/DR_sex.npy\",allow_pickle=True)\n",
    "DS_age = np.load(\"data/DS_age.npy\",allow_pickle=True)\n",
    "DR_age = np.load(\"data/DR_age.npy\",allow_pickle=True)\n",
    "print(\"DR_sex_map: \", DR_sex_map)\n",
    "print(\"DS_sex_map: \", DS_sex_map)\n",
    "print(\"DR_age_map: \", DR_age_map)\n",
    "print(\"DS_age_map: \", DS_age_map)\n",
    "print(\"DR_sex: \", DR_sex)\n",
    "print(\"DS_sex: \", DS_sex)\n",
    "print(\"DR_age: \", DR_age)\n",
    "print(\"DS_age: \", DS_age)"
   ]
  },
  {
   "cell_type": "markdown",
   "id": "ad833935-2754-4cc4-8e1b-fad9ef2a5f01",
   "metadata": {
    "tags": []
   },
   "source": [
    "## 1. dlib数据集+过采样"
   ]
  },
  {
   "cell_type": "markdown",
   "id": "3ba61f4e-425f-4d8a-bc1e-2f192a9425ae",
   "metadata": {
    "tags": []
   },
   "source": [
    "#### 1) ros法-RandomOverSample随机过采样"
   ]
  },
  {
   "cell_type": "code",
   "execution_count": 4,
   "id": "f680fd88-03d3-4d8f-babc-eb82747081e5",
   "metadata": {},
   "outputs": [],
   "source": [
    "from imblearn.over_sampling import RandomOverSampler\n",
    "imb_ros = RandomOverSampler(random_state = 0)\n",
    "trainDistance_ros, DR_age_ros = imb_ros.fit_resample(trainDistance, DR_age)"
   ]
  },
  {
   "cell_type": "code",
   "execution_count": 5,
   "id": "92263ddd-64e8-48b0-b389-e791927a1123",
   "metadata": {},
   "outputs": [
    {
     "data": {
      "text/plain": [
       "(5744, 128)"
      ]
     },
     "execution_count": 5,
     "metadata": {},
     "output_type": "execute_result"
    }
   ],
   "source": [
    "trainDistance_ros.shape"
   ]
  },
  {
   "cell_type": "code",
   "execution_count": 6,
   "id": "5dbd5d18-c472-465b-9ad6-c23adf313b5e",
   "metadata": {},
   "outputs": [
    {
     "name": "stdout",
     "output_type": "stream",
     "text": [
      "child     1436\n",
      "adult     1436\n",
      "teen      1436\n",
      "senior    1436\n",
      "Name: age, dtype: int64\n"
     ]
    }
   ],
   "source": [
    "ros_age_dataframe = pd.DataFrame(data =  {'age':DR_age_ros})\n",
    "#print(ros_age_dataframe)\n",
    "ros_age_count = ros_age_dataframe['age'].value_counts()\n",
    "print(ros_age_count)"
   ]
  },
  {
   "cell_type": "code",
   "execution_count": 11,
   "id": "8667c265-fa4a-42f0-8ba4-6b9c68004063",
   "metadata": {},
   "outputs": [
    {
     "data": {
      "text/plain": [
       "SVC(decision_function_shape='ovo', kernel='linear')"
      ]
     },
     "execution_count": 11,
     "metadata": {},
     "output_type": "execute_result"
    }
   ],
   "source": [
    "#采用sklearn.svm.SVC，类似的有sklearn.svm.LinearSVC\n",
    "\n",
    "clf_ovoLinear_ros = SVC(kernel='linear', decision_function_shape='ovo')\n",
    "clf_ovoLinear_ros.fit(trainDistance_ros, DR_age_ros)"
   ]
  },
  {
   "cell_type": "code",
   "execution_count": 12,
   "id": "bbb8dfb1-cc24-4951-ba3e-1ef167afaa87",
   "metadata": {},
   "outputs": [
    {
     "name": "stdout",
     "output_type": "stream",
     "text": [
      "ovoLinear_ros_accuracy =  0.7995991983967936\n",
      "分类结果报告： \n",
      "               precision    recall  f1-score   support\n",
      "\n",
      "       adult       0.96      0.82      0.89      1730\n",
      "       child       0.52      0.65      0.58        68\n",
      "      senior       0.55      0.75      0.63       115\n",
      "        teen       0.15      0.48      0.23        83\n",
      "\n",
      "    accuracy                           0.80      1996\n",
      "   macro avg       0.54      0.68      0.58      1996\n",
      "weighted avg       0.89      0.80      0.83      1996\n",
      "\n"
     ]
    }
   ],
   "source": [
    "ovoLinear_ros_age_pre = clf_ovoLinear_ros.predict(testDistance)\n",
    "ovoLinear_ros_accuracy = accuracy_score(DS_age, ovoLinear_ros_age_pre)\n",
    "print('ovoLinear_ros_accuracy = ', ovoLinear_ros_accuracy)\n",
    "print('分类结果报告：', '\\n', classification_report(DS_age, ovoLinear_ros_age_pre))"
   ]
  },
  {
   "cell_type": "markdown",
   "id": "36c06c14-8cdc-4918-8048-29b59a08e2eb",
   "metadata": {
    "tags": []
   },
   "source": [
    "#### 2) SMOTE过采样"
   ]
  },
  {
   "cell_type": "code",
   "execution_count": 21,
   "id": "f4cb4dab-5b3a-42c5-b67e-62880e2275b3",
   "metadata": {},
   "outputs": [
    {
     "data": {
      "text/plain": [
       "(5744, 128)"
      ]
     },
     "execution_count": 21,
     "metadata": {},
     "output_type": "execute_result"
    }
   ],
   "source": [
    "from imblearn.over_sampling import SMOTE\n",
    "imb_SMOTE = SMOTE(random_state = 0)\n",
    "trainDistance_SMOTE, DR_age_SMOTE = imb_SMOTE.fit_resample(trainDistance, DR_age)\n",
    "trainDistance_SMOTE.shape"
   ]
  },
  {
   "cell_type": "code",
   "execution_count": 17,
   "id": "c3c7ab41-4192-4e77-b622-cade49e41daa",
   "metadata": {},
   "outputs": [
    {
     "name": "stdout",
     "output_type": "stream",
     "text": [
      "child     1436\n",
      "adult     1436\n",
      "teen      1436\n",
      "senior    1436\n",
      "Name: age, dtype: int64\n"
     ]
    }
   ],
   "source": [
    "SMOTE_age_dataframe = pd.DataFrame(data =  {'age':DR_age_SMOTE})\n",
    "#print(ros_age_dataframe)\n",
    "SMOTE_age_count = SMOTE_age_dataframe['age'].value_counts()\n",
    "print(SMOTE_age_count)"
   ]
  },
  {
   "cell_type": "code",
   "execution_count": 19,
   "id": "9514f20e-4eb8-4874-865a-6056077378b8",
   "metadata": {},
   "outputs": [
    {
     "data": {
      "text/plain": [
       "SVC(kernel='linear')"
      ]
     },
     "execution_count": 19,
     "metadata": {},
     "output_type": "execute_result"
    }
   ],
   "source": [
    "#采用sklearn.svm.SVC，类似的有sklearn.svm.LinearSVC\n",
    "\n",
    "clf_ovoLinear_SMOTE = SVC(kernel='linear')\n",
    "clf_ovoLinear_SMOTE.fit(trainDistance_SMOTE, DR_age_SMOTE)"
   ]
  },
  {
   "cell_type": "code",
   "execution_count": 20,
   "id": "846f3d0b-73c6-44f3-871c-63e693f6627c",
   "metadata": {},
   "outputs": [
    {
     "name": "stdout",
     "output_type": "stream",
     "text": [
      "ovoLinear_SMOTE_accuracy =  0.844689378757515\n",
      "分类结果报告： \n",
      "               precision    recall  f1-score   support\n",
      "\n",
      "       adult       0.96      0.88      0.92      1730\n",
      "       child       0.62      0.63      0.63        68\n",
      "      senior       0.56      0.75      0.64       115\n",
      "        teen       0.21      0.49      0.29        83\n",
      "\n",
      "    accuracy                           0.84      1996\n",
      "   macro avg       0.59      0.69      0.62      1996\n",
      "weighted avg       0.90      0.84      0.87      1996\n",
      "\n"
     ]
    }
   ],
   "source": [
    "ovoLinear_SMOTE_age_pre = clf_ovoLinear_SMOTE.predict(testDistance)\n",
    "ovoLinear_SMOTE_accuracy = accuracy_score(DS_age, ovoLinear_SMOTE_age_pre)\n",
    "print('ovoLinear_SMOTE_accuracy = ', ovoLinear_SMOTE_accuracy)\n",
    "print('分类结果报告：', '\\n', classification_report(DS_age, ovoLinear_SMOTE_age_pre))"
   ]
  },
  {
   "cell_type": "markdown",
   "id": "b6da64d2-b70e-46b5-8f3f-83e397b74b45",
   "metadata": {
    "jp-MarkdownHeadingCollapsed": true,
    "tags": []
   },
   "source": [
    "#### 3) BorderlineSOMTE过采样"
   ]
  },
  {
   "cell_type": "code",
   "execution_count": 13,
   "id": "a2272e7e-2baa-4335-9fc7-5a96d711b1a6",
   "metadata": {},
   "outputs": [
    {
     "data": {
      "text/plain": [
       "(5744, 128)"
      ]
     },
     "execution_count": 13,
     "metadata": {},
     "output_type": "execute_result"
    }
   ],
   "source": [
    "from imblearn.over_sampling import BorderlineSMOTE\n",
    "imb_BS = BorderlineSMOTE(random_state=0,k_neighbors = 5,kind=\"borderline-1\")\n",
    "trainDistance_BS, DR_age_BS = imb_BS.fit_resample(trainDistance, DR_age)\n",
    "trainDistance_BS.shape"
   ]
  },
  {
   "cell_type": "code",
   "execution_count": 14,
   "id": "960a6bf1-95c4-436f-b9fa-53e7d60abfd0",
   "metadata": {},
   "outputs": [
    {
     "name": "stdout",
     "output_type": "stream",
     "text": [
      "child     1436\n",
      "adult     1436\n",
      "teen      1436\n",
      "senior    1436\n",
      "Name: age, dtype: int64\n"
     ]
    }
   ],
   "source": [
    "BS_age_dataframe = pd.DataFrame(data =  {'age':DR_age_BS})\n",
    "#print(BS_age_dataframe)\n",
    "BS_age_count = BS_age_dataframe['age'].value_counts()\n",
    "print(BS_age_count)"
   ]
  },
  {
   "cell_type": "code",
   "execution_count": 15,
   "id": "e44123bb-7087-437e-985b-35ff91dbe3cd",
   "metadata": {},
   "outputs": [
    {
     "data": {
      "text/plain": [
       "SVC(kernel='linear')"
      ]
     },
     "execution_count": 15,
     "metadata": {},
     "output_type": "execute_result"
    }
   ],
   "source": [
    "#采用sklearn.svm.SVC，类似的有sklearn.svm.LinearSVC\n",
    "\n",
    "clf_ovoLinear_BS = SVC(kernel='linear')\n",
    "clf_ovoLinear_BS.fit(trainDistance_BS, DR_age_BS)"
   ]
  },
  {
   "cell_type": "code",
   "execution_count": 16,
   "id": "2bfa1469-9101-4d5a-b1d0-222024b15ac1",
   "metadata": {},
   "outputs": [
    {
     "name": "stdout",
     "output_type": "stream",
     "text": [
      "ovoLinear_BS_accuracy =  0.8476953907815631\n",
      "分类结果报告： \n",
      "               precision    recall  f1-score   support\n",
      "\n",
      "       adult       0.96      0.88      0.92      1730\n",
      "       child       0.49      0.79      0.60        68\n",
      "      senior       0.56      0.73      0.63       115\n",
      "        teen       0.21      0.37      0.26        83\n",
      "\n",
      "    accuracy                           0.85      1996\n",
      "   macro avg       0.55      0.69      0.61      1996\n",
      "weighted avg       0.89      0.85      0.86      1996\n",
      "\n"
     ]
    }
   ],
   "source": [
    "ovoLinear_BS_age_pre = clf_ovoLinear_BS.predict(testDistance)\n",
    "ovoLinear_BS_accuracy = accuracy_score(DS_age, ovoLinear_BS_age_pre)\n",
    "print('ovoLinear_BS_accuracy = ', ovoLinear_BS_accuracy)\n",
    "print('分类结果报告：', '\\n', classification_report(DS_age, ovoLinear_BS_age_pre))"
   ]
  },
  {
   "cell_type": "markdown",
   "id": "8f341b45-023d-4de4-86b9-b6ddf8e7eb79",
   "metadata": {
    "jp-MarkdownHeadingCollapsed": true,
    "tags": []
   },
   "source": [
    "#### 4) ADASYN自适应合成抽样"
   ]
  },
  {
   "cell_type": "code",
   "execution_count": 17,
   "id": "6e5388bd-b8ca-493e-8dcb-2b3e1ca03236",
   "metadata": {},
   "outputs": [
    {
     "data": {
      "text/plain": [
       "(5733, 128)"
      ]
     },
     "execution_count": 17,
     "metadata": {},
     "output_type": "execute_result"
    }
   ],
   "source": [
    "from imblearn.over_sampling import ADASYN\n",
    "imb_ADA = ADASYN(random_state=0,n_neighbors=5)\n",
    "trainDistance_ADA, DR_age_ADA = imb_ADA.fit_resample(trainDistance, DR_age)\n",
    "trainDistance_ADA.shape"
   ]
  },
  {
   "cell_type": "code",
   "execution_count": 18,
   "id": "cb459c1b-dda0-4c39-a666-d97e9e232029",
   "metadata": {},
   "outputs": [
    {
     "name": "stdout",
     "output_type": "stream",
     "text": [
      "child     1436\n",
      "adult     1436\n",
      "teen      1436\n",
      "senior    1436\n",
      "Name: age, dtype: int64\n"
     ]
    }
   ],
   "source": [
    "ADA_age_dataframe = pd.DataFrame(data =  {'age':DR_age_BS})\n",
    "#print(ADA_age_dataframe)\n",
    "ADA_age_count = ADA_age_dataframe['age'].value_counts()\n",
    "print(ADA_age_count)"
   ]
  },
  {
   "cell_type": "code",
   "execution_count": 23,
   "id": "4aaaa4aa-6d8a-4a14-894a-bf46b65ad915",
   "metadata": {},
   "outputs": [
    {
     "data": {
      "text/plain": [
       "SVC(kernel='linear')"
      ]
     },
     "execution_count": 23,
     "metadata": {},
     "output_type": "execute_result"
    }
   ],
   "source": [
    "#采用sklearn.svm.SVC，类似的有sklearn.svm.LinearSVC\n",
    "\n",
    "clf_ovoLinear_ADA = SVC(kernel='linear')\n",
    "clf_ovoLinear_ADA.fit(trainDistance_ADA, DR_age_ADA)"
   ]
  },
  {
   "cell_type": "code",
   "execution_count": 24,
   "id": "c97798be-edb4-4c8c-9ce3-52c07b0f6f6c",
   "metadata": {},
   "outputs": [
    {
     "name": "stdout",
     "output_type": "stream",
     "text": [
      "ovoLinear_ADA_accuracy =  0.8361723446893787\n",
      "分类结果报告： \n",
      "               precision    recall  f1-score   support\n",
      "\n",
      "       adult       0.96      0.87      0.91      1730\n",
      "       child       0.55      0.72      0.62        68\n",
      "      senior       0.55      0.75      0.63       115\n",
      "        teen       0.19      0.45      0.27        83\n",
      "\n",
      "    accuracy                           0.84      1996\n",
      "   macro avg       0.56      0.69      0.61      1996\n",
      "weighted avg       0.89      0.84      0.86      1996\n",
      "\n"
     ]
    }
   ],
   "source": [
    "ovoLinear_ADA_age_pre = clf_ovoLinear_ADA.predict(testDistance)\n",
    "ovoLinear_ADA_accuracy = accuracy_score(DS_age, ovoLinear_ADA_age_pre)\n",
    "print('ovoLinear_ADA_accuracy = ', ovoLinear_ADA_accuracy)\n",
    "print('分类结果报告：', '\\n', classification_report(DS_age, ovoLinear_ADA_age_pre))"
   ]
  },
  {
   "cell_type": "markdown",
   "id": "d067b027-7384-498a-be75-3136742a9f4c",
   "metadata": {
    "jp-MarkdownHeadingCollapsed": true,
    "tags": []
   },
   "source": [
    "#### 5) KMeansSOMTE过采样"
   ]
  },
  {
   "cell_type": "code",
   "execution_count": 28,
   "id": "6e9e47f5-edc9-4bc4-ab16-7c731c173976",
   "metadata": {},
   "outputs": [
    {
     "name": "stderr",
     "output_type": "stream",
     "text": [
      "C:\\Users\\Rama\\anaconda3\\lib\\site-packages\\sklearn\\cluster\\_kmeans.py:1043: UserWarning: MiniBatchKMeans is known to have a memory leak on Windows with MKL, when there are less chunks than available threads. You can prevent it by setting batch_size >= 2048 or by setting the environment variable OMP_NUM_THREADS=4\n",
      "  warnings.warn(\n",
      "C:\\Users\\Rama\\anaconda3\\lib\\site-packages\\sklearn\\cluster\\_kmeans.py:1043: UserWarning: MiniBatchKMeans is known to have a memory leak on Windows with MKL, when there are less chunks than available threads. You can prevent it by setting batch_size >= 2048 or by setting the environment variable OMP_NUM_THREADS=4\n",
      "  warnings.warn(\n"
     ]
    },
    {
     "ename": "RuntimeError",
     "evalue": "No clusters found with sufficient samples of class senior. Try lowering the cluster_balance_threshold or increasing the number of clusters.",
     "output_type": "error",
     "traceback": [
      "\u001b[1;31m---------------------------------------------------------------------------\u001b[0m",
      "\u001b[1;31mRuntimeError\u001b[0m                              Traceback (most recent call last)",
      "\u001b[1;32mC:\\Users\\Public\\Documents\\Wondershare\\CreatorTemp\\ipykernel_19520\\365869492.py\u001b[0m in \u001b[0;36m<module>\u001b[1;34m\u001b[0m\n\u001b[0;32m      2\u001b[0m \u001b[1;32mfrom\u001b[0m \u001b[0msklearn\u001b[0m\u001b[1;33m.\u001b[0m\u001b[0mcluster\u001b[0m \u001b[1;32mimport\u001b[0m \u001b[0mMiniBatchKMeans\u001b[0m\u001b[1;33m\u001b[0m\u001b[1;33m\u001b[0m\u001b[0m\n\u001b[0;32m      3\u001b[0m \u001b[0mimb_KMS\u001b[0m \u001b[1;33m=\u001b[0m \u001b[0mKMeansSMOTE\u001b[0m\u001b[1;33m(\u001b[0m\u001b[0mkmeans_estimator\u001b[0m\u001b[1;33m=\u001b[0m\u001b[0mMiniBatchKMeans\u001b[0m\u001b[1;33m(\u001b[0m\u001b[0mn_init\u001b[0m\u001b[1;33m=\u001b[0m\u001b[1;36m4\u001b[0m\u001b[1;33m,\u001b[0m \u001b[0mrandom_state\u001b[0m\u001b[1;33m=\u001b[0m\u001b[1;36m0\u001b[0m\u001b[1;33m)\u001b[0m\u001b[1;33m,\u001b[0m \u001b[0mrandom_state\u001b[0m\u001b[1;33m=\u001b[0m\u001b[1;36m0\u001b[0m\u001b[1;33m,\u001b[0m \u001b[0mk_neighbors\u001b[0m\u001b[1;33m=\u001b[0m\u001b[1;36m3\u001b[0m\u001b[1;33m)\u001b[0m\u001b[1;33m\u001b[0m\u001b[1;33m\u001b[0m\u001b[0m\n\u001b[1;32m----> 4\u001b[1;33m \u001b[0mtrainDistance_KMS\u001b[0m\u001b[1;33m,\u001b[0m \u001b[0mDR_age_KMS\u001b[0m \u001b[1;33m=\u001b[0m \u001b[0mimb_KMS\u001b[0m\u001b[1;33m.\u001b[0m\u001b[0mfit_resample\u001b[0m\u001b[1;33m(\u001b[0m\u001b[0mtrainDistance\u001b[0m\u001b[1;33m,\u001b[0m \u001b[0mDR_age\u001b[0m\u001b[1;33m)\u001b[0m\u001b[1;33m\u001b[0m\u001b[1;33m\u001b[0m\u001b[0m\n\u001b[0m\u001b[0;32m      5\u001b[0m \u001b[0mtrainDistance_KMS\u001b[0m\u001b[1;33m.\u001b[0m\u001b[0mshape\u001b[0m\u001b[1;33m\u001b[0m\u001b[1;33m\u001b[0m\u001b[0m\n",
      "\u001b[1;32m~\\anaconda3\\lib\\site-packages\\imblearn\\base.py\u001b[0m in \u001b[0;36mfit_resample\u001b[1;34m(self, X, y)\u001b[0m\n\u001b[0;32m    201\u001b[0m         \"\"\"\n\u001b[0;32m    202\u001b[0m         \u001b[0mself\u001b[0m\u001b[1;33m.\u001b[0m\u001b[0m_validate_params\u001b[0m\u001b[1;33m(\u001b[0m\u001b[1;33m)\u001b[0m\u001b[1;33m\u001b[0m\u001b[1;33m\u001b[0m\u001b[0m\n\u001b[1;32m--> 203\u001b[1;33m         \u001b[1;32mreturn\u001b[0m \u001b[0msuper\u001b[0m\u001b[1;33m(\u001b[0m\u001b[1;33m)\u001b[0m\u001b[1;33m.\u001b[0m\u001b[0mfit_resample\u001b[0m\u001b[1;33m(\u001b[0m\u001b[0mX\u001b[0m\u001b[1;33m,\u001b[0m \u001b[0my\u001b[0m\u001b[1;33m)\u001b[0m\u001b[1;33m\u001b[0m\u001b[1;33m\u001b[0m\u001b[0m\n\u001b[0m\u001b[0;32m    204\u001b[0m \u001b[1;33m\u001b[0m\u001b[0m\n\u001b[0;32m    205\u001b[0m     \u001b[1;32mdef\u001b[0m \u001b[0m_more_tags\u001b[0m\u001b[1;33m(\u001b[0m\u001b[0mself\u001b[0m\u001b[1;33m)\u001b[0m\u001b[1;33m:\u001b[0m\u001b[1;33m\u001b[0m\u001b[1;33m\u001b[0m\u001b[0m\n",
      "\u001b[1;32m~\\anaconda3\\lib\\site-packages\\imblearn\\base.py\u001b[0m in \u001b[0;36mfit_resample\u001b[1;34m(self, X, y)\u001b[0m\n\u001b[0;32m     86\u001b[0m         )\n\u001b[0;32m     87\u001b[0m \u001b[1;33m\u001b[0m\u001b[0m\n\u001b[1;32m---> 88\u001b[1;33m         \u001b[0moutput\u001b[0m \u001b[1;33m=\u001b[0m \u001b[0mself\u001b[0m\u001b[1;33m.\u001b[0m\u001b[0m_fit_resample\u001b[0m\u001b[1;33m(\u001b[0m\u001b[0mX\u001b[0m\u001b[1;33m,\u001b[0m \u001b[0my\u001b[0m\u001b[1;33m)\u001b[0m\u001b[1;33m\u001b[0m\u001b[1;33m\u001b[0m\u001b[0m\n\u001b[0m\u001b[0;32m     89\u001b[0m \u001b[1;33m\u001b[0m\u001b[0m\n\u001b[0;32m     90\u001b[0m         y_ = (\n",
      "\u001b[1;32m~\\anaconda3\\lib\\site-packages\\imblearn\\over_sampling\\_smote\\cluster.py\u001b[0m in \u001b[0;36m_fit_resample\u001b[1;34m(self, X, y)\u001b[0m\n\u001b[0;32m    263\u001b[0m \u001b[1;33m\u001b[0m\u001b[0m\n\u001b[0;32m    264\u001b[0m             \u001b[1;32mif\u001b[0m \u001b[1;32mnot\u001b[0m \u001b[0mvalid_clusters\u001b[0m\u001b[1;33m:\u001b[0m\u001b[1;33m\u001b[0m\u001b[1;33m\u001b[0m\u001b[0m\n\u001b[1;32m--> 265\u001b[1;33m                 raise RuntimeError(\n\u001b[0m\u001b[0;32m    266\u001b[0m                     \u001b[1;34mf\"No clusters found with sufficient samples of \"\u001b[0m\u001b[1;33m\u001b[0m\u001b[1;33m\u001b[0m\u001b[0m\n\u001b[0;32m    267\u001b[0m                     \u001b[1;34mf\"class {class_sample}. Try lowering the \"\u001b[0m\u001b[1;33m\u001b[0m\u001b[1;33m\u001b[0m\u001b[0m\n",
      "\u001b[1;31mRuntimeError\u001b[0m: No clusters found with sufficient samples of class senior. Try lowering the cluster_balance_threshold or increasing the number of clusters."
     ]
    }
   ],
   "source": [
    "from imblearn.over_sampling import KMeansSMOTE\n",
    "from sklearn.cluster import MiniBatchKMeans\n",
    "imb_KMS = KMeansSMOTE(kmeans_estimator=MiniBatchKMeans(n_init=4, random_state=0), random_state=0, k_neighbors=3)\n",
    "trainDistance_KMS, DR_age_KMS = imb_KMS.fit_resample(trainDistance, DR_age)\n",
    "trainDistance_KMS.shape"
   ]
  },
  {
   "cell_type": "code",
   "execution_count": 22,
   "id": "2c01ed38-03d0-4c15-9076-b2913f645b7b",
   "metadata": {},
   "outputs": [
    {
     "ename": "NameError",
     "evalue": "name 'DR_age_KMS' is not defined",
     "output_type": "error",
     "traceback": [
      "\u001b[1;31m---------------------------------------------------------------------------\u001b[0m",
      "\u001b[1;31mNameError\u001b[0m                                 Traceback (most recent call last)",
      "\u001b[1;32mC:\\Users\\Public\\Documents\\Wondershare\\CreatorTemp\\ipykernel_19520\\2572337372.py\u001b[0m in \u001b[0;36m<module>\u001b[1;34m\u001b[0m\n\u001b[1;32m----> 1\u001b[1;33m \u001b[0mKMS_age_dataframe\u001b[0m \u001b[1;33m=\u001b[0m \u001b[0mpd\u001b[0m\u001b[1;33m.\u001b[0m\u001b[0mDataFrame\u001b[0m\u001b[1;33m(\u001b[0m\u001b[0mdata\u001b[0m \u001b[1;33m=\u001b[0m  \u001b[1;33m{\u001b[0m\u001b[1;34m'age'\u001b[0m\u001b[1;33m:\u001b[0m\u001b[0mDR_age_KMS\u001b[0m\u001b[1;33m}\u001b[0m\u001b[1;33m)\u001b[0m\u001b[1;33m\u001b[0m\u001b[1;33m\u001b[0m\u001b[0m\n\u001b[0m\u001b[0;32m      2\u001b[0m \u001b[1;31m#print(KMS_age_dataframe)\u001b[0m\u001b[1;33m\u001b[0m\u001b[1;33m\u001b[0m\u001b[0m\n\u001b[0;32m      3\u001b[0m \u001b[0mKMS_age_count\u001b[0m \u001b[1;33m=\u001b[0m \u001b[0mKMS_age_dataframe\u001b[0m\u001b[1;33m[\u001b[0m\u001b[1;34m'age'\u001b[0m\u001b[1;33m]\u001b[0m\u001b[1;33m.\u001b[0m\u001b[0mvalue_counts\u001b[0m\u001b[1;33m(\u001b[0m\u001b[1;33m)\u001b[0m\u001b[1;33m\u001b[0m\u001b[1;33m\u001b[0m\u001b[0m\n\u001b[0;32m      4\u001b[0m \u001b[0mprint\u001b[0m\u001b[1;33m(\u001b[0m\u001b[0mKMS_age_count\u001b[0m\u001b[1;33m)\u001b[0m\u001b[1;33m\u001b[0m\u001b[1;33m\u001b[0m\u001b[0m\n",
      "\u001b[1;31mNameError\u001b[0m: name 'DR_age_KMS' is not defined"
     ]
    }
   ],
   "source": [
    "KMS_age_dataframe = pd.DataFrame(data =  {'age':DR_age_KMS})\n",
    "#print(KMS_age_dataframe)\n",
    "KMS_age_count = KMS_age_dataframe['age'].value_counts()\n",
    "print(KMS_age_count)"
   ]
  },
  {
   "cell_type": "code",
   "execution_count": null,
   "id": "06bd32d1-179b-4838-81e1-b5c244716752",
   "metadata": {},
   "outputs": [],
   "source": [
    "#采用sklearn.svm.SVC，类似的有sklearn.svm.LinearSVC\n",
    "\n",
    "clf_ovoLinear_SMOTE = SVC(kernel='linear')\n",
    "clf_ovoLinear_SMOTE.fit(trainDistance_SMOTE, DR_age_SMOTE)"
   ]
  },
  {
   "cell_type": "code",
   "execution_count": null,
   "id": "e13dbc6e-b0cf-4730-9148-765c16fc5310",
   "metadata": {},
   "outputs": [],
   "source": [
    "ovoLinear_SMOTE_age_pre = clf_ovoLinear_SMOTE.predict(testDistance)\n",
    "ovoLinear_SMOTE_accuracy = accuracy_score(DS_age, ovoLinear_SMOTE_age_pre)\n",
    "print('ovoLinear_SMOTE_accuracy = ', ovoLinear_SMOTE_accuracy)\n",
    "print('分类结果报告：', '\\n', classification_report(DS_age, ovoLinear_SMOTE_age_pre))"
   ]
  },
  {
   "cell_type": "markdown",
   "id": "c67aa46e-b34d-4af9-9e91-4c24345d599a",
   "metadata": {
    "tags": []
   },
   "source": [
    "## 2. dlib数据集+欠采样"
   ]
  },
  {
   "cell_type": "markdown",
   "id": "c45d283f-a25c-4d92-bd0f-866eda0992a6",
   "metadata": {
    "tags": []
   },
   "source": [
    "#### 1) rus法-RandomUnderSampler随机欠采样"
   ]
  },
  {
   "cell_type": "code",
   "execution_count": 8,
   "id": "2bd84cb0-d623-4988-9268-bc1ecfa475de",
   "metadata": {},
   "outputs": [],
   "source": [
    "from imblearn.under_sampling import RandomUnderSampler\n",
    "imb_rus = RandomUnderSampler(random_state = 0)\n",
    "trainDistance_rus, DR_age_rus = imb_rus.fit_resample(trainDistance, DR_age)"
   ]
  },
  {
   "cell_type": "code",
   "execution_count": 9,
   "id": "d25b8ac6-8551-4e50-9e31-aa611aa34a3e",
   "metadata": {},
   "outputs": [
    {
     "data": {
      "text/plain": [
       "(216, 128)"
      ]
     },
     "execution_count": 9,
     "metadata": {},
     "output_type": "execute_result"
    }
   ],
   "source": [
    "trainDistance_rus.shape"
   ]
  },
  {
   "cell_type": "code",
   "execution_count": 14,
   "id": "95eb941a-a4ca-4abf-9e7c-9570088739e8",
   "metadata": {},
   "outputs": [
    {
     "name": "stdout",
     "output_type": "stream",
     "text": [
      "       age\n",
      "0    adult\n",
      "1    adult\n",
      "2    adult\n",
      "3    adult\n",
      "4    adult\n",
      "..     ...\n",
      "211   teen\n",
      "212   teen\n",
      "213   teen\n",
      "214   teen\n",
      "215   teen\n",
      "\n",
      "[216 rows x 1 columns]\n",
      "adult     54\n",
      "child     54\n",
      "senior    54\n",
      "teen      54\n",
      "Name: age, dtype: int64\n"
     ]
    }
   ],
   "source": [
    "rus_age_dataframe = pd.DataFrame(data =  {'age':DR_age_rus})\n",
    "print(rus_age_dataframe)\n",
    "rus_age_count = rus_age_dataframe['age'].value_counts()\n",
    "print(rus_age_count)"
   ]
  },
  {
   "cell_type": "code",
   "execution_count": 10,
   "id": "cef5a00a-24fa-43dc-bbdf-8886c743884f",
   "metadata": {},
   "outputs": [
    {
     "data": {
      "text/plain": [
       "SVC(kernel='linear')"
      ]
     },
     "execution_count": 10,
     "metadata": {},
     "output_type": "execute_result"
    }
   ],
   "source": [
    "#采用sklearn.svm.SVC，类似的有sklearn.svm.LinearSVC\n",
    "\n",
    "clf_ovoLinear_rus = SVC(kernel='linear')\n",
    "clf_ovoLinear_rus.fit(trainDistance_rus, DR_age_rus)"
   ]
  },
  {
   "cell_type": "code",
   "execution_count": 11,
   "id": "e6e52441-1215-4a12-8f98-c61d2fbee40e",
   "metadata": {},
   "outputs": [
    {
     "name": "stdout",
     "output_type": "stream",
     "text": [
      "ovoLinear_rus_accuracy =  0.6903807615230461\n",
      "分类结果报告： \n",
      "               precision    recall  f1-score   support\n",
      "\n",
      "       adult       0.97      0.70      0.81      1730\n",
      "       child       0.44      0.72      0.54        68\n",
      "      senior       0.37      0.83      0.51       115\n",
      "        teen       0.07      0.33      0.12        83\n",
      "\n",
      "    accuracy                           0.69      1996\n",
      "   macro avg       0.46      0.64      0.50      1996\n",
      "weighted avg       0.88      0.69      0.75      1996\n",
      "\n"
     ]
    }
   ],
   "source": [
    "ovoLinear_rus_age_pre = clf_ovoLinear_rus.predict(testDistance)\n",
    "ovoLinear_rus_accuracy = accuracy_score(DS_age, ovoLinear_rus_age_pre)\n",
    "print('ovoLinear_rus_accuracy = ', ovoLinear_rus_accuracy)\n",
    "print('分类结果报告：', '\\n', classification_report(DS_age, ovoLinear_rus_age_pre))"
   ]
  },
  {
   "cell_type": "markdown",
   "id": "8cdcc8c7-ba99-4662-91f0-566a94ddd0c3",
   "metadata": {
    "tags": []
   },
   "source": [
    "#### 2) ClusterCentroids欠采样"
   ]
  },
  {
   "cell_type": "code",
   "execution_count": 5,
   "id": "ea892fb9-d9cc-43e7-9830-1a5c572e8c12",
   "metadata": {},
   "outputs": [
    {
     "data": {
      "text/plain": [
       "(216, 128)"
      ]
     },
     "execution_count": 5,
     "metadata": {},
     "output_type": "execute_result"
    }
   ],
   "source": [
    "from imblearn.under_sampling import ClusterCentroids\n",
    "imb_CC = ClusterCentroids(random_state = 0)\n",
    "trainDistance_CC, DR_age_CC = imb_CC.fit_resample(trainDistance, DR_age)\n",
    "trainDistance_CC.shape"
   ]
  },
  {
   "cell_type": "code",
   "execution_count": 6,
   "id": "fa476ac4-0ff2-406f-b39b-5e104bfbe0b7",
   "metadata": {},
   "outputs": [
    {
     "name": "stdout",
     "output_type": "stream",
     "text": [
      "adult     54\n",
      "child     54\n",
      "senior    54\n",
      "teen      54\n",
      "Name: age, dtype: int64\n"
     ]
    }
   ],
   "source": [
    "CC_age_dataframe = pd.DataFrame(data =  {'age':DR_age_CC})\n",
    "CC_age_count = CC_age_dataframe['age'].value_counts()\n",
    "print(CC_age_count)"
   ]
  },
  {
   "cell_type": "code",
   "execution_count": 7,
   "id": "e6fa3fe0-d8ec-4343-a5ad-7a4f5c336c04",
   "metadata": {},
   "outputs": [
    {
     "data": {
      "text/plain": [
       "SVC(kernel='linear')"
      ]
     },
     "execution_count": 7,
     "metadata": {},
     "output_type": "execute_result"
    }
   ],
   "source": [
    "#采用sklearn.svm.SVC，类似的有sklearn.svm.LinearSVC\n",
    "\n",
    "clf_ovoLinear_CC = SVC(kernel='linear')\n",
    "clf_ovoLinear_CC.fit(trainDistance_CC, DR_age_CC)"
   ]
  },
  {
   "cell_type": "code",
   "execution_count": 8,
   "id": "7110a500-dd95-4774-8175-7f2d589afa6d",
   "metadata": {},
   "outputs": [
    {
     "name": "stdout",
     "output_type": "stream",
     "text": [
      "ovoLinear_CC_accuracy =  0.6783567134268537\n",
      "分类结果报告： \n",
      "               precision    recall  f1-score   support\n",
      "\n",
      "       adult       0.97      0.68      0.80      1730\n",
      "       child       0.35      0.81      0.49        68\n",
      "      senior       0.37      0.86      0.52       115\n",
      "        teen       0.09      0.39      0.14        83\n",
      "\n",
      "    accuracy                           0.68      1996\n",
      "   macro avg       0.45      0.68      0.49      1996\n",
      "weighted avg       0.88      0.68      0.74      1996\n",
      "\n"
     ]
    }
   ],
   "source": [
    "ovoLinear_CC_age_pre = clf_ovoLinear_CC.predict(testDistance)\n",
    "ovoLinear_CC_accuracy = accuracy_score(DS_age, ovoLinear_CC_age_pre)\n",
    "print('ovoLinear_CC_accuracy = ', ovoLinear_CC_accuracy)\n",
    "print('分类结果报告：', '\\n', classification_report(DS_age, ovoLinear_CC_age_pre))"
   ]
  },
  {
   "cell_type": "code",
   "execution_count": null,
   "id": "bb0a7aaf-74c5-492d-8065-4fcd75b7424a",
   "metadata": {},
   "outputs": [],
   "source": []
  },
  {
   "cell_type": "code",
   "execution_count": 23,
   "id": "62467d52-9976-457a-86dc-1a8f1b2ca39b",
   "metadata": {},
   "outputs": [
    {
     "data": {
      "text/plain": [
       "(5744, 128)"
      ]
     },
     "execution_count": 23,
     "metadata": {},
     "output_type": "execute_result"
    }
   ],
   "source": [
    "from imblearn.combine import SMOTETomek\n",
    "imb_SMOTETomek =SMOTETomek(random_state=0)\n",
    "trainDistance_SMOTETomek, DR_age_SMOTETomek = imb_SMOTETomek.fit_resample(trainDistance, DR_age)\n",
    "trainDistance_SMOTETomek.shape"
   ]
  },
  {
   "cell_type": "code",
   "execution_count": 24,
   "id": "0bd1661b-f4e6-4b1b-a6e3-f90263337099",
   "metadata": {},
   "outputs": [
    {
     "name": "stdout",
     "output_type": "stream",
     "text": [
      "child     1436\n",
      "adult     1436\n",
      "teen      1436\n",
      "senior    1436\n",
      "Name: age, dtype: int64\n"
     ]
    }
   ],
   "source": [
    "SMOTETomek_age_dataframe = pd.DataFrame(data =  {'age':DR_age_SMOTETomek})\n",
    "#print(SMOTETomek_age_dataframe)\n",
    "SMOTETomek_age_count = SMOTETomek_age_dataframe['age'].value_counts()\n",
    "print(SMOTETomek_age_count)"
   ]
  },
  {
   "cell_type": "code",
   "execution_count": 25,
   "id": "c515ff82-6cd9-48c9-8b6e-239c725da858",
   "metadata": {},
   "outputs": [
    {
     "data": {
      "text/plain": [
       "SVC(kernel='linear')"
      ]
     },
     "execution_count": 25,
     "metadata": {},
     "output_type": "execute_result"
    }
   ],
   "source": [
    "#采用sklearn.svm.SVC，类似的有sklearn.svm.LinearSVC\n",
    "\n",
    "clf_ovoLinear_SMOTETomek = SVC(kernel='linear')\n",
    "clf_ovoLinear_SMOTETomek.fit(trainDistance_SMOTETomek, DR_age_SMOTETomek)"
   ]
  },
  {
   "cell_type": "code",
   "execution_count": 26,
   "id": "0f95c643-487f-459e-95b5-8677215fed22",
   "metadata": {},
   "outputs": [
    {
     "name": "stdout",
     "output_type": "stream",
     "text": [
      "ovoLinear_SMOTETomek_accuracy =  0.844689378757515\n",
      "分类结果报告： \n",
      "               precision    recall  f1-score   support\n",
      "\n",
      "       adult       0.96      0.88      0.92      1730\n",
      "       child       0.62      0.63      0.63        68\n",
      "      senior       0.56      0.75      0.64       115\n",
      "        teen       0.21      0.49      0.29        83\n",
      "\n",
      "    accuracy                           0.84      1996\n",
      "   macro avg       0.59      0.69      0.62      1996\n",
      "weighted avg       0.90      0.84      0.87      1996\n",
      "\n"
     ]
    }
   ],
   "source": [
    "ovoLinear_SMOTETomek_age_pre = clf_ovoLinear_SMOTETomek.predict(testDistance)\n",
    "ovoLinear_SMOTETomek_accuracy = accuracy_score(DS_age, ovoLinear_SMOTETomek_age_pre)\n",
    "print('ovoLinear_SMOTETomek_accuracy = ', ovoLinear_SMOTETomek_accuracy)\n",
    "print('分类结果报告：', '\\n', classification_report(DS_age, ovoLinear_SMOTETomek_age_pre))"
   ]
  },
  {
   "cell_type": "markdown",
   "id": "7ceb4e57-b551-461a-8d07-cd8bd93b6269",
   "metadata": {
    "tags": []
   },
   "source": [
    "## 3. PCA数据集 + SMOTE"
   ]
  },
  {
   "cell_type": "code",
   "execution_count": 29,
   "id": "3c98da8e-b88e-4db7-8b22-a2841f1315a6",
   "metadata": {},
   "outputs": [
    {
     "data": {
      "text/plain": [
       "(5744, 128)"
      ]
     },
     "execution_count": 29,
     "metadata": {},
     "output_type": "execute_result"
    }
   ],
   "source": [
    "from imblearn.over_sampling import SMOTE\n",
    "PCAimb_SMOTE = SMOTE(random_state = 0)\n",
    "trainPCA_SMOTE, DR_PCA_age_SMOTE = PCAimb_SMOTE.fit_resample(trainPCA, DR_age)\n",
    "trainPCA_SMOTE.shape"
   ]
  },
  {
   "cell_type": "code",
   "execution_count": 30,
   "id": "c0096537-0d76-41a5-ab05-e7c7b14ca033",
   "metadata": {},
   "outputs": [
    {
     "name": "stdout",
     "output_type": "stream",
     "text": [
      "child     1436\n",
      "adult     1436\n",
      "teen      1436\n",
      "senior    1436\n",
      "Name: age, dtype: int64\n"
     ]
    }
   ],
   "source": [
    "SMOTE_age_dataframe = pd.DataFrame(data =  {'age':DR_PCA_age_SMOTE})\n",
    "#print(ros_age_dataframe)\n",
    "SMOTE_age_count = SMOTE_age_dataframe['age'].value_counts()\n",
    "print(SMOTE_age_count)"
   ]
  },
  {
   "cell_type": "code",
   "execution_count": 31,
   "id": "b476cf6c-a749-4fd3-82e2-67c942760704",
   "metadata": {},
   "outputs": [
    {
     "data": {
      "text/plain": [
       "SVC(kernel='linear')"
      ]
     },
     "execution_count": 31,
     "metadata": {},
     "output_type": "execute_result"
    }
   ],
   "source": [
    "#采用sklearn.svm.SVC，类似的有sklearn.svm.LinearSVC\n",
    "\n",
    "clf_PCA_ovoLinear_SMOTE = SVC(kernel='linear')\n",
    "clf_PCA_ovoLinear_SMOTE.fit(trainPCA_SMOTE, DR_PCA_age_SMOTE)"
   ]
  },
  {
   "cell_type": "code",
   "execution_count": 32,
   "id": "fffd0db4-6ff2-4725-919e-3ea59ce94bd1",
   "metadata": {},
   "outputs": [
    {
     "name": "stdout",
     "output_type": "stream",
     "text": [
      "ovoLinear_PCA_SMOTE_accuracy =  0.7950901803607214\n",
      "分类结果报告： \n",
      "               precision    recall  f1-score   support\n",
      "\n",
      "       adult       0.90      0.88      0.89      1730\n",
      "       child       0.46      0.25      0.32        68\n",
      "      senior       0.20      0.32      0.25       115\n",
      "        teen       0.12      0.12      0.12        83\n",
      "\n",
      "    accuracy                           0.80      1996\n",
      "   macro avg       0.42      0.39      0.40      1996\n",
      "weighted avg       0.81      0.80      0.80      1996\n",
      "\n"
     ]
    }
   ],
   "source": [
    "ovoLinear_PCA_SMOTE_age_pre = clf_PCA_ovoLinear_SMOTE.predict(testPCA)\n",
    "ovoLinear_PCA_SMOTE_accuracy = accuracy_score(DS_age, ovoLinear_PCA_SMOTE_age_pre)\n",
    "print('ovoLinear_PCA_SMOTE_accuracy = ', ovoLinear_PCA_SMOTE_accuracy)\n",
    "print('分类结果报告：', '\\n', classification_report(DS_age, ovoLinear_PCA_SMOTE_age_pre))"
   ]
  },
  {
   "cell_type": "markdown",
   "id": "2713b208-dc8b-4555-ac7b-ecb59b715c72",
   "metadata": {
    "tags": []
   },
   "source": [
    "## 4. LBP_PCA数据集 + SMOTE"
   ]
  },
  {
   "cell_type": "code",
   "execution_count": 30,
   "id": "c2491e22-8968-4d5e-a3dc-380834758374",
   "metadata": {},
   "outputs": [],
   "source": [
    "from sklearn.preprocessing import StandardScaler    #数据标准化\n",
    "LBP_PCA_SD = StandardScaler()\n",
    "LBP_PCA_SD.fit(trainLBP_PCA)\n",
    "trainLBP_PCA_std = LBP_PCA_SD.transform(trainLBP_PCA)\n",
    "testLBP_PCA_std = LBP_PCA_SD.transform(testLBP_PCA)"
   ]
  },
  {
   "cell_type": "code",
   "execution_count": 31,
   "id": "36aaf286-8b39-4a84-906e-1f88d54ed074",
   "metadata": {},
   "outputs": [
    {
     "data": {
      "text/plain": [
       "(5744, 128)"
      ]
     },
     "execution_count": 31,
     "metadata": {},
     "output_type": "execute_result"
    }
   ],
   "source": [
    "from imblearn.over_sampling import SMOTE\n",
    "LBP_PCAimb_SMOTE = SMOTE(random_state = 0)\n",
    "trainLBP_PCA_SMOTE, DR_LBP_PCA_age_SMOTE = LBP_PCAimb_SMOTE.fit_resample(trainLBP_PCA_std, DR_age)\n",
    "trainLBP_PCA_SMOTE.shape"
   ]
  },
  {
   "cell_type": "code",
   "execution_count": 32,
   "id": "706d3b7b-29d9-4c72-aba4-5d882c4df912",
   "metadata": {},
   "outputs": [
    {
     "name": "stdout",
     "output_type": "stream",
     "text": [
      "child     1436\n",
      "adult     1436\n",
      "teen      1436\n",
      "senior    1436\n",
      "Name: age, dtype: int64\n"
     ]
    }
   ],
   "source": [
    "SMOTE_age_dataframe = pd.DataFrame(data =  {'age':DR_LBP_PCA_age_SMOTE})\n",
    "#print(ros_age_dataframe)\n",
    "SMOTE_age_count = SMOTE_age_dataframe['age'].value_counts()\n",
    "print(SMOTE_age_count)"
   ]
  },
  {
   "cell_type": "code",
   "execution_count": 33,
   "id": "41ab85b6-493c-4b55-baf9-f60123d99556",
   "metadata": {},
   "outputs": [
    {
     "data": {
      "text/plain": [
       "SVC(kernel='linear')"
      ]
     },
     "execution_count": 33,
     "metadata": {},
     "output_type": "execute_result"
    }
   ],
   "source": [
    "#采用sklearn.svm.SVC，类似的有sklearn.svm.LinearSVC\n",
    "\n",
    "clf_LBP_PCA_ovoLinear_SMOTE = SVC(kernel='linear')\n",
    "clf_LBP_PCA_ovoLinear_SMOTE.fit(trainLBP_PCA_SMOTE, DR_LBP_PCA_age_SMOTE)"
   ]
  },
  {
   "cell_type": "code",
   "execution_count": 34,
   "id": "3e044a5e-03b4-48c6-bfaf-ba95da7726d7",
   "metadata": {},
   "outputs": [
    {
     "name": "stdout",
     "output_type": "stream",
     "text": [
      "ovoLinear_LBP_PCA_SMOTE_accuracy =  0.8722444889779559\n",
      "分类结果报告： \n",
      "               precision    recall  f1-score   support\n",
      "\n",
      "       adult       0.89      0.99      0.94      1730\n",
      "       child       0.03      0.01      0.02        68\n",
      "      senior       0.83      0.22      0.34       115\n",
      "        teen       0.00      0.00      0.00        83\n",
      "\n",
      "    accuracy                           0.87      1996\n",
      "   macro avg       0.44      0.31      0.33      1996\n",
      "weighted avg       0.82      0.87      0.84      1996\n",
      "\n"
     ]
    }
   ],
   "source": [
    "ovoLinear_LBP_PCA_SMOTE_age_pre = clf_LBP_PCA_ovoLinear_SMOTE.predict(testLBP_PCA_std)\n",
    "ovoLinear_LBP_PCA_SMOTE_accuracy = accuracy_score(DS_age, ovoLinear_LBP_PCA_SMOTE_age_pre)\n",
    "print('ovoLinear_LBP_PCA_SMOTE_accuracy = ', ovoLinear_LBP_PCA_SMOTE_accuracy)\n",
    "print('分类结果报告：', '\\n', classification_report(DS_age, ovoLinear_LBP_PCA_SMOTE_age_pre))"
   ]
  },
  {
   "cell_type": "code",
   "execution_count": 35,
   "id": "95399d56-b4ab-4d06-bb22-38f6dff2074e",
   "metadata": {},
   "outputs": [
    {
     "name": "stdout",
     "output_type": "stream",
     "text": [
      "LBP_ovoLinear_SMOTE混淆矩阵如下：\n",
      "\n"
     ]
    },
    {
     "data": {
      "image/png": "[encoded data removed]",
      "text/plain": [
       "<Figure size 640x480 with 2 Axes>"
      ]
     },
     "metadata": {},
     "output_type": "display_data"
    }
   ],
   "source": [
    "from sklearn.metrics import ConfusionMatrixDisplay\n",
    "cfm_LBP_PCA_ovoLinear_SMOTE = confusion_matrix(DS_age, ovoLinear_LBP_PCA_SMOTE_age_pre)\n",
    "print('LBP_ovoLinear_SMOTE混淆矩阵如下：\\n')\n",
    "cfm_LBP_PCA_ovoLinear_SMOTE_display = ConfusionMatrixDisplay(cfm_LBP_PCA_ovoLinear_SMOTE).plot()"
   ]
  },
  {
   "cell_type": "markdown",
   "id": "a5100e49-1413-45ca-9bb2-b61a657b9638",
   "metadata": {},
   "source": [
    "上图中0 = adult， 1 = child， 2 = senior， 3 = teen"
   ]
  },
  {
   "cell_type": "markdown",
   "id": "3b0d1c54-b80c-41e4-afb5-b4c060c98917",
   "metadata": {},
   "source": [
    "## 5. LBPH数据集 + SMOTE"
   ]
  },
  {
   "cell_type": "code",
   "execution_count": 37,
   "id": "1b534e2c-54ee-4b22-a1ac-949a11d8121c",
   "metadata": {},
   "outputs": [],
   "source": [
    "from sklearn.preprocessing import StandardScaler    #数据标准化\n",
    "LBP_SD = StandardScaler()\n",
    "LBP_SD.fit(trainLBP)\n",
    "trainLBP_std = LBP_SD.transform(trainLBP)\n",
    "testLBP_std = LBP_SD.transform(testLBP)"
   ]
  },
  {
   "cell_type": "code",
   "execution_count": 38,
   "id": "fb4015be-0ddd-4882-9968-dd54e6ab0f58",
   "metadata": {},
   "outputs": [
    {
     "data": {
      "text/plain": [
       "(5744, 128)"
      ]
     },
     "execution_count": 38,
     "metadata": {},
     "output_type": "execute_result"
    }
   ],
   "source": [
    "from imblearn.over_sampling import SMOTE\n",
    "LBPimb_SMOTE = SMOTE(random_state = 0)\n",
    "trainLBP_SMOTE, DR_LBP_age_SMOTE = LBPimb_SMOTE.fit_resample(trainLBP_std, DR_age)\n",
    "trainLBP_SMOTE.shape"
   ]
  },
  {
   "cell_type": "code",
   "execution_count": 39,
   "id": "f6da3e25-ea7c-47ba-b8e7-7c33b258f190",
   "metadata": {},
   "outputs": [
    {
     "data": {
      "text/plain": [
       "SVC(kernel='linear')"
      ]
     },
     "execution_count": 39,
     "metadata": {},
     "output_type": "execute_result"
    }
   ],
   "source": [
    "#采用sklearn.svm.SVC，类似的有sklearn.svm.LinearSVC\n",
    "\n",
    "clf_LBP_ovoLinear_SMOTE = SVC(kernel='linear')\n",
    "clf_LBP_ovoLinear_SMOTE.fit(trainLBP_SMOTE, DR_LBP_age_SMOTE)"
   ]
  },
  {
   "cell_type": "code",
   "execution_count": 40,
   "id": "dc77111a-e167-4697-8b99-121db98cbeb2",
   "metadata": {},
   "outputs": [
    {
     "name": "stdout",
     "output_type": "stream",
     "text": [
      "ovoLinear_LBP_SMOTE_accuracy =  0.6412825651302605\n",
      "分类结果报告： \n",
      "               precision    recall  f1-score   support\n",
      "\n",
      "       adult       0.89      0.70      0.78      1730\n",
      "       child       0.07      0.24      0.11        68\n",
      "      senior       0.23      0.37      0.28       115\n",
      "        teen       0.03      0.07      0.04        83\n",
      "\n",
      "    accuracy                           0.64      1996\n",
      "   macro avg       0.30      0.34      0.30      1996\n",
      "weighted avg       0.79      0.64      0.70      1996\n",
      "\n"
     ]
    }
   ],
   "source": [
    "ovoLinear_LBP_SMOTE_age_pre = clf_LBP_ovoLinear_SMOTE.predict(testLBP_std)\n",
    "ovoLinear_LBP_SMOTE_accuracy = accuracy_score(DS_age, ovoLinear_LBP_SMOTE_age_pre)\n",
    "print('ovoLinear_LBP_SMOTE_accuracy = ', ovoLinear_LBP_SMOTE_accuracy)\n",
    "print('分类结果报告：', '\\n', classification_report(DS_age, ovoLinear_LBP_SMOTE_age_pre))"
   ]
  },
  {
   "cell_type": "code",
   "execution_count": 41,
   "id": "d713cab3-7b7f-44b6-9a57-f8f5e6fb48ae",
   "metadata": {},
   "outputs": [
    {
     "name": "stdout",
     "output_type": "stream",
     "text": [
      "LBP_ovoLinear_SMOTE混淆矩阵如下：\n",
      "\n"
     ]
    },
    {
     "data": {
      "image/png": "[encoded data removed]",
      "text/plain": [
       "<Figure size 640x480 with 2 Axes>"
      ]
     },
     "metadata": {},
     "output_type": "display_data"
    }
   ],
   "source": [
    "from sklearn.metrics import ConfusionMatrixDisplay\n",
    "cfm_LBP_ovoLinear_SMOTE = confusion_matrix(DS_age, ovoLinear_LBP_SMOTE_age_pre)\n",
    "print('LBP_ovoLinear_SMOTE混淆矩阵如下：\\n')\n",
    "cfm_LBP_ovoLinear_SMOTE_display = ConfusionMatrixDisplay(cfm_LBP_ovoLinear_SMOTE).plot()"
   ]
  },
  {
   "cell_type": "markdown",
   "id": "e68354cd-1a1e-4674-876c-6134f3d03729",
   "metadata": {},
   "source": [
    "上图中0 = adult， 1 = child， 2 = senior， 3 = teen"
   ]
  }
 ],
 "metadata": {
  "kernelspec": {
   "display_name": "Python 3 (ipykernel)",
   "language": "python",
   "name": "python3"
  },
  "language_info": {
   "codemirror_mode": {
    "name": "ipython",
    "version": 3
   },
   "file_extension": ".py",
   "mimetype": "text/x-python",
   "name": "python",
   "nbconvert_exporter": "python",
   "pygments_lexer": "ipython3",
   "version": "3.9.13"
  }
 },
 "nbformat": 4,
 "nbformat_minor": 5
}
