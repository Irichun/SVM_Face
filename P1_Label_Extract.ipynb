{
 "cells": [
  {
   "cell_type": "code",
   "execution_count": 1,
   "id": "fb7e3a19",
   "metadata": {},
   "outputs": [],
   "source": [
    "import pandas as pd\n",
    "import numpy as np\n",
    "from matplotlib import pyplot as plt\n",
    "import cv2\n",
    "import os\n",
    "import re"
   ]
  },
  {
   "cell_type": "markdown",
   "id": "31a27451-f156-4845-aaec-27e4c004a3ed",
   "metadata": {},
   "source": [
    "## 说明：\n",
    "本程序用于提取与保存人脸数据集的标签，并对人脸数据集的各种标签进行统计"
   ]
  },
  {
   "cell_type": "markdown",
   "id": "1e6b9455",
   "metadata": {},
   "source": [
    "读入训练集和测试集标签"
   ]
  },
  {
   "cell_type": "code",
   "execution_count": 2,
   "id": "45d09692",
   "metadata": {},
   "outputs": [
    {
     "name": "stdout",
     "output_type": "stream",
     "text": [
      "1223 (_sex  male) (_age  child) (_race white) (_face smiling) (_prop '())\n"
     ]
    }
   ],
   "source": [
    "#face_DR: 训练集标签\n",
    "with open(\"data/faceDR\", 'r') as f:\n",
    "    face_DR = f.read()\n",
    "print(face_DR[1:74]) #显示训练集标签中的前74个字，即第一行"
   ]
  },
  {
   "cell_type": "code",
   "execution_count": 4,
   "id": "43f0065f",
   "metadata": {},
   "outputs": [],
   "source": [
    "#face_DS：测试集标签\n",
    "with open(\"data/faceDS\", 'r') as f:\n",
    "    face_DS = f.read()"
   ]
  },
  {
   "cell_type": "markdown",
   "id": "f20c3e03",
   "metadata": {},
   "source": [
    "### 提取数据集标签并将其数字化。"
   ]
  },
  {
   "cell_type": "markdown",
   "id": "0339c340",
   "metadata": {},
   "source": [
    "在训练集中有无法使用的图片，故应该将这些图片对应的标签从训练集标签中去除。"
   ]
  },
  {
   "cell_type": "markdown",
   "id": "907d26b4",
   "metadata": {},
   "source": [
    "在训练集标签中有“miss descriptior”，即标签缺失。由于缺失样本数很少（只有两个），并且该缺失针对所有类型的标签，故直接将缺失去样本从数据集中删除。"
   ]
  },
  {
   "cell_type": "markdown",
   "id": "35512a79",
   "metadata": {},
   "source": [
    "所用标签为：1.性别，分为female和male两类；2.年龄，分为child, teen, aldult, senior共四类"
   ]
  },
  {
   "cell_type": "markdown",
   "id": "48e0a33e-0b04-48aa-b007-5c1694434939",
   "metadata": {},
   "source": [
    "#### 训练集标签处理"
   ]
  },
  {
   "cell_type": "markdown",
   "id": "d0e40ca0",
   "metadata": {},
   "source": [
    "将训练集标签整理为DataFrame格式"
   ]
  },
  {
   "cell_type": "code",
   "execution_count": 6,
   "id": "d77e8c15",
   "metadata": {},
   "outputs": [
    {
     "name": "stdout",
     "output_type": "stream",
     "text": [
      "原始数据标签个数 = 2000\n",
      "         sex     age   race     face\n",
      "1223    male   child  white  smiling\n",
      "1224    male   child  white  serious\n",
      "1225    male   child  white  smiling\n",
      "1226    male   child  white  smiling\n",
      "1227    male   child  white  serious\n",
      "...      ...     ...    ...      ...\n",
      "3218  female  senior  white  serious\n",
      "3219  female  senior  white  smiling\n",
      "3220  female   adult  asian  serious\n",
      "3221  female  senior  white  smiling\n",
      "3222  female  senior  black  serious\n",
      "\n",
      "[1995 rows x 4 columns]\n",
      "         sex    age   race     face\n",
      "count   1995   1995   1995     1995\n",
      "unique     2      4      5        3\n",
      "top     male  adult  white  smiling\n",
      "freq    1148   1436   1838     1043\n",
      "wrong = [1228, 1232, 1808, 2412, 2416]\n",
      "有效标签face_DR_num数量为： 1995\n",
      "噪声标签face_DR_wrong数量为： 5\n",
      "噪声样本序号： [1228, 1232, 1808, 2412, 2416]\n"
     ]
    }
   ],
   "source": [
    "face_DR_num = re.findall(\"\\d+(?=\\s\\(_sex)\", face_DR)    #可用图片标号\n",
    "face_DR_wrong = re.findall(\"\\d+(?=\\s\\(_miss)\", face_DR)    #缺失标签值的图片标号\n",
    "\n",
    "for index, num in enumerate(face_DR_num):\n",
    "    face_DR_num[index]=int(face_DR_num[index])\n",
    "\n",
    "for index, wrong in enumerate(face_DR_wrong):\n",
    "    face_DR_wrong[index]=int(wrong)\n",
    "\n",
    "face_DR_sex = re.findall(\"(?<=sex\\s\\s)\\w+\", face_DR)    #有效性别标签\n",
    "face_DR_age = re.findall(\"(?<=age\\s\\s)\\w+\", face_DR)    #有效年龄标签\n",
    "face_DR_race = re.findall(\"(?<=race\\s)\\w+\", face_DR)    #有效种族标签\n",
    "face_DR_face = re.findall(\"(?<=face\\s)\\w+\", face_DR)    #有效情感标签\n",
    "# face_DR_prop = re.findall(\"(?<=_prop\\s\\'\\()\\w+|\\)\", face_DR)    #有效特殊特征标签\n",
    "# for index, prop in enumerate(face_DR_prop):\n",
    "#     if prop == ')':\n",
    "#         face_DR_prop[index] = ''\n",
    "\n",
    "# print(face_DR_sex[0])\n",
    "# print(face_DR_age[0])\n",
    "# print(face_DR_race[0])\n",
    "# print(face_DR_face[0])\n",
    "# print('face_DR_prop =', len(face_DR_prop))\n",
    "  \n",
    "print(\"原始数据标签个数 =\", len(face_DR_num)+len(face_DR_wrong))\n",
    "#将face_DR_num中含有的噪声标签去除（放入face_DR_wrong中），并对两个列表中的字符串数值化\n",
    "\n",
    "   \n",
    "face_DR_data = {'sex':face_DR_sex, 'age':face_DR_age, 'race':face_DR_race, 'face':face_DR_face}\n",
    "face_DR_dataframe = pd.DataFrame(data = face_DR_data, index = face_DR_num)\n",
    "\n",
    "\n",
    "#经测试发现，2412号、2416图片格式有问题，无法读取\n",
    "face_DR_dataframe.drop([2412,2416], axis=0, inplace=True)\n",
    "face_DR_wrong.extend([2412,2416])\n",
    "face_DR_num.remove(2412)\n",
    "face_DR_num.remove(2416)\n",
    "print(face_DR_dataframe)\n",
    "print(face_DR_dataframe.describe())\n",
    "\n",
    "\n",
    "print('wrong =',face_DR_wrong)\n",
    "        \n",
    "print(\"有效标签face_DR_num数量为：\", len(face_DR_num))\n",
    "print(\"噪声标签face_DR_wrong数量为：\", len(face_DR_wrong))\n",
    "print(\"噪声样本序号：\", face_DR_wrong)\n",
    "\n",
    "# print(face_DR_num)"
   ]
  },
  {
   "cell_type": "markdown",
   "id": "e168067b",
   "metadata": {},
   "source": [
    "#### 训练集标签统计"
   ]
  },
  {
   "cell_type": "code",
   "execution_count": 7,
   "id": "44a92383",
   "metadata": {},
   "outputs": [
    {
     "name": "stdout",
     "output_type": "stream",
     "text": [
      "male      1148\n",
      "female     847\n",
      "Name: sex, dtype: int64 \n",
      "\n",
      "adult     1436\n",
      "teen       261\n",
      "child      244\n",
      "senior      54\n",
      "Name: age, dtype: int64 \n",
      "\n",
      "white       1838\n",
      "black         64\n",
      "asian         55\n",
      "hispanic      26\n",
      "other         12\n",
      "Name: race, dtype: int64 \n",
      "\n",
      "smiling    1043\n",
      "serious     915\n",
      "funny        37\n",
      "Name: face, dtype: int64 \n",
      "\n"
     ]
    }
   ],
   "source": [
    "DR_sex_count = face_DR_dataframe['sex'].value_counts()\n",
    "print(DR_sex_count,'\\n')\n",
    "DR_age_count = face_DR_dataframe['age'].value_counts()\n",
    "print(DR_age_count,'\\n')\n",
    "DR_race_count = face_DR_dataframe['race'].value_counts()\n",
    "print(DR_race_count,'\\n')\n",
    "DR_face_count = face_DR_dataframe['face'].value_counts()\n",
    "print(DR_face_count,'\\n')"
   ]
  },
  {
   "cell_type": "markdown",
   "id": "2bf44db0",
   "metadata": {},
   "source": [
    "从DataFrame中导出训练集性别标签、年龄标签和情感标签（ndarray类型），共1995个数据；通过np.save与np.load将Series格式的标签转换为矩阵格式"
   ]
  },
  {
   "cell_type": "markdown",
   "id": "1d7f708f",
   "metadata": {},
   "source": [
    "DR_sex.npy为字符串标签，DR_sex_map.npy为二值化后的性别标签(male = 1, female = 0)"
   ]
  },
  {
   "cell_type": "markdown",
   "id": "72784ab9",
   "metadata": {},
   "source": [
    "DR_age.npy为字符串标签，DR_age_map.npy为数值化后的年龄标签(child = 0, teen = 1, adult = 2, senior = 3)"
   ]
  },
  {
   "cell_type": "markdown",
   "id": "c8ed2c40-7c77-4fbc-ab32-66efd5dfce5d",
   "metadata": {},
   "source": [
    "DR_face.npy为字符串标签，DR_face_map.npy为数值化后的年龄标签(smiling = 0, serious = 1, funny = 2)"
   ]
  },
  {
   "cell_type": "code",
   "execution_count": 8,
   "id": "9e3d2310",
   "metadata": {
    "tags": []
   },
   "outputs": [
    {
     "name": "stdout",
     "output_type": "stream",
     "text": [
      "1224    male\n",
      "1225    male\n",
      "1226    male\n",
      "1227    male\n",
      "Name: sex, dtype: object\n",
      "1224    1\n",
      "1225    1\n",
      "1226    1\n",
      "1227    1\n",
      "Name: sex, dtype: int64\n"
     ]
    }
   ],
   "source": [
    "DR_sex = face_DR_dataframe['sex']\n",
    "print(DR_sex[1:5])\n",
    "np.save('data/DR_sex.npy',DR_sex)\n",
    "\n",
    "#数值化处理\n",
    "face_DR_sex_map = pd.Series(face_DR_dataframe['sex'], index = face_DR_num)\n",
    "DR_sex_map = face_DR_sex_map.map({'male':1, 'female':0})\n",
    "print(DR_sex_map[1:5])\n",
    "np.save('data/DR_sex_map.npy', DR_sex_map)"
   ]
  },
  {
   "cell_type": "code",
   "execution_count": 9,
   "id": "598dbd71",
   "metadata": {
    "tags": []
   },
   "outputs": [
    {
     "name": "stdout",
     "output_type": "stream",
     "text": [
      "1224    child\n",
      "1225    child\n",
      "1226    child\n",
      "1227    child\n",
      "Name: age, dtype: object\n",
      "1224    0\n",
      "1225    0\n",
      "1226    0\n",
      "1227    0\n",
      "Name: age, dtype: int64\n"
     ]
    }
   ],
   "source": [
    "DR_age = face_DR_dataframe['age']\n",
    "print(DR_age[1:5])\n",
    "np.save('data/DR_age.npy',DR_age)\n",
    "\n",
    "#数值化处理\n",
    "face_DR_age_map = pd.Series(face_DR_dataframe['age'], index = face_DR_num)\n",
    "DR_age_map = face_DR_age_map.map({'child':0, 'teen':1, 'adult':2, 'senior':3})\n",
    "print(DR_age_map[1:5])\n",
    "np.save('data/DR_age_map.npy', DR_age_map)"
   ]
  },
  {
   "cell_type": "code",
   "execution_count": 10,
   "id": "b6a46e60-7a4b-4a22-a020-27583e4e9126",
   "metadata": {},
   "outputs": [
    {
     "name": "stdout",
     "output_type": "stream",
     "text": [
      "1224    serious\n",
      "1225    smiling\n",
      "1226    smiling\n",
      "1227    serious\n",
      "Name: face, dtype: object\n",
      "1224    1\n",
      "1225    0\n",
      "1226    0\n",
      "1227    1\n",
      "Name: face, dtype: int64\n"
     ]
    }
   ],
   "source": [
    "DR_face = face_DR_dataframe['face']\n",
    "print(DR_face[1:5])\n",
    "np.save('data/DR_face.npy',DR_face)\n",
    "\n",
    "#数值化处理\n",
    "face_DR_face_map = pd.Series(face_DR_dataframe['face'], index = face_DR_num)\n",
    "DR_face_map = face_DR_face_map.map({'smiling':0, 'serious':1, 'funny':2})\n",
    "print(DR_face_map[1:5])\n",
    "np.save('data/DR_face_map.npy', DR_face_map)"
   ]
  },
  {
   "cell_type": "markdown",
   "id": "d89c5c3f-7327-43eb-8f5a-9137e926946b",
   "metadata": {},
   "source": [
    "#### 测试集标签处理"
   ]
  },
  {
   "cell_type": "markdown",
   "id": "efa41b2c",
   "metadata": {},
   "source": [
    "将测试集DS转换为DataFrame格式"
   ]
  },
  {
   "cell_type": "code",
   "execution_count": 11,
   "id": "c4b3ae5c",
   "metadata": {},
   "outputs": [
    {
     "name": "stdout",
     "output_type": "stream",
     "text": [
      "原始数据标签个数 = 2000 \n",
      "\n",
      "测试集标签如下： \n",
      "          sex     age   race     face\n",
      "3223  female  senior  black  smiling\n",
      "3224  female   adult  black  smiling\n",
      "3225    male  senior  white  smiling\n",
      "3226    male  senior  white  serious\n",
      "3227    male  senior  white  serious\n",
      "...      ...     ...    ...      ...\n",
      "5218  female   adult  white  smiling\n",
      "5219  female   adult  white  smiling\n",
      "5220  female   adult  white  serious\n",
      "5221  female   adult  white  smiling\n",
      "5222  female   adult  white  smiling\n",
      "\n",
      "[1996 rows x 4 columns] \n",
      "\n",
      "测试集标签统计如下： \n",
      "          sex    age   race     face\n",
      "count   1996   1996   1996     1996\n",
      "unique     2      4      5        3\n",
      "top     male  adult  white  serious\n",
      "freq    1277   1730   1699     1097 \n",
      "\n",
      "wrong = [4056, 4135, 4136, 5004]\n",
      "有效标签face_DR_num数量为： 1996\n",
      "噪声标签face_DR_wrong数量为： 4\n",
      "噪声样本序号： [4056, 4135, 4136, 5004]\n"
     ]
    }
   ],
   "source": [
    "face_DS_num = re.findall(\"\\d+(?=\\s\\(_sex)\", face_DS)    #可用图片标号\n",
    "face_DS_wrong = re.findall(\"\\d+(?=\\s\\(_miss)\", face_DS)    #缺失标签值的图片标号\n",
    "\n",
    "for index, num in enumerate(face_DS_num):\n",
    "    face_DS_num[index]=int(face_DS_num[index])\n",
    "\n",
    "for index, wrong in enumerate(face_DS_wrong):\n",
    "    face_DS_wrong[index]=int(wrong)\n",
    "\n",
    "\n",
    "face_DS_sex = re.findall(\"(?<=sex\\s\\s)\\w+\", face_DS)    #有效性别标签\n",
    "face_DS_age = re.findall(\"(?<=age\\s\\s)\\w+\", face_DS)    #有效年龄标签\n",
    "face_DS_race = re.findall(\"(?<=race\\s)\\w+\", face_DS)    #有效种族标签\n",
    "face_DS_face = re.findall(\"(?<=face\\s)\\w+\", face_DS)    #有效情感标签\n",
    "    \n",
    "print(\"原始数据标签个数 =\", len(face_DS_num)+len(face_DS_wrong),'\\n')\n",
    "    \n",
    "face_DS_data = {'sex':face_DS_sex, 'age':face_DS_age, 'race':face_DS_race, 'face':face_DS_face}\n",
    "face_DS_dataframe = pd.DataFrame(data = face_DS_data, index = face_DS_num)\n",
    "print('测试集标签如下：','\\n',face_DS_dataframe,'\\n')\n",
    "print('测试集标签统计如下：','\\n',face_DS_dataframe.describe(),'\\n')\n",
    "print('wrong =',face_DS_wrong)      \n",
    "print(\"有效标签face_DR_num数量为：\", len(face_DS_num))\n",
    "print(\"噪声标签face_DR_wrong数量为：\", len(face_DS_wrong))\n",
    "print(\"噪声样本序号：\", face_DS_wrong)\n",
    "\n",
    "# print(face_DS_num)"
   ]
  },
  {
   "cell_type": "markdown",
   "id": "98c41892",
   "metadata": {},
   "source": [
    "#### 测试集标签统计"
   ]
  },
  {
   "cell_type": "code",
   "execution_count": 13,
   "id": "4f3a0658",
   "metadata": {},
   "outputs": [
    {
     "name": "stdout",
     "output_type": "stream",
     "text": [
      "male      1277\n",
      "female     719\n",
      "Name: sex, dtype: int64 \n",
      "\n",
      "adult     1730\n",
      "senior     115\n",
      "teen        83\n",
      "child       68\n",
      "Name: age, dtype: int64 \n",
      "\n",
      "white       1699\n",
      "black        249\n",
      "asian         26\n",
      "hispanic      13\n",
      "other          9\n",
      "Name: race, dtype: int64 \n",
      "\n",
      "serious    1097\n",
      "smiling     836\n",
      "funny        63\n",
      "Name: face, dtype: int64 \n",
      "\n"
     ]
    }
   ],
   "source": [
    "DS_sex_count = face_DS_dataframe['sex'].value_counts()\n",
    "print(DS_sex_count,'\\n')\n",
    "DS_age_count = face_DS_dataframe['age'].value_counts()\n",
    "print(DS_age_count,'\\n')\n",
    "DS_race_count = face_DS_dataframe['race'].value_counts()\n",
    "print(DS_race_count,'\\n')\n",
    "DS_face_count = face_DS_dataframe['face'].value_counts()\n",
    "print(DS_face_count,'\\n')"
   ]
  },
  {
   "cell_type": "markdown",
   "id": "873d4555",
   "metadata": {},
   "source": [
    "导出测试集性别标签、年龄标签和情感标签（ndarray类型），共1996个数据；通过np.save与np.load将Series格式的标签转换为矩阵格式"
   ]
  },
  {
   "cell_type": "code",
   "execution_count": 12,
   "id": "3b9095db",
   "metadata": {},
   "outputs": [
    {
     "name": "stdout",
     "output_type": "stream",
     "text": [
      "3224    female\n",
      "3225      male\n",
      "3226      male\n",
      "3227      male\n",
      "Name: sex, dtype: object\n",
      "3224    0\n",
      "3225    1\n",
      "3226    1\n",
      "3227    1\n",
      "Name: sex, dtype: int64\n"
     ]
    }
   ],
   "source": [
    "DS_sex = face_DS_dataframe['sex']\n",
    "print(DS_sex[1:5])\n",
    "np.save('data/DS_sex.npy', np.array(DS_sex))\n",
    "\n",
    "#数值化处理\n",
    "face_DS_sex_map = pd.Series(face_DS_dataframe['sex'], index = face_DS_num)\n",
    "DS_sex_map = face_DS_sex_map.map({'male':1, 'female':0})\n",
    "print(DS_sex_map[1:5])\n",
    "np.save('data/DS_sex_map.npy', DS_sex_map)"
   ]
  },
  {
   "cell_type": "code",
   "execution_count": 13,
   "id": "036b8c61",
   "metadata": {},
   "outputs": [
    {
     "name": "stdout",
     "output_type": "stream",
     "text": [
      "3224     adult\n",
      "3225    senior\n",
      "3226    senior\n",
      "3227    senior\n",
      "Name: age, dtype: object\n",
      "3224    2\n",
      "3225    3\n",
      "3226    3\n",
      "3227    3\n",
      "Name: age, dtype: int64\n"
     ]
    }
   ],
   "source": [
    "DS_age = face_DS_dataframe['age']\n",
    "print(DS_age[1:5])\n",
    "np.save('data/DS_age.npy',DS_age)\n",
    "\n",
    "#数值化处理\n",
    "face_DS_age_map = pd.Series(face_DS_dataframe['age'], index = face_DS_num)\n",
    "DS_age_map = face_DS_age_map.map({'child':0, 'teen':1, 'adult':2, 'senior':3})\n",
    "print(DS_age_map[1:5])\n",
    "np.save('data/DS_age_map.npy', DS_age_map)"
   ]
  },
  {
   "cell_type": "code",
   "execution_count": 14,
   "id": "62fd9923-fd24-4f07-82b6-8d1f9effedf7",
   "metadata": {},
   "outputs": [
    {
     "name": "stdout",
     "output_type": "stream",
     "text": [
      "3224    smiling\n",
      "3225    smiling\n",
      "3226    serious\n",
      "3227    serious\n",
      "Name: face, dtype: object\n",
      "3224    0\n",
      "3225    0\n",
      "3226    1\n",
      "3227    1\n",
      "Name: face, dtype: int64\n"
     ]
    }
   ],
   "source": [
    "DS_face = face_DS_dataframe['face']\n",
    "print(DS_face[1:5])\n",
    "np.save('data/DS_face.npy',DS_face)\n",
    "\n",
    "#数值化处理\n",
    "face_DS_face_map = pd.Series(face_DS_dataframe['face'], index = face_DS_num)\n",
    "DS_face_map = face_DS_face_map.map({'smiling':0, 'serious':1, 'funny':2})\n",
    "print(DS_face_map[1:5])\n",
    "np.save('data/DS_face_map.npy', DS_face_map)"
   ]
  },
  {
   "cell_type": "markdown",
   "id": "5d26a038",
   "metadata": {},
   "source": [
    "导入特征提取后的训练集trainDistance和测试集testDistance"
   ]
  },
  {
   "cell_type": "markdown",
   "id": "a03bac64",
   "metadata": {},
   "source": [
    "导入训练集标签和测试集标签"
   ]
  },
  {
   "cell_type": "code",
   "execution_count": 15,
   "id": "53d77806",
   "metadata": {},
   "outputs": [
    {
     "name": "stdout",
     "output_type": "stream",
     "text": [
      "data/DR_sex_map:  [1 1 1 ... 0 0 0]\n",
      "data/DS_sex_map:  [0 0 1 ... 0 0 0]\n",
      "data/DR_age_map:  [0 0 0 ... 2 3 3]\n",
      "data/DS_age_map:  [3 2 3 ... 2 2 2]\n"
     ]
    }
   ],
   "source": [
    "trainDistance = np.load(\"data/trainDistance.npy\")\n",
    "testDistance = np.load(\"data/testDistance.npy\")\n",
    "DS_sex_map = np.load(\"data/DS_sex_map.npy\")\n",
    "DR_sex_map = np.load(\"data/DR_sex_map.npy\")\n",
    "DS_age_map = np.load(\"data/DS_age_map.npy\")\n",
    "DR_age_map = np.load(\"data/DR_age_map.npy\")\n",
    "print(\"data/DR_sex_map: \", DR_sex_map)\n",
    "print(\"data/DS_sex_map: \", DS_sex_map)\n",
    "print(\"data/DR_age_map: \", DR_age_map)\n",
    "print(\"data/DS_age_map: \", DS_age_map)"
   ]
  },
  {
   "cell_type": "code",
   "execution_count": null,
   "id": "a4be0340",
   "metadata": {},
   "outputs": [],
   "source": []
  }
 ],
 "metadata": {
  "kernelspec": {
   "display_name": "Python 3 (ipykernel)",
   "language": "python",
   "name": "python3"
  },
  "language_info": {
   "codemirror_mode": {
    "name": "ipython",
    "version": 3
   },
   "file_extension": ".py",
   "mimetype": "text/x-python",
   "name": "python",
   "nbconvert_exporter": "python",
   "pygments_lexer": "ipython3",
   "version": "3.9.13"
  }
 },
 "nbformat": 4,
 "nbformat_minor": 5
}
