{
 "cells": [
  {
   "cell_type": "code",
   "execution_count": 4,
   "id": "0a81d413",
   "metadata": {},
   "outputs": [],
   "source": [
    "import pandas as pd\n",
    "import numpy as np\n",
    "from matplotlib import pyplot as plt\n",
    "import cv2\n",
    "import os\n",
    "import re\n",
    "from sklearn.model_selection import cross_val_score  #交叉验证\n",
    "from sklearn.svm import SVC  #支持向量机\n",
    "from sklearn.metrics import accuracy_score  #混淆矩阵准确度\n",
    "from sklearn.metrics import classification_report  #混淆矩阵分类性能评估报告\n",
    "from sklearn.metrics import confusion_matrix    #混淆矩阵数组"
   ]
  },
  {
   "cell_type": "markdown",
   "id": "041b60db-5d9d-4da1-9067-4cadaa5bae31",
   "metadata": {},
   "source": [
    "## 说明：SVM性别分类程序\n",
    "本程序为SVM分类器进行性别分类任务，使用dlib库128维特征向量数据集"
   ]
  },
  {
   "cell_type": "markdown",
   "id": "d2339167",
   "metadata": {
    "tags": []
   },
   "source": [
    "### 导入数据集"
   ]
  },
  {
   "cell_type": "code",
   "execution_count": 43,
   "id": "ae731898",
   "metadata": {},
   "outputs": [
    {
     "name": "stdout",
     "output_type": "stream",
     "text": [
      "data/DR_sex_map:  [1 1 1 ... 0 0 0]\n",
      "data/DS_sex_map:  [0 0 1 ... 0 0 0]\n",
      "data/DR_sex:  ['male' 'male' 'male' ... 'female' 'female' 'female']\n",
      "data/DS_sex:  ['female' 'female' 'male' ... 'female' 'female' 'female']\n"
     ]
    }
   ],
   "source": [
    "trainDistance = np.load(\"data/trainDistance.npy\")\n",
    "testDistance = np.load(\"data/testDistance.npy\")\n",
    "DS_sex_map = np.load(\"data/DS_sex_map.npy\")\n",
    "DR_sex_map = np.load(\"data/DR_sex_map.npy\")\n",
    "DS_sex = np.load(\"data/DS_sex.npy\",allow_pickle=True)\n",
    "DR_sex = np.load(\"data/DR_sex.npy\",allow_pickle=True)\n",
    "print(\"data/DR_sex_map: \", DR_sex_map)\n",
    "print(\"data/DS_sex_map: \", DS_sex_map)\n",
    "print(\"data/DR_sex: \", DR_sex)\n",
    "print(\"data/DS_sex: \", DS_sex)"
   ]
  },
  {
   "cell_type": "markdown",
   "id": "5c4d6375",
   "metadata": {
    "tags": []
   },
   "source": [
    "### 1.使用线性核函数"
   ]
  },
  {
   "cell_type": "code",
   "execution_count": 6,
   "id": "e7b0a764",
   "metadata": {},
   "outputs": [
    {
     "data": {
      "text/plain": [
       "SVC(decision_function_shape='ovo', kernel='linear')"
      ]
     },
     "execution_count": 6,
     "metadata": {},
     "output_type": "execute_result"
    }
   ],
   "source": [
    "#采用sklearn.svm.SVC\n",
    "clf_SVM1 = SVC(kernel='linear',decision_function_shape='ovo')\n",
    "clf_SVM1.fit(trainDistance, DR_sex_map)"
   ]
  },
  {
   "cell_type": "code",
   "execution_count": 7,
   "id": "de6802ad",
   "metadata": {},
   "outputs": [
    {
     "name": "stdout",
     "output_type": "stream",
     "text": [
      "0.9218436873747495\n"
     ]
    }
   ],
   "source": [
    "DS_sex_pre = clf_SVM1.predict(testDistance)\n",
    "accuracy = accuracy_score(DS_sex_map, DS_sex_pre)\n",
    "print(accuracy)"
   ]
  },
  {
   "cell_type": "markdown",
   "id": "e24d7c6a",
   "metadata": {},
   "source": [
    "网格搜索法，调整惩罚因子C"
   ]
  },
  {
   "cell_type": "code",
   "execution_count": 8,
   "id": "8fb7c787",
   "metadata": {
    "tags": []
   },
   "outputs": [
    {
     "name": "stdout",
     "output_type": "stream",
     "text": [
      "线性SVM超参调节的评估标准为 accuracy\n",
      "\n",
      "最佳参数为: {'C': 1, 'kernel': 'linear'}\n",
      "在搜索范围内，对应参数的分类准确度如下：\n",
      "0.575 (+/-0.002) for {'C': 0.01, 'kernel': 'linear'}\n",
      "0.839 (+/-0.281) for {'C': 0.1, 'kernel': 'linear'}\n",
      "0.853 (+/-0.260) for {'C': 1, 'kernel': 'linear'}\n",
      "0.842 (+/-0.269) for {'C': 10, 'kernel': 'linear'}\n",
      "0.840 (+/-0.271) for {'C': 100, 'kernel': 'linear'}\n",
      "0.840 (+/-0.260) for {'C': 1000, 'kernel': 'linear'}\n",
      "\n",
      "对最佳模型做分类结果报告： \n",
      "               precision    recall  f1-score   support\n",
      "\n",
      "      female       0.93      0.85      0.89       719\n",
      "        male       0.92      0.96      0.94      1277\n",
      "\n",
      "    accuracy                           0.92      1996\n",
      "   macro avg       0.92      0.91      0.91      1996\n",
      "weighted avg       0.92      0.92      0.92      1996\n",
      "\n"
     ]
    }
   ],
   "source": [
    "from sklearn.model_selection import GridSearchCV\n",
    "\n",
    "# Set the parameters by cross-validation\n",
    "linear_para = [{'kernel': ['linear'], 'C': [0.01, 0.1, 1, 10, 100, 1000]}]\n",
    "\n",
    "linear_scores = ['accuracy']\n",
    "\n",
    "for score in linear_scores:\n",
    "    print(\"线性SVM超参调节的评估标准为 %s\" % score)\n",
    "    print()\n",
    "\n",
    "    linearclf = GridSearchCV(\n",
    "        SVC(), linear_para, scoring='%s' % score\n",
    "    )\n",
    "    linearclf.fit(trainDistance, DR_sex)\n",
    "\n",
    "    print(\"最佳参数为:\", linearclf.best_params_)\n",
    "    \n",
    "    print(\"在搜索范围内，对应参数的分类准确度如下：\")\n",
    "    means = linearclf.cv_results_['mean_test_score']\n",
    "    stds = linearclf.cv_results_['std_test_score']\n",
    "    for mean, std, params in zip(means, stds, linearclf.cv_results_['params']):\n",
    "        print(\"%0.3f (+/-%0.03f) for %r\" % (mean, std * 2, params))\n",
    "    print()\n",
    "\n",
    "    linearclf_age_pred = linearclf.predict(testDistance)\n",
    "    print('对最佳模型做分类结果报告：', '\\n', classification_report(DS_sex, linearclf_age_pred))"
   ]
  },
  {
   "cell_type": "markdown",
   "id": "48d82bbc-8312-4756-976a-9104e47d40ed",
   "metadata": {},
   "source": [
    "对最优参数进行五折交叉验证"
   ]
  },
  {
   "cell_type": "code",
   "execution_count": 41,
   "id": "3e632111-8898-4da1-82c7-a45ade640d25",
   "metadata": {},
   "outputs": [
    {
     "name": "stdout",
     "output_type": "stream",
     "text": [
      "scores =  [0.75469337 0.93609023 0.9235589  0.9160401  0.90726817]\n",
      "Accuracy = 0.89 (+/- 0.13)\n"
     ]
    }
   ],
   "source": [
    "from sklearn.model_selection import cross_val_score\n",
    "X = np.vstack((trainDistance,testDistance))\n",
    "y = np.hstack((DR_sex, DS_sex))\n",
    "Linear_best = SVC(kernel='linear', C=1)\n",
    "scores_best_Linear = cross_val_score(Linear_best, X, y, cv=5)\n",
    "print('scores = ',scores_best_Linear)\n",
    "print(\"Accuracy = %0.2f (+/- %0.2f)\" % (scores_best_Linear.mean(), scores_best_Linear.std() * 2))"
   ]
  },
  {
   "cell_type": "code",
   "execution_count": 6,
   "id": "cf9a4cc0-d3ab-4090-8e86-3e3eb618429e",
   "metadata": {},
   "outputs": [
    {
     "name": "stdout",
     "output_type": "stream",
     "text": [
      "Linear_sex_accuracy =  0.9218436873747495\n"
     ]
    }
   ],
   "source": [
    "Linear_sex_pre = linearclf.predict(testDistance)\n",
    "Linear_sex_accuracy = accuracy_score(DS_sex, Linear_sex_pre)\n",
    "print('Linear_sex_accuracy = ', Linear_sex_accuracy)"
   ]
  },
  {
   "cell_type": "markdown",
   "id": "1d4378b8",
   "metadata": {
    "tags": []
   },
   "source": [
    "### 2.使用非线性核函数"
   ]
  },
  {
   "cell_type": "markdown",
   "id": "f1fac62f-1dd9-4964-aace-974df09497ad",
   "metadata": {},
   "source": [
    "非线性核函数有高斯径向基核函数rbf，多项式核函数poly，双曲正切核函数sigmoid"
   ]
  },
  {
   "cell_type": "markdown",
   "id": "ea8cad0f",
   "metadata": {},
   "source": [
    "#### （1）不调参"
   ]
  },
  {
   "cell_type": "code",
   "execution_count": 17,
   "id": "151c1198",
   "metadata": {},
   "outputs": [
    {
     "data": {
      "text/plain": [
       "SVC(kernel='poly')"
      ]
     },
     "execution_count": 17,
     "metadata": {},
     "output_type": "execute_result"
    }
   ],
   "source": [
    "from sklearn.svm import SVC\n",
    "\n",
    "clf_SVM2 = SVC(kernel='poly')\n",
    "clf_SVM2.fit(trainDistance, DR_sex_map)"
   ]
  },
  {
   "cell_type": "code",
   "execution_count": 18,
   "id": "abb61733",
   "metadata": {},
   "outputs": [
    {
     "name": "stdout",
     "output_type": "stream",
     "text": [
      "0.9203406813627254\n"
     ]
    }
   ],
   "source": [
    "from sklearn.metrics import accuracy_score\n",
    "DS_sex_pre2 = clf_SVM2.predict(testDistance)\n",
    "accuracy2 = accuracy_score(DS_sex_map, DS_sex_pre2)\n",
    "print(accuracy2)"
   ]
  },
  {
   "cell_type": "markdown",
   "id": "9da13083",
   "metadata": {
    "tags": []
   },
   "source": [
    "#### （2）网格搜索法"
   ]
  },
  {
   "cell_type": "code",
   "execution_count": null,
   "id": "1ca93bfb",
   "metadata": {},
   "outputs": [
    {
     "name": "stdout",
     "output_type": "stream",
     "text": [
      "高斯核SVM超参调节的评估标准为 accuracy\n",
      "\n",
      "最佳参数为: {'C': 100, 'gamma': 0.01, 'kernel': 'sigmoid'}\n",
      "\n",
      "在搜索范围内，对应参数的分类准确度如下：\n",
      "0.845 (+/-0.277) for {'C': 1, 'gamma': 0.1, 'kernel': 'rbf'}\n",
      "0.575 (+/-0.002) for {'C': 1, 'gamma': 0.1, 'kernel': 'poly'}\n",
      "0.838 (+/-0.284) for {'C': 1, 'gamma': 0.1, 'kernel': 'sigmoid'}\n",
      "0.685 (+/-0.091) for {'C': 1, 'gamma': 0.01, 'kernel': 'rbf'}\n",
      "0.575 (+/-0.002) for {'C': 1, 'gamma': 0.01, 'kernel': 'poly'}\n",
      "0.575 (+/-0.002) for {'C': 1, 'gamma': 0.01, 'kernel': 'sigmoid'}\n",
      "0.575 (+/-0.002) for {'C': 1, 'gamma': 0.001, 'kernel': 'rbf'}\n",
      "0.575 (+/-0.002) for {'C': 1, 'gamma': 0.001, 'kernel': 'poly'}\n",
      "0.575 (+/-0.002) for {'C': 1, 'gamma': 0.001, 'kernel': 'sigmoid'}\n",
      "0.575 (+/-0.002) for {'C': 1, 'gamma': 0.0001, 'kernel': 'rbf'}\n",
      "0.575 (+/-0.002) for {'C': 1, 'gamma': 0.0001, 'kernel': 'poly'}\n",
      "0.575 (+/-0.002) for {'C': 1, 'gamma': 0.0001, 'kernel': 'sigmoid'}\n",
      "0.845 (+/-0.255) for {'C': 100, 'gamma': 0.1, 'kernel': 'rbf'}\n",
      "0.850 (+/-0.261) for {'C': 100, 'gamma': 0.1, 'kernel': 'poly'}\n",
      "0.843 (+/-0.267) for {'C': 100, 'gamma': 0.1, 'kernel': 'sigmoid'}\n",
      "0.852 (+/-0.261) for {'C': 100, 'gamma': 0.01, 'kernel': 'rbf'}\n",
      "0.575 (+/-0.002) for {'C': 100, 'gamma': 0.01, 'kernel': 'poly'}\n",
      "0.853 (+/-0.260) for {'C': 100, 'gamma': 0.01, 'kernel': 'sigmoid'}\n",
      "0.846 (+/-0.271) for {'C': 100, 'gamma': 0.001, 'kernel': 'rbf'}\n",
      "0.575 (+/-0.002) for {'C': 100, 'gamma': 0.001, 'kernel': 'poly'}\n",
      "0.839 (+/-0.281) for {'C': 100, 'gamma': 0.001, 'kernel': 'sigmoid'}\n",
      "0.688 (+/-0.097) for {'C': 100, 'gamma': 0.0001, 'kernel': 'rbf'}\n",
      "0.575 (+/-0.002) for {'C': 100, 'gamma': 0.0001, 'kernel': 'poly'}\n",
      "0.575 (+/-0.002) for {'C': 100, 'gamma': 0.0001, 'kernel': 'sigmoid'}\n",
      "0.833 (+/-0.219) for {'C': 1000, 'gamma': 0.1, 'kernel': 'rbf'}\n",
      "0.845 (+/-0.251) for {'C': 1000, 'gamma': 0.1, 'kernel': 'poly'}\n",
      "0.840 (+/-0.259) for {'C': 1000, 'gamma': 0.1, 'kernel': 'sigmoid'}\n",
      "0.845 (+/-0.256) for {'C': 1000, 'gamma': 0.01, 'kernel': 'rbf'}\n",
      "0.575 (+/-0.002) for {'C': 1000, 'gamma': 0.01, 'kernel': 'poly'}\n",
      "0.842 (+/-0.269) for {'C': 1000, 'gamma': 0.01, 'kernel': 'sigmoid'}\n",
      "0.852 (+/-0.261) for {'C': 1000, 'gamma': 0.001, 'kernel': 'rbf'}\n",
      "0.575 (+/-0.002) for {'C': 1000, 'gamma': 0.001, 'kernel': 'poly'}\n",
      "0.853 (+/-0.260) for {'C': 1000, 'gamma': 0.001, 'kernel': 'sigmoid'}\n",
      "0.846 (+/-0.271) for {'C': 1000, 'gamma': 0.0001, 'kernel': 'rbf'}\n",
      "0.575 (+/-0.002) for {'C': 1000, 'gamma': 0.0001, 'kernel': 'poly'}\n",
      "0.839 (+/-0.281) for {'C': 1000, 'gamma': 0.0001, 'kernel': 'sigmoid'}\n",
      "\n",
      "最佳参数分类器的分类结果报告：\n",
      "              precision    recall  f1-score   support\n",
      "\n",
      "      female       0.93      0.85      0.89       719\n",
      "        male       0.92      0.96      0.94      1277\n",
      "\n",
      "    accuracy                           0.92      1996\n",
      "   macro avg       0.92      0.91      0.91      1996\n",
      "weighted avg       0.92      0.92      0.92      1996\n",
      "\n"
     ]
    }
   ],
   "source": [
    "from sklearn.model_selection import GridSearchCV\n",
    "\n",
    "# Set the parameters by cross-validation\n",
    "rbf_para = [{'kernel': ['rbf', 'poly', 'sigmoid'], 'C': [1, 100, 1000], 'gamma' : [1e-1, 1e-2, 1e-3, 1e-4]}]\n",
    "\n",
    "rbf_scores = ['accuracy']\n",
    "\n",
    "for score in rbf_scores:\n",
    "    print(\"高斯核SVM超参调节的评估标准为 %s\" % score)\n",
    "    print()\n",
    "\n",
    "    rbfclf = GridSearchCV(\n",
    "        SVC(), rbf_para, scoring='%s' % score\n",
    "    )\n",
    "    rbfclf.fit(trainDistance, DR_sex)\n",
    "\n",
    "    print(\"最佳参数为:\", rbfclf.best_params_)\n",
    "    print()\n",
    "    \n",
    "    print(\"在搜索范围内，对应参数的分类准确度如下：\")\n",
    "    means = rbfclf.cv_results_['mean_test_score']\n",
    "    stds = rbfclf.cv_results_['std_test_score']\n",
    "    for mean, std, params in zip(means, stds, rbfclf.cv_results_['params']):\n",
    "        print(\"%0.3f (+/-%0.03f) for %r\" % (mean, std * 2, params))\n",
    "        \n",
    "        \n",
    "    print()\n",
    "    \n",
    "    rbfclf_sex_pred = rbfclf.predict(testDistance)\n",
    "    print('最佳参数分类器的分类结果报告：')\n",
    "    print(classification_report(DS_sex, rbfclf_sex_pred))"
   ]
  },
  {
   "cell_type": "markdown",
   "id": "dc757bfd-0ded-43b4-b073-8f92316c6977",
   "metadata": {},
   "source": [
    "对最优模型参数进行五折交叉验证"
   ]
  },
  {
   "cell_type": "code",
   "execution_count": 42,
   "id": "a8ac9f33-a58c-494d-9edf-9c913904cb2a",
   "metadata": {},
   "outputs": [
    {
     "name": "stdout",
     "output_type": "stream",
     "text": [
      "scores =  [0.75093867 0.93107769 0.92606516 0.92230576 0.90977444]\n",
      "Accuracy = 0.89 (+/- 0.14)\n"
     ]
    }
   ],
   "source": [
    "from sklearn.model_selection import cross_val_score\n",
    "X = np.vstack((trainDistance,testDistance))\n",
    "y = np.hstack((DR_sex, DS_sex))\n",
    "# clf_best = SVC(kernel='sigmoid', C=100, gamma=1e-2)\n",
    "clf_best = SVC(kernel='rbf', C=1000, gamma=1e-3)\n",
    "# clf_best = SVC(kernel='poly', C=100, gamma=1e-1)\n",
    "scores_best = cross_val_score(clf_best, X, y, cv=5)\n",
    "print('scores = ',scores_best)\n",
    "print(\"Accuracy = %0.2f (+/- %0.2f)\" % (scores_best.mean(), scores_best.std() * 2))"
   ]
  },
  {
   "cell_type": "code",
   "execution_count": 21,
   "id": "a598eee1",
   "metadata": {},
   "outputs": [
    {
     "name": "stdout",
     "output_type": "stream",
     "text": [
      "rbf_sex_accuracy =  0.9218436873747495\n"
     ]
    }
   ],
   "source": [
    "rbf_sex_pre = rbfclf.predict(testDistance)\n",
    "rbf_sex_accuracy = accuracy_score(DS_sex, rbf_sex_pre)\n",
    "print('rbf_sex_accuracy = ', rbf_sex_accuracy)"
   ]
  },
  {
   "cell_type": "code",
   "execution_count": null,
   "id": "caa4a172-0ccc-46ae-9104-21a3b8edd61d",
   "metadata": {},
   "outputs": [],
   "source": []
  }
 ],
 "metadata": {
  "kernelspec": {
   "display_name": "Python 3 (ipykernel)",
   "language": "python",
   "name": "python3"
  },
  "language_info": {
   "codemirror_mode": {
    "name": "ipython",
    "version": 3
   },
   "file_extension": ".py",
   "mimetype": "text/x-python",
   "name": "python",
   "nbconvert_exporter": "python",
   "pygments_lexer": "ipython3",
   "version": "3.9.13"
  }
 },
 "nbformat": 4,
 "nbformat_minor": 5
}
