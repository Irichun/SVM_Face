{
 "cells": [
  {
   "cell_type": "code",
   "execution_count": 10,
   "id": "c535bcad",
   "metadata": {},
   "outputs": [],
   "source": [
    "import pandas as pd\n",
    "import numpy as np\n",
    "from matplotlib import pyplot as plt\n",
    "import cv2\n",
    "import os\n",
    "import re\n",
    "from sklearn.model_selection import cross_val_score  #交叉验证\n",
    "from sklearn.svm import SVC  #支持向量机\n",
    "from sklearn.metrics import accuracy_score  #混淆矩阵准确度\n",
    "from sklearn.metrics import classification_report  #混淆矩阵分类性能评估报告\n",
    "from sklearn.metrics import confusion_matrix    #混淆矩阵数组"
   ]
  },
  {
   "cell_type": "markdown",
   "id": "3c2f25ea-c46e-4641-b1ec-1880dc1cdb1a",
   "metadata": {},
   "source": [
    "## 说明：\n",
    "本程序为SVM分类器进行年龄分类任务\n",
    "\n",
    "1. 对不均衡样本的分类器性能评估指标的选择实验、特殊采样处理的必要性实验\n",
    "\n",
    "2. 使用非线性核函数SVM分类器，分别选用dlib库128维特征距离数据集、LBP图像PCA降维数据集做测试"
   ]
  },
  {
   "cell_type": "markdown",
   "id": "460e2a6f-87a1-4a91-bd69-c9c2f74287a8",
   "metadata": {
    "tags": []
   },
   "source": [
    "## 导入数据集"
   ]
  },
  {
   "cell_type": "code",
   "execution_count": 35,
   "id": "f272a56f",
   "metadata": {},
   "outputs": [
    {
     "name": "stdout",
     "output_type": "stream",
     "text": [
      "DR_sex_map:  [1 1 1 ... 0 0 0]\n",
      "DS_sex_map:  [0 0 1 ... 0 0 0]\n",
      "DR_age_map:  [0 0 0 ... 2 3 3]\n",
      "DS_age_map:  [3 2 3 ... 2 2 2]\n",
      "DR_sex:  ['male' 'male' 'male' ... 'female' 'female' 'female']\n",
      "DS_sex:  ['female' 'female' 'male' ... 'female' 'female' 'female']\n",
      "DR_age:  ['child' 'child' 'child' ... 'adult' 'senior' 'senior']\n",
      "DS_age:  ['senior' 'adult' 'senior' ... 'adult' 'adult' 'adult']\n"
     ]
    }
   ],
   "source": [
    "trainDistance = np.load(\"data/trainDistance.npy\")\n",
    "testDistance = np.load(\"data/testDistance.npy\")\n",
    "DS_sex_map = np.load(\"data/DS_sex_map.npy\")\n",
    "DR_sex_map = np.load(\"data/DR_sex_map.npy\")\n",
    "DS_age_map = np.load(\"data/DS_age_map.npy\")\n",
    "DR_age_map = np.load(\"data/DR_age_map.npy\")\n",
    "DS_sex = np.load(\"data/DS_sex.npy\",allow_pickle=True)\n",
    "DR_sex = np.load(\"data/DR_sex.npy\",allow_pickle=True)\n",
    "DS_age = np.load(\"data/DS_age.npy\",allow_pickle=True)\n",
    "DR_age = np.load(\"data/DR_age.npy\",allow_pickle=True)\n",
    "print(\"DR_sex_map: \", DR_sex_map)\n",
    "print(\"DS_sex_map: \", DS_sex_map)\n",
    "print(\"DR_age_map: \", DR_age_map)\n",
    "print(\"DS_age_map: \", DS_age_map)\n",
    "print(\"DR_sex: \", DR_sex)\n",
    "print(\"DS_sex: \", DS_sex)\n",
    "print(\"DR_age: \", DR_age)\n",
    "print(\"DS_age: \", DS_age)"
   ]
  },
  {
   "cell_type": "markdown",
   "id": "e14ec222",
   "metadata": {},
   "source": [
    "## 1.OVO LinearSVC"
   ]
  },
  {
   "cell_type": "markdown",
   "id": "7b91d48b-58b9-4f2d-93e4-1b677b637f0c",
   "metadata": {
    "tags": []
   },
   "source": [
    "### 1.1 以一对一线性核SVM为例子，探究不均衡样本age直接使用时，分类器分类情况以及性能评估指标选择"
   ]
  },
  {
   "cell_type": "markdown",
   "id": "984c30bc-ad84-4a42-9b8b-16046b3f5228",
   "metadata": {},
   "source": [
    "#### 1)训练一代一对一线性核SVM分类器clf_ovoLinear，该模型没有加入惩罚因子调参"
   ]
  },
  {
   "cell_type": "code",
   "execution_count": 4,
   "id": "e2bc5233",
   "metadata": {},
   "outputs": [
    {
     "data": {
      "text/plain": [
       "SVC(decision_function_shape='ovo', kernel='linear')"
      ]
     },
     "execution_count": 4,
     "metadata": {},
     "output_type": "execute_result"
    }
   ],
   "source": [
    "#采用sklearn.svm.SVC，类似的有sklearn.svm.LinearSVC\n",
    "from sklearn.model_selection import cross_val_score\n",
    "from sklearn.svm import SVC\n",
    "\n",
    "clf_ovoLinear = SVC(kernel='linear',decision_function_shape='ovo')\n",
    "clf_ovoLinear.fit(trainDistance, DR_age)"
   ]
  },
  {
   "cell_type": "markdown",
   "id": "dcd470bf-6548-40c1-beb3-c91dbac838a6",
   "metadata": {},
   "source": [
    "#### 2)采用accuracy、precision、recall、F1四种性能评估指标对分类器性能进行初步分析"
   ]
  },
  {
   "cell_type": "code",
   "execution_count": 5,
   "id": "6a007a18",
   "metadata": {},
   "outputs": [
    {
     "name": "stdout",
     "output_type": "stream",
     "text": [
      "ovoLinear_accuracy =  0.8862725450901804\n",
      "分类结果报告： \n",
      "               precision    recall  f1-score   support\n",
      "\n",
      "       adult       0.91      0.99      0.95      1730\n",
      "       child       0.62      0.63      0.63        68\n",
      "      senior       0.00      0.00      0.00       115\n",
      "        teen       0.39      0.20      0.27        83\n",
      "\n",
      "    accuracy                           0.89      1996\n",
      "   macro avg       0.48      0.46      0.46      1996\n",
      "weighted avg       0.82      0.89      0.85      1996\n",
      "\n"
     ]
    },
    {
     "name": "stderr",
     "output_type": "stream",
     "text": [
      "C:\\Users\\Rama\\anaconda3\\lib\\site-packages\\sklearn\\metrics\\_classification.py:1318: UndefinedMetricWarning: Precision and F-score are ill-defined and being set to 0.0 in labels with no predicted samples. Use `zero_division` parameter to control this behavior.\n",
      "  _warn_prf(average, modifier, msg_start, len(result))\n",
      "C:\\Users\\Rama\\anaconda3\\lib\\site-packages\\sklearn\\metrics\\_classification.py:1318: UndefinedMetricWarning: Precision and F-score are ill-defined and being set to 0.0 in labels with no predicted samples. Use `zero_division` parameter to control this behavior.\n",
      "  _warn_prf(average, modifier, msg_start, len(result))\n",
      "C:\\Users\\Rama\\anaconda3\\lib\\site-packages\\sklearn\\metrics\\_classification.py:1318: UndefinedMetricWarning: Precision and F-score are ill-defined and being set to 0.0 in labels with no predicted samples. Use `zero_division` parameter to control this behavior.\n",
      "  _warn_prf(average, modifier, msg_start, len(result))\n"
     ]
    }
   ],
   "source": [
    "from sklearn.metrics import accuracy_score\n",
    "ovoLinear_age_pre = clf_ovoLinear.predict(testDistance)\n",
    "ovoLinear_accuracy = accuracy_score(DS_age, ovoLinear_age_pre)\n",
    "print('ovoLinear_accuracy = ', ovoLinear_accuracy)\n",
    "print('分类结果报告：', '\\n', classification_report(DS_age, ovoLinear_age_pre))"
   ]
  },
  {
   "cell_type": "markdown",
   "id": "af78f7f4-f486-4a08-8cfb-819ea0181a32",
   "metadata": {},
   "source": [
    "仅由accuracy会导致“分类器分类准确率达到0.89”的结果，然而由其他三种分类性能评估指标反映的分类器性能缺截然不同。"
   ]
  },
  {
   "cell_type": "markdown",
   "id": "1de3877e-4498-4699-bad0-841cc8e0fa90",
   "metadata": {},
   "source": [
    "由上面的分类结果报告可以看出，只有adult标签在分类中得到了较好的结果，查全率recall达到了0.99、查准率precision = 0.91稍差，推测错分为adult的样本较多；由于adult的样本占据绝对数量优势，推测错分为adult的概率会极大地影响分类器性能。<br/>\n",
    "adult以外的样本的分类性能惨不忍睹，就precision有：child = 0.62，senior = 0.0， teen = 0.39；recall有：child = 0.63， senior = 0.0, teen = 0.20。senior甚至全部错分！<br/>\n",
    "如此低的分数反映出数据量的不均衡导致分类器性能极差，并且分类器的accuracy并不能反映出数据量的不均衡引起的分类器性能差异，必须使用precision、recall以及前两者的调和平均数f1-score才能真正反映不均衡样本训练出的分类器性能。"
   ]
  },
  {
   "cell_type": "markdown",
   "id": "75ef12d6-ec96-486a-bebd-280425371de6",
   "metadata": {},
   "source": [
    "#### 3) 采用混淆矩阵观察样本的错分情况："
   ]
  },
  {
   "cell_type": "code",
   "execution_count": 6,
   "id": "9db1be8e-244f-42e3-9a6f-f12660c90375",
   "metadata": {},
   "outputs": [
    {
     "name": "stdout",
     "output_type": "stream",
     "text": [
      "ovoLinear混淆矩阵如下：\n",
      "\n"
     ]
    }
   ],
   "source": [
    "cfm_ovoLinear = confusion_matrix(DS_age, ovoLinear_age_pre)\n",
    "print('ovoLinear混淆矩阵如下：\\n')"
   ]
  },
  {
   "cell_type": "code",
   "execution_count": 7,
   "id": "7361024b-675c-42ff-a3aa-0161673eeb7c",
   "metadata": {},
   "outputs": [
    {
     "data": {
      "image/png": "[encoded data removed]",
      "text/plain": [
       "<Figure size 640x480 with 2 Axes>"
      ]
     },
     "metadata": {},
     "output_type": "display_data"
    }
   ],
   "source": [
    "from sklearn.metrics import ConfusionMatrixDisplay\n",
    "cfm_ovoLinear_display = ConfusionMatrixDisplay(cfm_ovoLinear).plot()"
   ]
  },
  {
   "cell_type": "markdown",
   "id": "1ed629b2-cef0-4716-b88a-0278ac4014a4",
   "metadata": {},
   "source": [
    "上图中0 = adult， 1 = child， 2 = senior， 3 = teen"
   ]
  },
  {
   "cell_type": "markdown",
   "id": "4b1dc752-bb75-48db-9c30-12730da25785",
   "metadata": {},
   "source": [
    "混淆矩阵结果分析：<br/>\n",
    "1. child中有19.1%错分为adult，0%错分为senior，17.6%错分为teen<br/>\n",
    "2. senior全部错分为adult<br/>\n",
    "3. teen有55.4%错分为adult，24.1%错分为child，0%错分为senior"
   ]
  },
  {
   "cell_type": "markdown",
   "id": "f0985cf3",
   "metadata": {},
   "source": [
    "## 2. 非线性核函数SVM+SMOTE过采样处理数据集进行年龄分类任务"
   ]
  },
  {
   "cell_type": "markdown",
   "id": "e1cd7059-a316-4df7-b63f-c2523b6e074b",
   "metadata": {},
   "source": [
    "使用rbf核SVM与未采样处理数据集初步"
   ]
  },
  {
   "cell_type": "code",
   "execution_count": 18,
   "id": "73277aa8",
   "metadata": {},
   "outputs": [
    {
     "data": {
      "text/plain": [
       "SVC()"
      ]
     },
     "execution_count": 18,
     "metadata": {},
     "output_type": "execute_result"
    }
   ],
   "source": [
    "from sklearn.svm import SVC\n",
    "clf_rbf = SVC(kernel='rbf')\n",
    "clf_rbf.fit(trainDistance, DR_age)"
   ]
  },
  {
   "cell_type": "code",
   "execution_count": 19,
   "id": "a40bfedb",
   "metadata": {},
   "outputs": [
    {
     "name": "stdout",
     "output_type": "stream",
     "text": [
      "rbf_accuracy =  0.8867735470941884\n",
      "分类结果报告： \n",
      "               precision    recall  f1-score   support\n",
      "\n",
      "       adult       0.91      0.99      0.95      1730\n",
      "       child       0.64      0.62      0.63        68\n",
      "      senior       0.00      0.00      0.00       115\n",
      "        teen       0.39      0.19      0.26        83\n",
      "\n",
      "    accuracy                           0.89      1996\n",
      "   macro avg       0.48      0.45      0.46      1996\n",
      "weighted avg       0.82      0.89      0.85      1996\n",
      "\n"
     ]
    },
    {
     "name": "stderr",
     "output_type": "stream",
     "text": [
      "C:\\Users\\Rama\\anaconda3\\lib\\site-packages\\sklearn\\metrics\\_classification.py:1318: UndefinedMetricWarning: Precision and F-score are ill-defined and being set to 0.0 in labels with no predicted samples. Use `zero_division` parameter to control this behavior.\n",
      "  _warn_prf(average, modifier, msg_start, len(result))\n",
      "C:\\Users\\Rama\\anaconda3\\lib\\site-packages\\sklearn\\metrics\\_classification.py:1318: UndefinedMetricWarning: Precision and F-score are ill-defined and being set to 0.0 in labels with no predicted samples. Use `zero_division` parameter to control this behavior.\n",
      "  _warn_prf(average, modifier, msg_start, len(result))\n",
      "C:\\Users\\Rama\\anaconda3\\lib\\site-packages\\sklearn\\metrics\\_classification.py:1318: UndefinedMetricWarning: Precision and F-score are ill-defined and being set to 0.0 in labels with no predicted samples. Use `zero_division` parameter to control this behavior.\n",
      "  _warn_prf(average, modifier, msg_start, len(result))\n"
     ]
    }
   ],
   "source": [
    "rbf_age_pre = clf_rbf.predict(testDistance)\n",
    "rbf_accuracy = accuracy_score(DS_age, rbf_age_pre)\n",
    "print('rbf_accuracy = ', rbf_accuracy)\n",
    "print('分类结果报告：', '\\n', classification_report(DS_age, rbf_age_pre))"
   ]
  },
  {
   "cell_type": "markdown",
   "id": "e7fe9908-7840-45d2-8edd-0afc38953419",
   "metadata": {},
   "source": [
    "### 2.1 使用dlib库128维特征距离数据集"
   ]
  },
  {
   "cell_type": "markdown",
   "id": "c5607542-5fac-46ba-b40b-8ca5dccd7d59",
   "metadata": {},
   "source": [
    "网格搜索法搜索最优参数"
   ]
  },
  {
   "cell_type": "markdown",
   "id": "91b770cc-2237-4cbe-8c5c-03aeed0040d7",
   "metadata": {},
   "source": [
    "指标：f1_micro"
   ]
  },
  {
   "cell_type": "code",
   "execution_count": 13,
   "id": "da37c7cf-8478-4f4e-b617-2d2f155ad722",
   "metadata": {},
   "outputs": [
    {
     "name": "stdout",
     "output_type": "stream",
     "text": [
      "超参调节的评估标准为 f1_micro\n",
      "\n",
      "最佳参数为: {'C': 100, 'decision_function_shape': 'ovo', 'gamma': 0.01, 'kernel': 'sigmoid'}\n",
      "\n",
      "在搜索范围内，对应参数的分类准确度如下：\n",
      "0.762 (+/-0.035) for {'C': 1, 'decision_function_shape': 'ovo', 'gamma': 0.1, 'kernel': 'rbf'}\n",
      "0.720 (+/-0.002) for {'C': 1, 'decision_function_shape': 'ovo', 'gamma': 0.1, 'kernel': 'poly'}\n",
      "0.720 (+/-0.002) for {'C': 1, 'decision_function_shape': 'ovo', 'gamma': 0.1, 'kernel': 'sigmoid'}\n",
      "0.720 (+/-0.002) for {'C': 1, 'decision_function_shape': 'ovo', 'gamma': 0.01, 'kernel': 'rbf'}\n",
      "0.720 (+/-0.002) for {'C': 1, 'decision_function_shape': 'ovo', 'gamma': 0.01, 'kernel': 'poly'}\n",
      "0.720 (+/-0.002) for {'C': 1, 'decision_function_shape': 'ovo', 'gamma': 0.01, 'kernel': 'sigmoid'}\n",
      "0.720 (+/-0.002) for {'C': 1, 'decision_function_shape': 'ovo', 'gamma': 0.001, 'kernel': 'rbf'}\n",
      "0.720 (+/-0.002) for {'C': 1, 'decision_function_shape': 'ovo', 'gamma': 0.001, 'kernel': 'poly'}\n",
      "0.720 (+/-0.002) for {'C': 1, 'decision_function_shape': 'ovo', 'gamma': 0.001, 'kernel': 'sigmoid'}\n",
      "0.762 (+/-0.035) for {'C': 1, 'decision_function_shape': 'ovr', 'gamma': 0.1, 'kernel': 'rbf'}\n",
      "0.720 (+/-0.002) for {'C': 1, 'decision_function_shape': 'ovr', 'gamma': 0.1, 'kernel': 'poly'}\n",
      "0.720 (+/-0.002) for {'C': 1, 'decision_function_shape': 'ovr', 'gamma': 0.1, 'kernel': 'sigmoid'}\n",
      "0.720 (+/-0.002) for {'C': 1, 'decision_function_shape': 'ovr', 'gamma': 0.01, 'kernel': 'rbf'}\n",
      "0.720 (+/-0.002) for {'C': 1, 'decision_function_shape': 'ovr', 'gamma': 0.01, 'kernel': 'poly'}\n",
      "0.720 (+/-0.002) for {'C': 1, 'decision_function_shape': 'ovr', 'gamma': 0.01, 'kernel': 'sigmoid'}\n",
      "0.720 (+/-0.002) for {'C': 1, 'decision_function_shape': 'ovr', 'gamma': 0.001, 'kernel': 'rbf'}\n",
      "0.720 (+/-0.002) for {'C': 1, 'decision_function_shape': 'ovr', 'gamma': 0.001, 'kernel': 'poly'}\n",
      "0.720 (+/-0.002) for {'C': 1, 'decision_function_shape': 'ovr', 'gamma': 0.001, 'kernel': 'sigmoid'}\n",
      "0.792 (+/-0.158) for {'C': 100, 'decision_function_shape': 'ovo', 'gamma': 0.1, 'kernel': 'rbf'}\n",
      "0.805 (+/-0.096) for {'C': 100, 'decision_function_shape': 'ovo', 'gamma': 0.1, 'kernel': 'poly'}\n",
      "0.801 (+/-0.142) for {'C': 100, 'decision_function_shape': 'ovo', 'gamma': 0.1, 'kernel': 'sigmoid'}\n",
      "0.801 (+/-0.107) for {'C': 100, 'decision_function_shape': 'ovo', 'gamma': 0.01, 'kernel': 'rbf'}\n",
      "0.720 (+/-0.002) for {'C': 100, 'decision_function_shape': 'ovo', 'gamma': 0.01, 'kernel': 'poly'}\n",
      "0.805 (+/-0.104) for {'C': 100, 'decision_function_shape': 'ovo', 'gamma': 0.01, 'kernel': 'sigmoid'}\n",
      "0.765 (+/-0.034) for {'C': 100, 'decision_function_shape': 'ovo', 'gamma': 0.001, 'kernel': 'rbf'}\n",
      "0.720 (+/-0.002) for {'C': 100, 'decision_function_shape': 'ovo', 'gamma': 0.001, 'kernel': 'poly'}\n",
      "0.720 (+/-0.002) for {'C': 100, 'decision_function_shape': 'ovo', 'gamma': 0.001, 'kernel': 'sigmoid'}\n",
      "0.792 (+/-0.158) for {'C': 100, 'decision_function_shape': 'ovr', 'gamma': 0.1, 'kernel': 'rbf'}\n",
      "0.805 (+/-0.096) for {'C': 100, 'decision_function_shape': 'ovr', 'gamma': 0.1, 'kernel': 'poly'}\n",
      "0.801 (+/-0.142) for {'C': 100, 'decision_function_shape': 'ovr', 'gamma': 0.1, 'kernel': 'sigmoid'}\n",
      "0.801 (+/-0.107) for {'C': 100, 'decision_function_shape': 'ovr', 'gamma': 0.01, 'kernel': 'rbf'}\n",
      "0.720 (+/-0.002) for {'C': 100, 'decision_function_shape': 'ovr', 'gamma': 0.01, 'kernel': 'poly'}\n",
      "0.805 (+/-0.104) for {'C': 100, 'decision_function_shape': 'ovr', 'gamma': 0.01, 'kernel': 'sigmoid'}\n",
      "0.765 (+/-0.034) for {'C': 100, 'decision_function_shape': 'ovr', 'gamma': 0.001, 'kernel': 'rbf'}\n",
      "0.720 (+/-0.002) for {'C': 100, 'decision_function_shape': 'ovr', 'gamma': 0.001, 'kernel': 'poly'}\n",
      "0.720 (+/-0.002) for {'C': 100, 'decision_function_shape': 'ovr', 'gamma': 0.001, 'kernel': 'sigmoid'}\n",
      "0.784 (+/-0.149) for {'C': 1000, 'decision_function_shape': 'ovo', 'gamma': 0.1, 'kernel': 'rbf'}\n",
      "0.803 (+/-0.168) for {'C': 1000, 'decision_function_shape': 'ovo', 'gamma': 0.1, 'kernel': 'poly'}\n",
      "0.786 (+/-0.139) for {'C': 1000, 'decision_function_shape': 'ovo', 'gamma': 0.1, 'kernel': 'sigmoid'}\n",
      "0.791 (+/-0.155) for {'C': 1000, 'decision_function_shape': 'ovo', 'gamma': 0.01, 'kernel': 'rbf'}\n",
      "0.720 (+/-0.002) for {'C': 1000, 'decision_function_shape': 'ovo', 'gamma': 0.01, 'kernel': 'poly'}\n",
      "0.801 (+/-0.142) for {'C': 1000, 'decision_function_shape': 'ovo', 'gamma': 0.01, 'kernel': 'sigmoid'}\n",
      "0.801 (+/-0.107) for {'C': 1000, 'decision_function_shape': 'ovo', 'gamma': 0.001, 'kernel': 'rbf'}\n",
      "0.720 (+/-0.002) for {'C': 1000, 'decision_function_shape': 'ovo', 'gamma': 0.001, 'kernel': 'poly'}\n",
      "0.805 (+/-0.104) for {'C': 1000, 'decision_function_shape': 'ovo', 'gamma': 0.001, 'kernel': 'sigmoid'}\n",
      "0.784 (+/-0.149) for {'C': 1000, 'decision_function_shape': 'ovr', 'gamma': 0.1, 'kernel': 'rbf'}\n",
      "0.803 (+/-0.168) for {'C': 1000, 'decision_function_shape': 'ovr', 'gamma': 0.1, 'kernel': 'poly'}\n",
      "0.786 (+/-0.139) for {'C': 1000, 'decision_function_shape': 'ovr', 'gamma': 0.1, 'kernel': 'sigmoid'}\n",
      "0.791 (+/-0.155) for {'C': 1000, 'decision_function_shape': 'ovr', 'gamma': 0.01, 'kernel': 'rbf'}\n",
      "0.720 (+/-0.002) for {'C': 1000, 'decision_function_shape': 'ovr', 'gamma': 0.01, 'kernel': 'poly'}\n",
      "0.801 (+/-0.142) for {'C': 1000, 'decision_function_shape': 'ovr', 'gamma': 0.01, 'kernel': 'sigmoid'}\n",
      "0.801 (+/-0.107) for {'C': 1000, 'decision_function_shape': 'ovr', 'gamma': 0.001, 'kernel': 'rbf'}\n",
      "0.720 (+/-0.002) for {'C': 1000, 'decision_function_shape': 'ovr', 'gamma': 0.001, 'kernel': 'poly'}\n",
      "0.805 (+/-0.104) for {'C': 1000, 'decision_function_shape': 'ovr', 'gamma': 0.001, 'kernel': 'sigmoid'}\n",
      "\n",
      "最佳参数分类器的分类结果报告：\n",
      "              precision    recall  f1-score   support\n",
      "\n",
      "       adult       0.91      0.99      0.95      1730\n",
      "       child       0.62      0.63      0.63        68\n",
      "      senior       0.00      0.00      0.00       115\n",
      "        teen       0.39      0.20      0.27        83\n",
      "\n",
      "    accuracy                           0.89      1996\n",
      "   macro avg       0.48      0.46      0.46      1996\n",
      "weighted avg       0.82      0.89      0.85      1996\n",
      "\n"
     ]
    },
    {
     "name": "stderr",
     "output_type": "stream",
     "text": [
      "C:\\Users\\Rama\\anaconda3\\lib\\site-packages\\sklearn\\metrics\\_classification.py:1318: UndefinedMetricWarning: Precision and F-score are ill-defined and being set to 0.0 in labels with no predicted samples. Use `zero_division` parameter to control this behavior.\n",
      "  _warn_prf(average, modifier, msg_start, len(result))\n",
      "C:\\Users\\Rama\\anaconda3\\lib\\site-packages\\sklearn\\metrics\\_classification.py:1318: UndefinedMetricWarning: Precision and F-score are ill-defined and being set to 0.0 in labels with no predicted samples. Use `zero_division` parameter to control this behavior.\n",
      "  _warn_prf(average, modifier, msg_start, len(result))\n",
      "C:\\Users\\Rama\\anaconda3\\lib\\site-packages\\sklearn\\metrics\\_classification.py:1318: UndefinedMetricWarning: Precision and F-score are ill-defined and being set to 0.0 in labels with no predicted samples. Use `zero_division` parameter to control this behavior.\n",
      "  _warn_prf(average, modifier, msg_start, len(result))\n"
     ]
    }
   ],
   "source": [
    "from sklearn.model_selection import GridSearchCV\n",
    "\n",
    "# Set the parameters by cross-validation\n",
    "rbf_para = [{'kernel': ['rbf', 'poly', 'sigmoid'], 'C': [1, 100, 1000], 'gamma' : [1e-1, 1e-2, 1e-3], 'decision_function_shape':['ovo', 'ovr']}]\n",
    "\n",
    "rbf_scores = ['f1_micro']\n",
    "\n",
    "for score in rbf_scores:\n",
    "    print(\"超参调节的评估标准为 %s\" % score)\n",
    "    print()\n",
    "\n",
    "    rbfclf = GridSearchCV(\n",
    "        SVC(), rbf_para, scoring='%s' % score\n",
    "    )\n",
    "    rbfclf.fit(trainDistance, DR_age)\n",
    "\n",
    "    print(\"最佳参数为:\", rbfclf.best_params_)\n",
    "    print()\n",
    "    \n",
    "    print(\"在搜索范围内，对应参数的分类准确度如下：\")\n",
    "    means = rbfclf.cv_results_['mean_test_score']\n",
    "    stds = rbfclf.cv_results_['std_test_score']\n",
    "    for mean, std, params in zip(means, stds, rbfclf.cv_results_['params']):\n",
    "        print(\"%0.3f (+/-%0.03f) for %r\" % (mean, std * 2, params))\n",
    "        \n",
    "        \n",
    "    print()\n",
    "    \n",
    "    rbfclf_age_pred = rbfclf.predict(testDistance)\n",
    "    print('最佳参数分类器的分类结果报告：')\n",
    "    print(classification_report(DS_age, rbfclf_age_pred))"
   ]
  },
  {
   "cell_type": "markdown",
   "id": "12a76314-f743-4c4c-a2db-9294dd8db559",
   "metadata": {},
   "source": [
    "### 2.2 使用LBP图像PCA降维数据集"
   ]
  },
  {
   "cell_type": "markdown",
   "id": "434aa403-2b26-4634-b175-f21025de1d61",
   "metadata": {},
   "source": [
    "指标：f1_macro"
   ]
  },
  {
   "cell_type": "code",
   "execution_count": 14,
   "id": "c79447d5-2abb-4059-a203-fe539dbce4cb",
   "metadata": {},
   "outputs": [
    {
     "name": "stdout",
     "output_type": "stream",
     "text": [
      "超参调节的评估标准为 f1_macro\n",
      "\n",
      "最佳参数为: {'C': 1000, 'decision_function_shape': 'ovo', 'gamma': 0.1, 'kernel': 'poly'}\n",
      "\n",
      "在搜索范围内，对应参数的分类准确度如下：\n",
      "0.333 (+/-0.059) for {'C': 1, 'decision_function_shape': 'ovo', 'gamma': 0.1, 'kernel': 'rbf'}\n",
      "0.209 (+/-0.000) for {'C': 1, 'decision_function_shape': 'ovo', 'gamma': 0.1, 'kernel': 'poly'}\n",
      "0.209 (+/-0.000) for {'C': 1, 'decision_function_shape': 'ovo', 'gamma': 0.1, 'kernel': 'sigmoid'}\n",
      "0.209 (+/-0.000) for {'C': 1, 'decision_function_shape': 'ovo', 'gamma': 0.01, 'kernel': 'rbf'}\n",
      "0.209 (+/-0.000) for {'C': 1, 'decision_function_shape': 'ovo', 'gamma': 0.01, 'kernel': 'poly'}\n",
      "0.209 (+/-0.000) for {'C': 1, 'decision_function_shape': 'ovo', 'gamma': 0.01, 'kernel': 'sigmoid'}\n",
      "0.209 (+/-0.000) for {'C': 1, 'decision_function_shape': 'ovo', 'gamma': 0.001, 'kernel': 'rbf'}\n",
      "0.209 (+/-0.000) for {'C': 1, 'decision_function_shape': 'ovo', 'gamma': 0.001, 'kernel': 'poly'}\n",
      "0.209 (+/-0.000) for {'C': 1, 'decision_function_shape': 'ovo', 'gamma': 0.001, 'kernel': 'sigmoid'}\n",
      "0.333 (+/-0.059) for {'C': 1, 'decision_function_shape': 'ovr', 'gamma': 0.1, 'kernel': 'rbf'}\n",
      "0.209 (+/-0.000) for {'C': 1, 'decision_function_shape': 'ovr', 'gamma': 0.1, 'kernel': 'poly'}\n",
      "0.209 (+/-0.000) for {'C': 1, 'decision_function_shape': 'ovr', 'gamma': 0.1, 'kernel': 'sigmoid'}\n",
      "0.209 (+/-0.000) for {'C': 1, 'decision_function_shape': 'ovr', 'gamma': 0.01, 'kernel': 'rbf'}\n",
      "0.209 (+/-0.000) for {'C': 1, 'decision_function_shape': 'ovr', 'gamma': 0.01, 'kernel': 'poly'}\n",
      "0.209 (+/-0.000) for {'C': 1, 'decision_function_shape': 'ovr', 'gamma': 0.01, 'kernel': 'sigmoid'}\n",
      "0.209 (+/-0.000) for {'C': 1, 'decision_function_shape': 'ovr', 'gamma': 0.001, 'kernel': 'rbf'}\n",
      "0.209 (+/-0.000) for {'C': 1, 'decision_function_shape': 'ovr', 'gamma': 0.001, 'kernel': 'poly'}\n",
      "0.209 (+/-0.000) for {'C': 1, 'decision_function_shape': 'ovr', 'gamma': 0.001, 'kernel': 'sigmoid'}\n",
      "0.624 (+/-0.177) for {'C': 100, 'decision_function_shape': 'ovo', 'gamma': 0.1, 'kernel': 'rbf'}\n",
      "0.469 (+/-0.071) for {'C': 100, 'decision_function_shape': 'ovo', 'gamma': 0.1, 'kernel': 'poly'}\n",
      "0.624 (+/-0.181) for {'C': 100, 'decision_function_shape': 'ovo', 'gamma': 0.1, 'kernel': 'sigmoid'}\n",
      "0.492 (+/-0.108) for {'C': 100, 'decision_function_shape': 'ovo', 'gamma': 0.01, 'kernel': 'rbf'}\n",
      "0.209 (+/-0.000) for {'C': 100, 'decision_function_shape': 'ovo', 'gamma': 0.01, 'kernel': 'poly'}\n",
      "0.473 (+/-0.087) for {'C': 100, 'decision_function_shape': 'ovo', 'gamma': 0.01, 'kernel': 'sigmoid'}\n",
      "0.340 (+/-0.053) for {'C': 100, 'decision_function_shape': 'ovo', 'gamma': 0.001, 'kernel': 'rbf'}\n",
      "0.209 (+/-0.000) for {'C': 100, 'decision_function_shape': 'ovo', 'gamma': 0.001, 'kernel': 'poly'}\n",
      "0.209 (+/-0.000) for {'C': 100, 'decision_function_shape': 'ovo', 'gamma': 0.001, 'kernel': 'sigmoid'}\n",
      "0.624 (+/-0.177) for {'C': 100, 'decision_function_shape': 'ovr', 'gamma': 0.1, 'kernel': 'rbf'}\n",
      "0.469 (+/-0.071) for {'C': 100, 'decision_function_shape': 'ovr', 'gamma': 0.1, 'kernel': 'poly'}\n",
      "0.624 (+/-0.181) for {'C': 100, 'decision_function_shape': 'ovr', 'gamma': 0.1, 'kernel': 'sigmoid'}\n",
      "0.492 (+/-0.108) for {'C': 100, 'decision_function_shape': 'ovr', 'gamma': 0.01, 'kernel': 'rbf'}\n",
      "0.209 (+/-0.000) for {'C': 100, 'decision_function_shape': 'ovr', 'gamma': 0.01, 'kernel': 'poly'}\n",
      "0.473 (+/-0.087) for {'C': 100, 'decision_function_shape': 'ovr', 'gamma': 0.01, 'kernel': 'sigmoid'}\n",
      "0.340 (+/-0.053) for {'C': 100, 'decision_function_shape': 'ovr', 'gamma': 0.001, 'kernel': 'rbf'}\n",
      "0.209 (+/-0.000) for {'C': 100, 'decision_function_shape': 'ovr', 'gamma': 0.001, 'kernel': 'poly'}\n",
      "0.209 (+/-0.000) for {'C': 100, 'decision_function_shape': 'ovr', 'gamma': 0.001, 'kernel': 'sigmoid'}\n",
      "0.614 (+/-0.172) for {'C': 1000, 'decision_function_shape': 'ovo', 'gamma': 0.1, 'kernel': 'rbf'}\n",
      "0.635 (+/-0.211) for {'C': 1000, 'decision_function_shape': 'ovo', 'gamma': 0.1, 'kernel': 'poly'}\n",
      "0.609 (+/-0.166) for {'C': 1000, 'decision_function_shape': 'ovo', 'gamma': 0.1, 'kernel': 'sigmoid'}\n",
      "0.627 (+/-0.181) for {'C': 1000, 'decision_function_shape': 'ovo', 'gamma': 0.01, 'kernel': 'rbf'}\n",
      "0.209 (+/-0.000) for {'C': 1000, 'decision_function_shape': 'ovo', 'gamma': 0.01, 'kernel': 'poly'}\n",
      "0.624 (+/-0.182) for {'C': 1000, 'decision_function_shape': 'ovo', 'gamma': 0.01, 'kernel': 'sigmoid'}\n",
      "0.492 (+/-0.108) for {'C': 1000, 'decision_function_shape': 'ovo', 'gamma': 0.001, 'kernel': 'rbf'}\n",
      "0.209 (+/-0.000) for {'C': 1000, 'decision_function_shape': 'ovo', 'gamma': 0.001, 'kernel': 'poly'}\n",
      "0.473 (+/-0.087) for {'C': 1000, 'decision_function_shape': 'ovo', 'gamma': 0.001, 'kernel': 'sigmoid'}\n",
      "0.614 (+/-0.172) for {'C': 1000, 'decision_function_shape': 'ovr', 'gamma': 0.1, 'kernel': 'rbf'}\n",
      "0.635 (+/-0.211) for {'C': 1000, 'decision_function_shape': 'ovr', 'gamma': 0.1, 'kernel': 'poly'}\n",
      "0.609 (+/-0.166) for {'C': 1000, 'decision_function_shape': 'ovr', 'gamma': 0.1, 'kernel': 'sigmoid'}\n",
      "0.627 (+/-0.181) for {'C': 1000, 'decision_function_shape': 'ovr', 'gamma': 0.01, 'kernel': 'rbf'}\n",
      "0.209 (+/-0.000) for {'C': 1000, 'decision_function_shape': 'ovr', 'gamma': 0.01, 'kernel': 'poly'}\n",
      "0.624 (+/-0.182) for {'C': 1000, 'decision_function_shape': 'ovr', 'gamma': 0.01, 'kernel': 'sigmoid'}\n",
      "0.492 (+/-0.108) for {'C': 1000, 'decision_function_shape': 'ovr', 'gamma': 0.001, 'kernel': 'rbf'}\n",
      "0.209 (+/-0.000) for {'C': 1000, 'decision_function_shape': 'ovr', 'gamma': 0.001, 'kernel': 'poly'}\n",
      "0.473 (+/-0.087) for {'C': 1000, 'decision_function_shape': 'ovr', 'gamma': 0.001, 'kernel': 'sigmoid'}\n",
      "\n",
      "最佳参数分类器的分类结果报告：\n",
      "              precision    recall  f1-score   support\n",
      "\n",
      "       adult       0.94      0.97      0.95      1730\n",
      "       child       0.62      0.65      0.63        68\n",
      "      senior       0.84      0.49      0.62       115\n",
      "        teen       0.29      0.25      0.27        83\n",
      "\n",
      "    accuracy                           0.90      1996\n",
      "   macro avg       0.67      0.59      0.62      1996\n",
      "weighted avg       0.89      0.90      0.89      1996\n",
      "\n"
     ]
    }
   ],
   "source": [
    "from sklearn.model_selection import GridSearchCV\n",
    "\n",
    "# Set the parameters by cross-validation\n",
    "rbf_para = [{'kernel': ['rbf', 'poly', 'sigmoid'], 'C': [1, 100, 1000], 'gamma' : [1e-1, 1e-2, 1e-3], 'decision_function_shape':['ovo', 'ovr']}]\n",
    "\n",
    "rbf_scores = ['f1_macro']\n",
    "\n",
    "for score in rbf_scores:\n",
    "    print(\"超参调节的评估标准为 %s\" % score)\n",
    "    print()\n",
    "\n",
    "    rbfclf = GridSearchCV(\n",
    "        SVC(), rbf_para, scoring='%s' % score\n",
    "    )\n",
    "    rbfclf.fit(trainDistance, DR_age)\n",
    "\n",
    "    print(\"最佳参数为:\", rbfclf.best_params_)\n",
    "    print()\n",
    "    \n",
    "    print(\"在搜索范围内，对应参数的分类准确度如下：\")\n",
    "    means = rbfclf.cv_results_['mean_test_score']\n",
    "    stds = rbfclf.cv_results_['std_test_score']\n",
    "    for mean, std, params in zip(means, stds, rbfclf.cv_results_['params']):\n",
    "        print(\"%0.3f (+/-%0.03f) for %r\" % (mean, std * 2, params))\n",
    "        \n",
    "        \n",
    "    print()\n",
    "    \n",
    "    rbfclf_age_pred = rbfclf.predict(testDistance)\n",
    "    print('最佳参数分类器的分类结果报告：')\n",
    "    print(classification_report(DS_age, rbfclf_age_pred))"
   ]
  },
  {
   "cell_type": "code",
   "execution_count": 15,
   "id": "c039cc2a-a575-4553-8ca6-fa30abffc4a1",
   "metadata": {},
   "outputs": [
    {
     "name": "stdout",
     "output_type": "stream",
     "text": [
      "rbf_age_accuracy =  0.8987975951903807\n"
     ]
    }
   ],
   "source": [
    "rbf_age_pre = rbfclf.predict(testDistance)\n",
    "rbf_age_accuracy = accuracy_score(DS_age, rbf_age_pre)\n",
    "print('rbf_age_accuracy = ', rbf_age_accuracy)"
   ]
  },
  {
   "cell_type": "code",
   "execution_count": 16,
   "id": "28fda4de-2c3d-4fe8-9afe-851afeabf39f",
   "metadata": {},
   "outputs": [
    {
     "name": "stdout",
     "output_type": "stream",
     "text": [
      "ovoLinear混淆矩阵如下：\n",
      "\n"
     ]
    },
    {
     "data": {
      "text/plain": [
       "<sklearn.metrics._plot.confusion_matrix.ConfusionMatrixDisplay at 0x129729ac5b0>"
      ]
     },
     "execution_count": 16,
     "metadata": {},
     "output_type": "execute_result"
    },
    {
     "data": {
      "image/png": "[encoded data removed]",
      "text/plain": [
       "<Figure size 640x480 with 2 Axes>"
      ]
     },
     "metadata": {},
     "output_type": "display_data"
    }
   ],
   "source": [
    "cfm_rbf = confusion_matrix(DS_age, rbf_age_pre)\n",
    "print('ovoLinear混淆矩阵如下：\\n')\n",
    "from sklearn.metrics import ConfusionMatrixDisplay\n",
    "ConfusionMatrixDisplay(cfm_rbf).plot()"
   ]
  },
  {
   "cell_type": "markdown",
   "id": "10e83f0b-cdf8-4c12-9375-71d792d25d11",
   "metadata": {},
   "source": [
    "六折交叉验证"
   ]
  },
  {
   "cell_type": "code",
   "execution_count": 34,
   "id": "545ee429-7836-4751-b7aa-a97ad31f52cf",
   "metadata": {},
   "outputs": [
    {
     "name": "stdout",
     "output_type": "stream",
     "text": [
      "scores =  [0.60329185 0.65589654 0.63573476 0.75268538 0.67162145 0.68207886]\n",
      "f1_macro = 0.67 (+/- 0.09)\n"
     ]
    }
   ],
   "source": [
    "from sklearn.model_selection import cross_val_score\n",
    "X = np.vstack((trainDistance,testDistance))\n",
    "y = np.hstack((DR_age, DS_age))\n",
    "# clf_best = SVC(kernel='sigmoid', C=1000, gamma=1e-2, decision_function_shape='ovo')\n",
    "# clf_best = SVC(kernel='rbf', C=100, gamma=1e-2, decision_function_shape='ovo')\n",
    "clf_best = SVC(kernel='poly', C=1000, gamma=1e-1, decision_function_shape='ovo')\n",
    "scores_best = cross_val_score(clf_best, X, y, cv=6, scoring='f1_macro')\n",
    "print('scores = ',scores_best)\n",
    "print(\"f1_macro = %0.2f (+/- %0.2f)\" % (scores_best.mean(), scores_best.std() * 2))"
   ]
  },
  {
   "cell_type": "code",
   "execution_count": null,
   "id": "ff11b09a-129c-44cf-bc2d-15b68b846514",
   "metadata": {},
   "outputs": [],
   "source": []
  }
 ],
 "metadata": {
  "kernelspec": {
   "display_name": "Python 3 (ipykernel)",
   "language": "python",
   "name": "python3"
  },
  "language_info": {
   "codemirror_mode": {
    "name": "ipython",
    "version": 3
   },
   "file_extension": ".py",
   "mimetype": "text/x-python",
   "name": "python",
   "nbconvert_exporter": "python",
   "pygments_lexer": "ipython3",
   "version": "3.9.13"
  }
 },
 "nbformat": 4,
 "nbformat_minor": 5
}
